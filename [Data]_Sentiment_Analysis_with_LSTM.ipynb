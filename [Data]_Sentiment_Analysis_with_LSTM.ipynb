{
  "nbformat": 4,
  "nbformat_minor": 0,
  "metadata": {
    "colab": {
      "name": "[Data] Sentiment Analysis with LSTM",
      "provenance": [],
      "collapsed_sections": [],
      "toc_visible": true
    },
    "kernelspec": {
      "name": "python3",
      "display_name": "Python 3"
    },
    "language_info": {
      "name": "python"
    },
    "widgets": {
      "application/vnd.jupyter.widget-state+json": {
        "a3a96d93a13d422c823fac1da77e40c0": {
          "model_module": "@jupyter-widgets/controls",
          "model_name": "HBoxModel",
          "model_module_version": "1.5.0",
          "state": {
            "_view_name": "HBoxView",
            "_dom_classes": [],
            "_model_name": "HBoxModel",
            "_view_module": "@jupyter-widgets/controls",
            "_model_module_version": "1.5.0",
            "_view_count": null,
            "_view_module_version": "1.5.0",
            "box_style": "",
            "layout": "IPY_MODEL_903814baced4430280a586b4d1054b31",
            "_model_module": "@jupyter-widgets/controls",
            "children": [
              "IPY_MODEL_7197c41b2daa4e57890ffc401ad36cd0",
              "IPY_MODEL_25e1f7b926d146b3b05959311e0ee067",
              "IPY_MODEL_ee678fa012d84b248289014ea6469dad"
            ]
          }
        },
        "903814baced4430280a586b4d1054b31": {
          "model_module": "@jupyter-widgets/base",
          "model_name": "LayoutModel",
          "model_module_version": "1.2.0",
          "state": {
            "_view_name": "LayoutView",
            "grid_template_rows": null,
            "right": null,
            "justify_content": null,
            "_view_module": "@jupyter-widgets/base",
            "overflow": null,
            "_model_module_version": "1.2.0",
            "_view_count": null,
            "flex_flow": null,
            "width": null,
            "min_width": null,
            "border": null,
            "align_items": null,
            "bottom": null,
            "_model_module": "@jupyter-widgets/base",
            "top": null,
            "grid_column": null,
            "overflow_y": null,
            "overflow_x": null,
            "grid_auto_flow": null,
            "grid_area": null,
            "grid_template_columns": null,
            "flex": null,
            "_model_name": "LayoutModel",
            "justify_items": null,
            "grid_row": null,
            "max_height": null,
            "align_content": null,
            "visibility": null,
            "align_self": null,
            "height": null,
            "min_height": null,
            "padding": null,
            "grid_auto_rows": null,
            "grid_gap": null,
            "max_width": null,
            "order": null,
            "_view_module_version": "1.2.0",
            "grid_template_areas": null,
            "object_position": null,
            "object_fit": null,
            "grid_auto_columns": null,
            "margin": null,
            "display": null,
            "left": null
          }
        },
        "7197c41b2daa4e57890ffc401ad36cd0": {
          "model_module": "@jupyter-widgets/controls",
          "model_name": "HTMLModel",
          "model_module_version": "1.5.0",
          "state": {
            "_view_name": "HTMLView",
            "style": "IPY_MODEL_84869e60351a402695b2bc20f78cd4fa",
            "_dom_classes": [],
            "description": "",
            "_model_name": "HTMLModel",
            "placeholder": "​",
            "_view_module": "@jupyter-widgets/controls",
            "_model_module_version": "1.5.0",
            "value": "100%",
            "_view_count": null,
            "_view_module_version": "1.5.0",
            "description_tooltip": null,
            "_model_module": "@jupyter-widgets/controls",
            "layout": "IPY_MODEL_9832e69d6e6c4e288dc259fc939c0705"
          }
        },
        "25e1f7b926d146b3b05959311e0ee067": {
          "model_module": "@jupyter-widgets/controls",
          "model_name": "FloatProgressModel",
          "model_module_version": "1.5.0",
          "state": {
            "_view_name": "ProgressView",
            "style": "IPY_MODEL_82af1b1a705043f8921324339af0280c",
            "_dom_classes": [],
            "description": "",
            "_model_name": "FloatProgressModel",
            "bar_style": "success",
            "max": 500,
            "_view_module": "@jupyter-widgets/controls",
            "_model_module_version": "1.5.0",
            "value": 500,
            "_view_count": null,
            "_view_module_version": "1.5.0",
            "orientation": "horizontal",
            "min": 0,
            "description_tooltip": null,
            "_model_module": "@jupyter-widgets/controls",
            "layout": "IPY_MODEL_b1319825b2c1487886e220d1980e15c4"
          }
        },
        "ee678fa012d84b248289014ea6469dad": {
          "model_module": "@jupyter-widgets/controls",
          "model_name": "HTMLModel",
          "model_module_version": "1.5.0",
          "state": {
            "_view_name": "HTMLView",
            "style": "IPY_MODEL_02d7cc7e91b143df9848071b24c7ce08",
            "_dom_classes": [],
            "description": "",
            "_model_name": "HTMLModel",
            "placeholder": "​",
            "_view_module": "@jupyter-widgets/controls",
            "_model_module_version": "1.5.0",
            "value": " 500/500 [17:37&lt;00:00,  2.10s/it]",
            "_view_count": null,
            "_view_module_version": "1.5.0",
            "description_tooltip": null,
            "_model_module": "@jupyter-widgets/controls",
            "layout": "IPY_MODEL_2ae6e9f64fe540c2a82e7e4c267fe23c"
          }
        },
        "84869e60351a402695b2bc20f78cd4fa": {
          "model_module": "@jupyter-widgets/controls",
          "model_name": "DescriptionStyleModel",
          "model_module_version": "1.5.0",
          "state": {
            "_view_name": "StyleView",
            "_model_name": "DescriptionStyleModel",
            "description_width": "",
            "_view_module": "@jupyter-widgets/base",
            "_model_module_version": "1.5.0",
            "_view_count": null,
            "_view_module_version": "1.2.0",
            "_model_module": "@jupyter-widgets/controls"
          }
        },
        "9832e69d6e6c4e288dc259fc939c0705": {
          "model_module": "@jupyter-widgets/base",
          "model_name": "LayoutModel",
          "model_module_version": "1.2.0",
          "state": {
            "_view_name": "LayoutView",
            "grid_template_rows": null,
            "right": null,
            "justify_content": null,
            "_view_module": "@jupyter-widgets/base",
            "overflow": null,
            "_model_module_version": "1.2.0",
            "_view_count": null,
            "flex_flow": null,
            "width": null,
            "min_width": null,
            "border": null,
            "align_items": null,
            "bottom": null,
            "_model_module": "@jupyter-widgets/base",
            "top": null,
            "grid_column": null,
            "overflow_y": null,
            "overflow_x": null,
            "grid_auto_flow": null,
            "grid_area": null,
            "grid_template_columns": null,
            "flex": null,
            "_model_name": "LayoutModel",
            "justify_items": null,
            "grid_row": null,
            "max_height": null,
            "align_content": null,
            "visibility": null,
            "align_self": null,
            "height": null,
            "min_height": null,
            "padding": null,
            "grid_auto_rows": null,
            "grid_gap": null,
            "max_width": null,
            "order": null,
            "_view_module_version": "1.2.0",
            "grid_template_areas": null,
            "object_position": null,
            "object_fit": null,
            "grid_auto_columns": null,
            "margin": null,
            "display": null,
            "left": null
          }
        },
        "82af1b1a705043f8921324339af0280c": {
          "model_module": "@jupyter-widgets/controls",
          "model_name": "ProgressStyleModel",
          "model_module_version": "1.5.0",
          "state": {
            "_view_name": "StyleView",
            "_model_name": "ProgressStyleModel",
            "description_width": "",
            "_view_module": "@jupyter-widgets/base",
            "_model_module_version": "1.5.0",
            "_view_count": null,
            "_view_module_version": "1.2.0",
            "bar_color": null,
            "_model_module": "@jupyter-widgets/controls"
          }
        },
        "b1319825b2c1487886e220d1980e15c4": {
          "model_module": "@jupyter-widgets/base",
          "model_name": "LayoutModel",
          "model_module_version": "1.2.0",
          "state": {
            "_view_name": "LayoutView",
            "grid_template_rows": null,
            "right": null,
            "justify_content": null,
            "_view_module": "@jupyter-widgets/base",
            "overflow": null,
            "_model_module_version": "1.2.0",
            "_view_count": null,
            "flex_flow": null,
            "width": null,
            "min_width": null,
            "border": null,
            "align_items": null,
            "bottom": null,
            "_model_module": "@jupyter-widgets/base",
            "top": null,
            "grid_column": null,
            "overflow_y": null,
            "overflow_x": null,
            "grid_auto_flow": null,
            "grid_area": null,
            "grid_template_columns": null,
            "flex": null,
            "_model_name": "LayoutModel",
            "justify_items": null,
            "grid_row": null,
            "max_height": null,
            "align_content": null,
            "visibility": null,
            "align_self": null,
            "height": null,
            "min_height": null,
            "padding": null,
            "grid_auto_rows": null,
            "grid_gap": null,
            "max_width": null,
            "order": null,
            "_view_module_version": "1.2.0",
            "grid_template_areas": null,
            "object_position": null,
            "object_fit": null,
            "grid_auto_columns": null,
            "margin": null,
            "display": null,
            "left": null
          }
        },
        "02d7cc7e91b143df9848071b24c7ce08": {
          "model_module": "@jupyter-widgets/controls",
          "model_name": "DescriptionStyleModel",
          "model_module_version": "1.5.0",
          "state": {
            "_view_name": "StyleView",
            "_model_name": "DescriptionStyleModel",
            "description_width": "",
            "_view_module": "@jupyter-widgets/base",
            "_model_module_version": "1.5.0",
            "_view_count": null,
            "_view_module_version": "1.2.0",
            "_model_module": "@jupyter-widgets/controls"
          }
        },
        "2ae6e9f64fe540c2a82e7e4c267fe23c": {
          "model_module": "@jupyter-widgets/base",
          "model_name": "LayoutModel",
          "model_module_version": "1.2.0",
          "state": {
            "_view_name": "LayoutView",
            "grid_template_rows": null,
            "right": null,
            "justify_content": null,
            "_view_module": "@jupyter-widgets/base",
            "overflow": null,
            "_model_module_version": "1.2.0",
            "_view_count": null,
            "flex_flow": null,
            "width": null,
            "min_width": null,
            "border": null,
            "align_items": null,
            "bottom": null,
            "_model_module": "@jupyter-widgets/base",
            "top": null,
            "grid_column": null,
            "overflow_y": null,
            "overflow_x": null,
            "grid_auto_flow": null,
            "grid_area": null,
            "grid_template_columns": null,
            "flex": null,
            "_model_name": "LayoutModel",
            "justify_items": null,
            "grid_row": null,
            "max_height": null,
            "align_content": null,
            "visibility": null,
            "align_self": null,
            "height": null,
            "min_height": null,
            "padding": null,
            "grid_auto_rows": null,
            "grid_gap": null,
            "max_width": null,
            "order": null,
            "_view_module_version": "1.2.0",
            "grid_template_areas": null,
            "object_position": null,
            "object_fit": null,
            "grid_auto_columns": null,
            "margin": null,
            "display": null,
            "left": null
          }
        }
      }
    }
  },
  "cells": [
    {
      "cell_type": "markdown",
      "metadata": {
        "id": "Bko9SbIGwXTm"
      },
      "source": [
        "# **Sentiment Analysis**\n",
        "- Text = Topic + Opinion\n",
        "- Topic Modeling\n",
        "- Opinion Mining\n",
        "  1. 감정 어휘 사전(afinn)을 통한 감정 상태 분류\n",
        "  2. Deep Learning (LSTM model) 을 이용한 감정 상태 분류"
      ]
    },
    {
      "cell_type": "markdown",
      "metadata": {
        "id": "awLIuBu8Wd_1"
      },
      "source": [
        "## **1. Afinn 감정어휘사전 사용**"
      ]
    },
    {
      "cell_type": "code",
      "metadata": {
        "colab": {
          "base_uri": "https://localhost:8080/"
        },
        "id": "MV7GM87T0AGr",
        "outputId": "042d599e-3a32-41a5-c58c-a68bedc68a1c"
      },
      "source": [
        "!pip install afinn"
      ],
      "execution_count": 1,
      "outputs": [
        {
          "output_type": "stream",
          "name": "stdout",
          "text": [
            "Collecting afinn\n",
            "  Downloading afinn-0.1.tar.gz (52 kB)\n",
            "\u001b[?25l\r\u001b[K     |██████▎                         | 10 kB 20.3 MB/s eta 0:00:01\r\u001b[K     |████████████▌                   | 20 kB 24.3 MB/s eta 0:00:01\r\u001b[K     |██████████████████▊             | 30 kB 12.1 MB/s eta 0:00:01\r\u001b[K     |█████████████████████████       | 40 kB 9.5 MB/s eta 0:00:01\r\u001b[K     |███████████████████████████████▏| 51 kB 5.3 MB/s eta 0:00:01\r\u001b[K     |████████████████████████████████| 52 kB 1.0 MB/s \n",
            "\u001b[?25hBuilding wheels for collected packages: afinn\n",
            "  Building wheel for afinn (setup.py) ... \u001b[?25l\u001b[?25hdone\n",
            "  Created wheel for afinn: filename=afinn-0.1-py3-none-any.whl size=53448 sha256=ede9ad72e4ef2b11abc0c02974eaa1b46953f051d666701f3ee5c270cb342271\n",
            "  Stored in directory: /root/.cache/pip/wheels/9d/16/3a/9f0953027434eab5dadf3f33ab3298fa95afa8292fcf7aba75\n",
            "Successfully built afinn\n",
            "Installing collected packages: afinn\n",
            "Successfully installed afinn-0.1\n"
          ]
        }
      ]
    },
    {
      "cell_type": "markdown",
      "metadata": {
        "id": "G33_us9WzS33"
      },
      "source": [
        "### **Dataset 준비**"
      ]
    },
    {
      "cell_type": "code",
      "metadata": {
        "colab": {
          "base_uri": "https://localhost:8080/"
        },
        "id": "i5JYKhlcz52b",
        "outputId": "8352b74d-d50d-4b95-a595-0cd51e546c51"
      },
      "source": [
        "from sklearn.datasets import fetch_20newsgroups\n",
        "\n",
        "news_data = fetch_20newsgroups(subset=\"train\")"
      ],
      "execution_count": 2,
      "outputs": [
        {
          "output_type": "stream",
          "name": "stderr",
          "text": [
            "Downloading 20news dataset. This may take a few minutes.\n",
            "Downloading dataset from https://ndownloader.figshare.com/files/5975967 (14 MB)\n"
          ]
        }
      ]
    },
    {
      "cell_type": "code",
      "metadata": {
        "colab": {
          "base_uri": "https://localhost:8080/",
          "height": 106
        },
        "id": "hzRqGPkB09ux",
        "outputId": "ce56ab29-c045-42dd-b33c-f9f8ad561f20"
      },
      "source": [
        "news_data.data[0]"
      ],
      "execution_count": 3,
      "outputs": [
        {
          "output_type": "execute_result",
          "data": {
            "application/vnd.google.colaboratory.intrinsic+json": {
              "type": "string"
            },
            "text/plain": [
              "\"From: lerxst@wam.umd.edu (where's my thing)\\nSubject: WHAT car is this!?\\nNntp-Posting-Host: rac3.wam.umd.edu\\nOrganization: University of Maryland, College Park\\nLines: 15\\n\\n I was wondering if anyone out there could enlighten me on this car I saw\\nthe other day. It was a 2-door sports car, looked to be from the late 60s/\\nearly 70s. It was called a Bricklin. The doors were really small. In addition,\\nthe front bumper was separate from the rest of the body. This is \\nall I know. If anyone can tellme a model name, engine specs, years\\nof production, where this car is made, history, or whatever info you\\nhave on this funky looking car, please e-mail.\\n\\nThanks,\\n- IL\\n   ---- brought to you by your neighborhood Lerxst ----\\n\\n\\n\\n\\n\""
            ]
          },
          "metadata": {},
          "execution_count": 3
        }
      ]
    },
    {
      "cell_type": "markdown",
      "metadata": {
        "id": "yb2o-5couLIS"
      },
      "source": [
        "### **감정 상태 분류 및 시각화**\n",
        "- afinn : 감정 단어 사전\n",
        "- afinn.score(data)"
      ]
    },
    {
      "cell_type": "code",
      "metadata": {
        "colab": {
          "base_uri": "https://localhost:8080/"
        },
        "id": "MyqpAZTW2Cko",
        "outputId": "da3743c4-d79d-45b3-ab26-60c5eb1da756"
      },
      "source": [
        "from afinn import Afinn\n",
        "\n",
        "afin = Afinn()\n",
        "for i in range(5):\n",
        "    print(news_data.data[i])\n",
        "    print(afin.score(news_data.data[i]))\n",
        "    print(\"*******\")"
      ],
      "execution_count": 4,
      "outputs": [
        {
          "output_type": "stream",
          "name": "stdout",
          "text": [
            "From: lerxst@wam.umd.edu (where's my thing)\n",
            "Subject: WHAT car is this!?\n",
            "Nntp-Posting-Host: rac3.wam.umd.edu\n",
            "Organization: University of Maryland, College Park\n",
            "Lines: 15\n",
            "\n",
            " I was wondering if anyone out there could enlighten me on this car I saw\n",
            "the other day. It was a 2-door sports car, looked to be from the late 60s/\n",
            "early 70s. It was called a Bricklin. The doors were really small. In addition,\n",
            "the front bumper was separate from the rest of the body. This is \n",
            "all I know. If anyone can tellme a model name, engine specs, years\n",
            "of production, where this car is made, history, or whatever info you\n",
            "have on this funky looking car, please e-mail.\n",
            "\n",
            "Thanks,\n",
            "- IL\n",
            "   ---- brought to you by your neighborhood Lerxst ----\n",
            "\n",
            "\n",
            "\n",
            "\n",
            "\n",
            "7.0\n",
            "*******\n",
            "From: guykuo@carson.u.washington.edu (Guy Kuo)\n",
            "Subject: SI Clock Poll - Final Call\n",
            "Summary: Final call for SI clock reports\n",
            "Keywords: SI,acceleration,clock,upgrade\n",
            "Article-I.D.: shelley.1qvfo9INNc3s\n",
            "Organization: University of Washington\n",
            "Lines: 11\n",
            "NNTP-Posting-Host: carson.u.washington.edu\n",
            "\n",
            "A fair number of brave souls who upgraded their SI clock oscillator have\n",
            "shared their experiences for this poll. Please send a brief message detailing\n",
            "your experiences with the procedure. Top speed attained, CPU rated speed,\n",
            "add on cards and adapters, heat sinks, hour of usage per day, floppy disk\n",
            "functionality with 800 and 1.4 m floppies are especially requested.\n",
            "\n",
            "I will be summarizing in the next two days, so please add to the network\n",
            "knowledge base if you have done the clock upgrade and haven't answered this\n",
            "poll. Thanks.\n",
            "\n",
            "Guy Kuo <guykuo@u.washington.edu>\n",
            "\n",
            "11.0\n",
            "*******\n",
            "From: twillis@ec.ecn.purdue.edu (Thomas E Willis)\n",
            "Subject: PB questions...\n",
            "Organization: Purdue University Engineering Computer Network\n",
            "Distribution: usa\n",
            "Lines: 36\n",
            "\n",
            "well folks, my mac plus finally gave up the ghost this weekend after\n",
            "starting life as a 512k way back in 1985.  sooo, i'm in the market for a\n",
            "new machine a bit sooner than i intended to be...\n",
            "\n",
            "i'm looking into picking up a powerbook 160 or maybe 180 and have a bunch\n",
            "of questions that (hopefully) somebody can answer:\n",
            "\n",
            "* does anybody know any dirt on when the next round of powerbook\n",
            "introductions are expected?  i'd heard the 185c was supposed to make an\n",
            "appearence \"this summer\" but haven't heard anymore on it - and since i\n",
            "don't have access to macleak, i was wondering if anybody out there had\n",
            "more info...\n",
            "\n",
            "* has anybody heard rumors about price drops to the powerbook line like the\n",
            "ones the duo's just went through recently?\n",
            "\n",
            "* what's the impression of the display on the 180?  i could probably swing\n",
            "a 180 if i got the 80Mb disk rather than the 120, but i don't really have\n",
            "a feel for how much \"better\" the display is (yea, it looks great in the\n",
            "store, but is that all \"wow\" or is it really that good?).  could i solicit\n",
            "some opinions of people who use the 160 and 180 day-to-day on if its worth\n",
            "taking the disk size and money hit to get the active display?  (i realize\n",
            "this is a real subjective question, but i've only played around with the\n",
            "machines in a computer store breifly and figured the opinions of somebody\n",
            "who actually uses the machine daily might prove helpful).\n",
            "\n",
            "* how well does hellcats perform?  ;)\n",
            "\n",
            "thanks a bunch in advance for any info - if you could email, i'll post a\n",
            "summary (news reading time is at a premium with finals just around the\n",
            "corner... :( )\n",
            "--\n",
            "Tom Willis  \\  twillis@ecn.purdue.edu    \\    Purdue Electrical Engineering\n",
            "---------------------------------------------------------------------------\n",
            "\"Convictions are more dangerous enemies of truth than lies.\"  - F. W.\n",
            "Nietzsche\n",
            "\n",
            "16.0\n",
            "*******\n",
            "From: jgreen@amber (Joe Green)\n",
            "Subject: Re: Weitek P9000 ?\n",
            "Organization: Harris Computer Systems Division\n",
            "Lines: 14\n",
            "Distribution: world\n",
            "NNTP-Posting-Host: amber.ssd.csd.harris.com\n",
            "X-Newsreader: TIN [version 1.1 PL9]\n",
            "\n",
            "Robert J.C. Kyanko (rob@rjck.UUCP) wrote:\n",
            "> abraxis@iastate.edu writes in article <abraxis.734340159@class1.iastate.edu>:\n",
            "> > Anyone know about the Weitek P9000 graphics chip?\n",
            "> As far as the low-level stuff goes, it looks pretty nice.  It's got this\n",
            "> quadrilateral fill command that requires just the four points.\n",
            "\n",
            "Do you have Weitek's address/phone number?  I'd like to get some information\n",
            "about this chip.\n",
            "\n",
            "--\n",
            "Joe Green\t\t\t\tHarris Corporation\n",
            "jgreen@csd.harris.com\t\t\tComputer Systems Division\n",
            "\"The only thing that really scares me is a person with no sense of humor.\"\n",
            "\t\t\t\t\t\t-- Jonathan Winters\n",
            "\n",
            "5.0\n",
            "*******\n",
            "From: jcm@head-cfa.harvard.edu (Jonathan McDowell)\n",
            "Subject: Re: Shuttle Launch Question\n",
            "Organization: Smithsonian Astrophysical Observatory, Cambridge, MA,  USA\n",
            "Distribution: sci\n",
            "Lines: 23\n",
            "\n",
            "From article <C5owCB.n3p@world.std.com>, by tombaker@world.std.com (Tom A Baker):\n",
            ">>In article <C5JLwx.4H9.1@cs.cmu.edu>, ETRAT@ttacs1.ttu.edu (Pack Rat) writes...\n",
            ">>>\"Clear caution & warning memory.  Verify no unexpected\n",
            ">>>errors. ...\".  I am wondering what an \"expected error\" might\n",
            ">>>be.  Sorry if this is a really dumb question, but\n",
            "> \n",
            "> Parity errors in memory or previously known conditions that were waivered.\n",
            ">    \"Yes that is an error, but we already knew about it\"\n",
            "> I'd be curious as to what the real meaning of the quote is.\n",
            "> \n",
            "> tom\n",
            "\n",
            "\n",
            "My understanding is that the 'expected errors' are basically\n",
            "known bugs in the warning system software - things are checked\n",
            "that don't have the right values in yet because they aren't\n",
            "set till after launch, and suchlike. Rather than fix the code\n",
            "and possibly introduce new bugs, they just tell the crew\n",
            "'ok, if you see a warning no. 213 before liftoff, ignore it'.\n",
            "\n",
            " - Jonathan\n",
            "\n",
            "\n",
            "\n",
            "-23.0\n",
            "*******\n"
          ]
        }
      ]
    },
    {
      "cell_type": "code",
      "metadata": {
        "id": "EIBR-lrg1-Yz"
      },
      "source": [
        "import numpy as np\n",
        "import matplotlib.pyplot as plt\n",
        "\n",
        "plt.style.use('seaborn-white')\n",
        "\n",
        "positive = 0\n",
        "negative = 0\n",
        "neutral = 0\n",
        "\n",
        "for i in news_data.data:\n",
        "    score = afin.score(i)\n",
        "    if score > 0 : \n",
        "        positive += 1\n",
        "    elif score == 0:\n",
        "        neutral += 1\n",
        "    else:\n",
        "        negative += 1\n",
        "\n",
        "plt.bar(np.arange(3), [positive, neutral, negative])\n",
        "plt.xticks(np.arange(3), ['Positive', 'Neutral', 'Negative'])\n",
        "plt.show()      \n",
        "\n",
        "print(\"Positive News : {0}\\nNeutral News : {1}\\nNegative News : {2}\".format(positive, neutral, negative))"
      ],
      "execution_count": null,
      "outputs": []
    },
    {
      "cell_type": "markdown",
      "metadata": {
        "id": "FiIqSC5XW23Y"
      },
      "source": [
        "## **2. Deep Learning (LSTM model) 을 통한 감정 분석**"
      ]
    },
    {
      "cell_type": "markdown",
      "metadata": {
        "id": "4Dj5EW3YbWDK"
      },
      "source": [
        "### **한국어 자연어 처리 konlpy 와 형태소 분석기 MeCab 설치**\n",
        "\n",
        "https://raw.githubusercontent.com/konlpy/konlpy/master/scripts/mecab.sh\n",
        "\n",
        "<img src=\"https://user-images.githubusercontent.com/92680829/141183892-fe175959-a844-4488-8d61-02d9e670c1e4.png\" width=\"400px\" />\n",
        "\n",
        "- Twitter 보다 Mecab 의 효율이 가장 좋지만, Mac-OS 가 아닌 Windows 환경에서는 별도 Mecab-python 설치가 필요함"
      ]
    },
    {
      "cell_type": "code",
      "metadata": {
        "id": "yrqdu1JSbAiW"
      },
      "source": [
        "!pip install konlpy"
      ],
      "execution_count": null,
      "outputs": []
    },
    {
      "cell_type": "code",
      "metadata": {
        "id": "gOnzOEt3W-KC"
      },
      "source": [
        "!set -x \\\n",
        "$$ pip install konlpy \\\n",
        "&& curl -s https://raw.githubusercontent.com/konlpy/konlpy/master/scripts/mecab.sh | bash -x"
      ],
      "execution_count": null,
      "outputs": []
    },
    {
      "cell_type": "code",
      "metadata": {
        "id": "4TnC3hNUW4kO"
      },
      "source": [
        "import re\n",
        "import urllib.request\n",
        "import numpy as np\n",
        "import warnings\n",
        "warnings.simplefilter(action='ignore', category=RuntimeWarning)\n",
        "import pandas as pd\n",
        "import matplotlib.pyplot as plt\n",
        "plt.style.use(\"seaborn-dark\")\n",
        "\n",
        "from konlpy.tag import Mecab\n",
        "from tensorflow.keras.preprocessing.text import Tokenizer\n",
        "from tensorflow.keras.preprocessing.sequence import pad_sequences"
      ],
      "execution_count": 8,
      "outputs": []
    },
    {
      "cell_type": "markdown",
      "metadata": {
        "id": "JhbB9fcl1-t_"
      },
      "source": [
        "### **Naver 영화리뷰 데이터 Load**\n",
        "- 모델 감정라벨링 학습용\n",
        "- 총 200,000개 리뷰로 구성된 데이터\n",
        "- 영화 리뷰에 대한 텍스트와 해당 리뷰가 긍정인 경우 1을 부정인 경우 0으로 표시한 레이블로 구성"
      ]
    },
    {
      "cell_type": "code",
      "metadata": {
        "id": "4cEcX_LB1-6g",
        "colab": {
          "base_uri": "https://localhost:8080/"
        },
        "outputId": "ac44f0a7-17b9-4496-aac2-27688800dfe8"
      },
      "source": [
        "urllib.request.urlretrieve(\"https://raw.githubusercontent.com/e9t/nsmc/master/ratings_train.txt\",\\\n",
        "                           filename=\"ratings_train.txt\")\n",
        "urllib.request.urlretrieve(\"https://raw.githubusercontent.com/e9t/nsmc/master/ratings_test.txt\",\\\n",
        "                           filename=\"ratings_test.txt\")"
      ],
      "execution_count": 10,
      "outputs": [
        {
          "output_type": "execute_result",
          "data": {
            "text/plain": [
              "('ratings_test.txt', <http.client.HTTPMessage at 0x7f2d201d43d0>)"
            ]
          },
          "metadata": {},
          "execution_count": 10
        }
      ]
    },
    {
      "cell_type": "code",
      "metadata": {
        "colab": {
          "base_uri": "https://localhost:8080/",
          "height": 418
        },
        "id": "10l0gcCYb6mz",
        "outputId": "b9511bf5-47f7-4134-c7a7-af754c996c80"
      },
      "source": [
        "test_data = pd.read_table(\"/content/ratings_test.txt\")\n",
        "train_data = pd.read_table(\"/content/ratings_train.txt\")\n",
        "\n",
        "train_data    # (150,000)\n",
        "# test_data     # (50,000)"
      ],
      "execution_count": 11,
      "outputs": [
        {
          "output_type": "execute_result",
          "data": {
            "text/html": [
              "<div>\n",
              "<style scoped>\n",
              "    .dataframe tbody tr th:only-of-type {\n",
              "        vertical-align: middle;\n",
              "    }\n",
              "\n",
              "    .dataframe tbody tr th {\n",
              "        vertical-align: top;\n",
              "    }\n",
              "\n",
              "    .dataframe thead th {\n",
              "        text-align: right;\n",
              "    }\n",
              "</style>\n",
              "<table border=\"1\" class=\"dataframe\">\n",
              "  <thead>\n",
              "    <tr style=\"text-align: right;\">\n",
              "      <th></th>\n",
              "      <th>id</th>\n",
              "      <th>document</th>\n",
              "      <th>label</th>\n",
              "    </tr>\n",
              "  </thead>\n",
              "  <tbody>\n",
              "    <tr>\n",
              "      <th>0</th>\n",
              "      <td>9976970</td>\n",
              "      <td>아 더빙.. 진짜 짜증나네요 목소리</td>\n",
              "      <td>0</td>\n",
              "    </tr>\n",
              "    <tr>\n",
              "      <th>1</th>\n",
              "      <td>3819312</td>\n",
              "      <td>흠...포스터보고 초딩영화줄....오버연기조차 가볍지 않구나</td>\n",
              "      <td>1</td>\n",
              "    </tr>\n",
              "    <tr>\n",
              "      <th>2</th>\n",
              "      <td>10265843</td>\n",
              "      <td>너무재밓었다그래서보는것을추천한다</td>\n",
              "      <td>0</td>\n",
              "    </tr>\n",
              "    <tr>\n",
              "      <th>3</th>\n",
              "      <td>9045019</td>\n",
              "      <td>교도소 이야기구먼 ..솔직히 재미는 없다..평점 조정</td>\n",
              "      <td>0</td>\n",
              "    </tr>\n",
              "    <tr>\n",
              "      <th>4</th>\n",
              "      <td>6483659</td>\n",
              "      <td>사이몬페그의 익살스런 연기가 돋보였던 영화!스파이더맨에서 늙어보이기만 했던 커스틴 ...</td>\n",
              "      <td>1</td>\n",
              "    </tr>\n",
              "    <tr>\n",
              "      <th>...</th>\n",
              "      <td>...</td>\n",
              "      <td>...</td>\n",
              "      <td>...</td>\n",
              "    </tr>\n",
              "    <tr>\n",
              "      <th>149995</th>\n",
              "      <td>6222902</td>\n",
              "      <td>인간이 문제지.. 소는 뭔죄인가..</td>\n",
              "      <td>0</td>\n",
              "    </tr>\n",
              "    <tr>\n",
              "      <th>149996</th>\n",
              "      <td>8549745</td>\n",
              "      <td>평점이 너무 낮아서...</td>\n",
              "      <td>1</td>\n",
              "    </tr>\n",
              "    <tr>\n",
              "      <th>149997</th>\n",
              "      <td>9311800</td>\n",
              "      <td>이게 뭐요? 한국인은 거들먹거리고 필리핀 혼혈은 착하다?</td>\n",
              "      <td>0</td>\n",
              "    </tr>\n",
              "    <tr>\n",
              "      <th>149998</th>\n",
              "      <td>2376369</td>\n",
              "      <td>청춘 영화의 최고봉.방황과 우울했던 날들의 자화상</td>\n",
              "      <td>1</td>\n",
              "    </tr>\n",
              "    <tr>\n",
              "      <th>149999</th>\n",
              "      <td>9619869</td>\n",
              "      <td>한국 영화 최초로 수간하는 내용이 담긴 영화</td>\n",
              "      <td>0</td>\n",
              "    </tr>\n",
              "  </tbody>\n",
              "</table>\n",
              "<p>150000 rows × 3 columns</p>\n",
              "</div>"
            ],
            "text/plain": [
              "              id                                           document  label\n",
              "0        9976970                                아 더빙.. 진짜 짜증나네요 목소리      0\n",
              "1        3819312                  흠...포스터보고 초딩영화줄....오버연기조차 가볍지 않구나      1\n",
              "2       10265843                                  너무재밓었다그래서보는것을추천한다      0\n",
              "3        9045019                      교도소 이야기구먼 ..솔직히 재미는 없다..평점 조정      0\n",
              "4        6483659  사이몬페그의 익살스런 연기가 돋보였던 영화!스파이더맨에서 늙어보이기만 했던 커스틴 ...      1\n",
              "...          ...                                                ...    ...\n",
              "149995   6222902                                인간이 문제지.. 소는 뭔죄인가..      0\n",
              "149996   8549745                                      평점이 너무 낮아서...      1\n",
              "149997   9311800                    이게 뭐요? 한국인은 거들먹거리고 필리핀 혼혈은 착하다?      0\n",
              "149998   2376369                        청춘 영화의 최고봉.방황과 우울했던 날들의 자화상      1\n",
              "149999   9619869                           한국 영화 최초로 수간하는 내용이 담긴 영화      0\n",
              "\n",
              "[150000 rows x 3 columns]"
            ]
          },
          "metadata": {},
          "execution_count": 11
        }
      ]
    },
    {
      "cell_type": "markdown",
      "metadata": {
        "id": "vTQorSBPhaZS"
      },
      "source": [
        "### **Data Preprocessing**"
      ]
    },
    {
      "cell_type": "markdown",
      "metadata": {
        "id": "O-I0Zngcdkzc"
      },
      "source": [
        "#### **중복 및 결측치 제거**"
      ]
    },
    {
      "cell_type": "code",
      "metadata": {
        "colab": {
          "base_uri": "https://localhost:8080/"
        },
        "id": "pqUIeReyb6uX",
        "outputId": "0512748b-d76e-462b-c331-6e5950d942ba"
      },
      "source": [
        "train_data.isnull().sum()     # doc : 5\n",
        "test_data.isnull().sum()      # doc : 3"
      ],
      "execution_count": 12,
      "outputs": [
        {
          "output_type": "execute_result",
          "data": {
            "text/plain": [
              "id          0\n",
              "document    3\n",
              "label       0\n",
              "dtype: int64"
            ]
          },
          "metadata": {},
          "execution_count": 12
        }
      ]
    },
    {
      "cell_type": "code",
      "metadata": {
        "colab": {
          "base_uri": "https://localhost:8080/"
        },
        "id": "YcfvkTwzb609",
        "outputId": "caa409e8-7657-4378-de2d-c89485ac20bf"
      },
      "source": [
        "len(train_data['document'].unique())    # 146183 / 150000\n",
        "# train_data['label'].unique()\n",
        "\n",
        "len(test_data['document'].unique())       # 49158 / 50000"
      ],
      "execution_count": 13,
      "outputs": [
        {
          "output_type": "execute_result",
          "data": {
            "text/plain": [
              "49158"
            ]
          },
          "metadata": {},
          "execution_count": 13
        }
      ]
    },
    {
      "cell_type": "code",
      "metadata": {
        "id": "1N36lnFPb69d"
      },
      "source": [
        "train_data.drop_duplicates(subset=['document'], inplace=True)\n",
        "# test_data.drop_duplicates(subset=['document'], inplace=True)"
      ],
      "execution_count": 14,
      "outputs": []
    },
    {
      "cell_type": "code",
      "metadata": {
        "colab": {
          "base_uri": "https://localhost:8080/",
          "height": 418
        },
        "id": "TsaKgwOub7Ee",
        "outputId": "93d07647-b8d6-4d91-8dca-6c633a918820"
      },
      "source": [
        "train_data = train_data.dropna()    # defualt : how = 'any'\n",
        "train_data          "
      ],
      "execution_count": 15,
      "outputs": [
        {
          "output_type": "execute_result",
          "data": {
            "text/html": [
              "<div>\n",
              "<style scoped>\n",
              "    .dataframe tbody tr th:only-of-type {\n",
              "        vertical-align: middle;\n",
              "    }\n",
              "\n",
              "    .dataframe tbody tr th {\n",
              "        vertical-align: top;\n",
              "    }\n",
              "\n",
              "    .dataframe thead th {\n",
              "        text-align: right;\n",
              "    }\n",
              "</style>\n",
              "<table border=\"1\" class=\"dataframe\">\n",
              "  <thead>\n",
              "    <tr style=\"text-align: right;\">\n",
              "      <th></th>\n",
              "      <th>id</th>\n",
              "      <th>document</th>\n",
              "      <th>label</th>\n",
              "    </tr>\n",
              "  </thead>\n",
              "  <tbody>\n",
              "    <tr>\n",
              "      <th>0</th>\n",
              "      <td>9976970</td>\n",
              "      <td>아 더빙.. 진짜 짜증나네요 목소리</td>\n",
              "      <td>0</td>\n",
              "    </tr>\n",
              "    <tr>\n",
              "      <th>1</th>\n",
              "      <td>3819312</td>\n",
              "      <td>흠...포스터보고 초딩영화줄....오버연기조차 가볍지 않구나</td>\n",
              "      <td>1</td>\n",
              "    </tr>\n",
              "    <tr>\n",
              "      <th>2</th>\n",
              "      <td>10265843</td>\n",
              "      <td>너무재밓었다그래서보는것을추천한다</td>\n",
              "      <td>0</td>\n",
              "    </tr>\n",
              "    <tr>\n",
              "      <th>3</th>\n",
              "      <td>9045019</td>\n",
              "      <td>교도소 이야기구먼 ..솔직히 재미는 없다..평점 조정</td>\n",
              "      <td>0</td>\n",
              "    </tr>\n",
              "    <tr>\n",
              "      <th>4</th>\n",
              "      <td>6483659</td>\n",
              "      <td>사이몬페그의 익살스런 연기가 돋보였던 영화!스파이더맨에서 늙어보이기만 했던 커스틴 ...</td>\n",
              "      <td>1</td>\n",
              "    </tr>\n",
              "    <tr>\n",
              "      <th>...</th>\n",
              "      <td>...</td>\n",
              "      <td>...</td>\n",
              "      <td>...</td>\n",
              "    </tr>\n",
              "    <tr>\n",
              "      <th>149995</th>\n",
              "      <td>6222902</td>\n",
              "      <td>인간이 문제지.. 소는 뭔죄인가..</td>\n",
              "      <td>0</td>\n",
              "    </tr>\n",
              "    <tr>\n",
              "      <th>149996</th>\n",
              "      <td>8549745</td>\n",
              "      <td>평점이 너무 낮아서...</td>\n",
              "      <td>1</td>\n",
              "    </tr>\n",
              "    <tr>\n",
              "      <th>149997</th>\n",
              "      <td>9311800</td>\n",
              "      <td>이게 뭐요? 한국인은 거들먹거리고 필리핀 혼혈은 착하다?</td>\n",
              "      <td>0</td>\n",
              "    </tr>\n",
              "    <tr>\n",
              "      <th>149998</th>\n",
              "      <td>2376369</td>\n",
              "      <td>청춘 영화의 최고봉.방황과 우울했던 날들의 자화상</td>\n",
              "      <td>1</td>\n",
              "    </tr>\n",
              "    <tr>\n",
              "      <th>149999</th>\n",
              "      <td>9619869</td>\n",
              "      <td>한국 영화 최초로 수간하는 내용이 담긴 영화</td>\n",
              "      <td>0</td>\n",
              "    </tr>\n",
              "  </tbody>\n",
              "</table>\n",
              "<p>146182 rows × 3 columns</p>\n",
              "</div>"
            ],
            "text/plain": [
              "              id                                           document  label\n",
              "0        9976970                                아 더빙.. 진짜 짜증나네요 목소리      0\n",
              "1        3819312                  흠...포스터보고 초딩영화줄....오버연기조차 가볍지 않구나      1\n",
              "2       10265843                                  너무재밓었다그래서보는것을추천한다      0\n",
              "3        9045019                      교도소 이야기구먼 ..솔직히 재미는 없다..평점 조정      0\n",
              "4        6483659  사이몬페그의 익살스런 연기가 돋보였던 영화!스파이더맨에서 늙어보이기만 했던 커스틴 ...      1\n",
              "...          ...                                                ...    ...\n",
              "149995   6222902                                인간이 문제지.. 소는 뭔죄인가..      0\n",
              "149996   8549745                                      평점이 너무 낮아서...      1\n",
              "149997   9311800                    이게 뭐요? 한국인은 거들먹거리고 필리핀 혼혈은 착하다?      0\n",
              "149998   2376369                        청춘 영화의 최고봉.방황과 우울했던 날들의 자화상      1\n",
              "149999   9619869                           한국 영화 최초로 수간하는 내용이 담긴 영화      0\n",
              "\n",
              "[146182 rows x 3 columns]"
            ]
          },
          "metadata": {},
          "execution_count": 15
        }
      ]
    },
    {
      "cell_type": "markdown",
      "metadata": {
        "id": "WoBky1Ayb7Sp"
      },
      "source": [
        "#### **Text 데이터 정제 with replace & regex** \n",
        "- 한글과 공백을 제외하고 모두 다 제거 (영어, 특수문자, punctuations 등)"
      ]
    },
    {
      "cell_type": "code",
      "metadata": {
        "id": "iVv5eVeyq97a"
      },
      "source": [
        "import warnings\n",
        "import pandas as pd\n",
        "\n",
        "from pandas.core.common import SettingWithCopyWarning\n",
        "warnings.simplefilter(action=\"ignore\", category=SettingWithCopyWarning)"
      ],
      "execution_count": 16,
      "outputs": []
    },
    {
      "cell_type": "code",
      "metadata": {
        "colab": {
          "base_uri": "https://localhost:8080/",
          "height": 204
        },
        "id": "1KP4OwA2h4rk",
        "outputId": "a81a3068-ffe0-4d7d-999a-37bd8335e888"
      },
      "source": [
        "train_data['document'] = train_data['document'].str.replace(\"[^ㄱ-ㅎㅏ-ㅣ가-힣 ]\",\"\")\n",
        "train_data[:5]"
      ],
      "execution_count": 17,
      "outputs": [
        {
          "output_type": "execute_result",
          "data": {
            "text/html": [
              "<div>\n",
              "<style scoped>\n",
              "    .dataframe tbody tr th:only-of-type {\n",
              "        vertical-align: middle;\n",
              "    }\n",
              "\n",
              "    .dataframe tbody tr th {\n",
              "        vertical-align: top;\n",
              "    }\n",
              "\n",
              "    .dataframe thead th {\n",
              "        text-align: right;\n",
              "    }\n",
              "</style>\n",
              "<table border=\"1\" class=\"dataframe\">\n",
              "  <thead>\n",
              "    <tr style=\"text-align: right;\">\n",
              "      <th></th>\n",
              "      <th>id</th>\n",
              "      <th>document</th>\n",
              "      <th>label</th>\n",
              "    </tr>\n",
              "  </thead>\n",
              "  <tbody>\n",
              "    <tr>\n",
              "      <th>0</th>\n",
              "      <td>9976970</td>\n",
              "      <td>아 더빙 진짜 짜증나네요 목소리</td>\n",
              "      <td>0</td>\n",
              "    </tr>\n",
              "    <tr>\n",
              "      <th>1</th>\n",
              "      <td>3819312</td>\n",
              "      <td>흠포스터보고 초딩영화줄오버연기조차 가볍지 않구나</td>\n",
              "      <td>1</td>\n",
              "    </tr>\n",
              "    <tr>\n",
              "      <th>2</th>\n",
              "      <td>10265843</td>\n",
              "      <td>너무재밓었다그래서보는것을추천한다</td>\n",
              "      <td>0</td>\n",
              "    </tr>\n",
              "    <tr>\n",
              "      <th>3</th>\n",
              "      <td>9045019</td>\n",
              "      <td>교도소 이야기구먼 솔직히 재미는 없다평점 조정</td>\n",
              "      <td>0</td>\n",
              "    </tr>\n",
              "    <tr>\n",
              "      <th>4</th>\n",
              "      <td>6483659</td>\n",
              "      <td>사이몬페그의 익살스런 연기가 돋보였던 영화스파이더맨에서 늙어보이기만 했던 커스틴 던...</td>\n",
              "      <td>1</td>\n",
              "    </tr>\n",
              "  </tbody>\n",
              "</table>\n",
              "</div>"
            ],
            "text/plain": [
              "         id                                           document  label\n",
              "0   9976970                                  아 더빙 진짜 짜증나네요 목소리      0\n",
              "1   3819312                         흠포스터보고 초딩영화줄오버연기조차 가볍지 않구나      1\n",
              "2  10265843                                  너무재밓었다그래서보는것을추천한다      0\n",
              "3   9045019                          교도소 이야기구먼 솔직히 재미는 없다평점 조정      0\n",
              "4   6483659  사이몬페그의 익살스런 연기가 돋보였던 영화스파이더맨에서 늙어보이기만 했던 커스틴 던...      1"
            ]
          },
          "metadata": {},
          "execution_count": 17
        }
      ]
    },
    {
      "cell_type": "code",
      "metadata": {
        "colab": {
          "base_uri": "https://localhost:8080/"
        },
        "id": "8krxCQ5xm5_o",
        "outputId": "04b4fb99-d429-423c-bde5-e6f069916c27"
      },
      "source": [
        "\n",
        "len(train_data)"
      ],
      "execution_count": 18,
      "outputs": [
        {
          "output_type": "execute_result",
          "data": {
            "text/plain": [
              "146182"
            ]
          },
          "metadata": {},
          "execution_count": 18
        }
      ]
    },
    {
      "cell_type": "markdown",
      "metadata": {
        "id": "9BlSL2t4l867"
      },
      "source": [
        "- str.replace for substring replacements on a single string column\n",
        "- replace for any general replacement on one or more columns."
      ]
    },
    {
      "cell_type": "code",
      "metadata": {
        "colab": {
          "base_uri": "https://localhost:8080/"
        },
        "id": "jml9fSazb7Zv",
        "outputId": "978e9df7-47d3-4184-92f5-a01aae712729"
      },
      "source": [
        "train_data['document'] = train_data['document'].str.replace('^ +', \"\")      # white space or other punctuaions --> empty\n",
        "train_data['document'] = train_data['document'].replace('', np.nan)     # replace 후 공백만 남은 리뷰는 null 처리\n",
        "train_data.isnull().sum()     # 789"
      ],
      "execution_count": 19,
      "outputs": [
        {
          "output_type": "execute_result",
          "data": {
            "text/plain": [
              "id            0\n",
              "document    789\n",
              "label         0\n",
              "dtype: int64"
            ]
          },
          "metadata": {},
          "execution_count": 19
        }
      ]
    },
    {
      "cell_type": "code",
      "metadata": {
        "colab": {
          "base_uri": "https://localhost:8080/"
        },
        "id": "_dFqL4Qfb7hY",
        "outputId": "e88c3bba-232d-4c57-a404-5d48617cd8d4"
      },
      "source": [
        "train_data.dropna(inplace=True)\n",
        "train_data.isnull().sum()"
      ],
      "execution_count": 20,
      "outputs": [
        {
          "output_type": "execute_result",
          "data": {
            "text/plain": [
              "id          0\n",
              "document    0\n",
              "label       0\n",
              "dtype: int64"
            ]
          },
          "metadata": {},
          "execution_count": 20
        }
      ]
    },
    {
      "cell_type": "code",
      "metadata": {
        "colab": {
          "base_uri": "https://localhost:8080/"
        },
        "id": "dhmJqB9Db7n9",
        "outputId": "36be881f-2d4f-473a-b937-c93ed2064f8d"
      },
      "source": [
        "train_data.drop_duplicates(subset=['document'], inplace=True)\n",
        "len(train_data)       # 146183 -(replace)-> 145393  -(drop dup)-> 143620"
      ],
      "execution_count": 21,
      "outputs": [
        {
          "output_type": "execute_result",
          "data": {
            "text/plain": [
              "143620"
            ]
          },
          "metadata": {},
          "execution_count": 21
        }
      ]
    },
    {
      "cell_type": "code",
      "metadata": {
        "colab": {
          "base_uri": "https://localhost:8080/"
        },
        "id": "8kiqBplvrHU7",
        "outputId": "467a53f8-8604-4a02-e889-54106f570de9"
      },
      "source": [
        "# do the same things for test_data\n",
        "\n",
        "test_data.drop_duplicates(subset=['document'], inplace=True)\n",
        "test_data.dropna(inplace=True)\n",
        "test_data['document'] = test_data['document'].str.replace(\"[^ㄱ-ㅎㅏ-ㅣ가-힣 ]\",\"\")\n",
        "test_data['document'] = test_data['document'].str.replace('^ +', \"\")   \n",
        "test_data['document'].replace(\"\", np.nan, inplace=True)      # white space or other punctuaions --> empty\n",
        "test_data.dropna(inplace=True)\n",
        "test_data.drop_duplicates(subset=['document'], inplace=True)\n",
        "len(test_data)  "
      ],
      "execution_count": 22,
      "outputs": [
        {
          "output_type": "execute_result",
          "data": {
            "text/plain": [
              "48389"
            ]
          },
          "metadata": {},
          "execution_count": 22
        }
      ]
    },
    {
      "cell_type": "markdown",
      "metadata": {
        "id": "bLZcUQKDsF80"
      },
      "source": [
        "### **Tokenization**"
      ]
    },
    {
      "cell_type": "markdown",
      "metadata": {
        "id": "ZmuD_MMos5Xm"
      },
      "source": [
        "#### **불용어 리스트 정의**"
      ]
    },
    {
      "cell_type": "code",
      "metadata": {
        "id": "SRH0n1nIsLcd"
      },
      "source": [
        "stopwords = ['의','가','이','은','들','는','좀','잘','걍','과','도','를','으로','자','에','와','한','하다']\n",
        "stopwords += ['이', '있', '하', '것', '들', '그', '되', '수', '이', '보', '않', '없', '나', '사람', '주', '아니', '등', '같', '우리', '때', '년', '가', '한', '지', '대하', '오', '말', '일', '그렇', '위하']\n",
        "stopwords = list(set(stopwords))\n",
        "# stopwords"
      ],
      "execution_count": 23,
      "outputs": []
    },
    {
      "cell_type": "markdown",
      "metadata": {
        "id": "nTQEKtGPt7LF"
      },
      "source": [
        "#### **Okt : 형태소 분석기**\n",
        "- stem = True 사용하면 형태소 별로 분할된 단어들을 모두 기본형으로 변환해준다.\n",
        "-  okt.morphs('와 이런 것도 영화라고 차라리 뮤직비디오를 만드는 게 나을 뻔', stem=True) \n",
        "---> ['오다', '이렇다', '것', '도', '영화', '라고', '차라리', '뮤직비디오', '를', '만들다', '게', '나다', '뻔']"
      ]
    },
    {
      "cell_type": "code",
      "metadata": {
        "id": "_r1LFlyVtgWC"
      },
      "source": [
        "from konlpy.tag import Okt      \n",
        "from tqdm import tqdm\n",
        "from tensorflow.keras.preprocessing.text import Tokenizer\n",
        "from tensorflow.keras.preprocessing.sequence import pad_sequences\n",
        "\n",
        "okt = Okt()"
      ],
      "execution_count": 24,
      "outputs": []
    },
    {
      "cell_type": "code",
      "metadata": {
        "colab": {
          "base_uri": "https://localhost:8080/"
        },
        "id": "cfhqHtjps4Q7",
        "outputId": "0b1ae7b6-0865-4a7c-d27b-9b955808925f"
      },
      "source": [
        "x_train = []\n",
        "for sentence in tqdm(train_data['document']):\n",
        "    tokenized_sent = okt.morphs(sentence, stem=True)      # 형태소 별로 문장 분할\n",
        "    tokenized_sent = [word for word in tokenized_sent if word not in stopwords]   # 불용어 제거\n",
        "    x_train.append(tokenized_sent)"
      ],
      "execution_count": 74,
      "outputs": [
        {
          "metadata": {
            "tags": null
          },
          "name": "stderr",
          "output_type": "stream",
          "text": [
            "100%|██████████| 143620/143620 [11:51<00:00, 201.83it/s]\n"
          ]
        }
      ]
    },
    {
      "cell_type": "code",
      "metadata": {
        "colab": {
          "base_uri": "https://localhost:8080/"
        },
        "id": "8Ao6TfZ8zbk4",
        "outputId": "80e5372b-10e6-454e-b2d3-e96f2f2dbe9a"
      },
      "source": [
        "x_train[:2]"
      ],
      "execution_count": 27,
      "outputs": [
        {
          "output_type": "execute_result",
          "data": {
            "text/plain": [
              "[['아', '더빙', '진짜', '짜증나다', '목소리'],\n",
              " ['흠', '포스터', '보고', '초딩', '영화', '줄', '오버', '연기', '조차', '가볍다', '않다']]"
            ]
          },
          "metadata": {},
          "execution_count": 27
        }
      ]
    },
    {
      "cell_type": "code",
      "metadata": {
        "colab": {
          "base_uri": "https://localhost:8080/"
        },
        "id": "UjCOOQ40zSvy",
        "outputId": "568f9683-1e82-4ff1-8a25-e113692a8b76"
      },
      "source": [
        "x_test = []\n",
        "for sentence in tqdm(test_data['document']):\n",
        "    tokenized_sent = okt.morphs(sentence, stem=True)      # 형태소 별로 문장 분할\n",
        "    tokenized_sent = [word for word in tokenized_sent if word not in stopwords]   # 불용어 제거\n",
        "    x_test.append(tokenized_sent)"
      ],
      "execution_count": 66,
      "outputs": [
        {
          "output_type": "stream",
          "name": "stderr",
          "text": [
            "100%|██████████| 48389/48389 [03:35<00:00, 224.98it/s]\n"
          ]
        }
      ]
    },
    {
      "cell_type": "code",
      "metadata": {
        "colab": {
          "base_uri": "https://localhost:8080/"
        },
        "id": "FfQMNTXKzeSY",
        "outputId": "afcf07a0-fcde-4743-ae55-97d286fd34fb"
      },
      "source": [
        "test_data['document'][:2]\n",
        "x_test[:2]"
      ],
      "execution_count": 73,
      "outputs": [
        {
          "output_type": "execute_result",
          "data": {
            "text/plain": [
              "[[44, 441, 16, 250, 643], [931, 442, 37, 587, 1, 203, 1432, 24, 945, 660, 19]]"
            ]
          },
          "metadata": {},
          "execution_count": 73
        }
      ]
    },
    {
      "cell_type": "code",
      "metadata": {
        "id": "vpxECRt19aXQ"
      },
      "source": [
        "x_train_raw = x_train\n",
        "x_test_raw = x_test"
      ],
      "execution_count": 75,
      "outputs": []
    },
    {
      "cell_type": "markdown",
      "metadata": {
        "id": "kMo7Ai1VyF5_"
      },
      "source": [
        "#### **Tokenizer 로 단어사전 만들기 & 정수 Encoding**"
      ]
    },
    {
      "cell_type": "code",
      "metadata": {
        "colab": {
          "base_uri": "https://localhost:8080/"
        },
        "id": "APpMijNO1NTh",
        "outputId": "3b2eaedb-eace-4bff-f7cf-f797aaa21ca4"
      },
      "source": [
        "tokenizer = Tokenizer()\n",
        "tokenizer.fit_on_texts(x_train)  \n",
        "\n",
        "tokenizer.word_index      # 빈도수가 높은 단어별로 작은 수의 양의 정수를 부여함\n",
        "len(tokenizer.word_index)"
      ],
      "execution_count": 76,
      "outputs": [
        {
          "output_type": "execute_result",
          "data": {
            "text/plain": [
              "43734"
            ]
          },
          "metadata": {},
          "execution_count": 76
        }
      ]
    },
    {
      "cell_type": "code",
      "metadata": {
        "colab": {
          "base_uri": "https://localhost:8080/"
        },
        "id": "x7KRKW-NzJDf",
        "outputId": "0dd15c04-66e1-4a25-9f5b-2f817f63d581"
      },
      "source": [
        "# 단어 사전 size 결정하기 (너무 rare 한 단어는 정수인코딩 과정에서 배제)\n",
        "\n",
        "threshold = 3\n",
        "total_cnt = len(tokenizer.word_index) # 단어의 수\n",
        "rare_cnt = 0      # 등장 빈도수가 threshold보다 작은 단어의 개수를 카운트\n",
        "total_freq = 0      # 훈련 데이터의 전체 단어 빈도수 총 합\n",
        "rare_freq = 0       # 등장 빈도수가 threshold보다 작은 단어의 등장 빈도수의 총 합\n",
        "\n",
        "for key, value in tokenizer.word_counts.items():\n",
        "    total_freq += value\n",
        "\n",
        "    if(value < threshold):\n",
        "        rare_cnt = rare_cnt + 1\n",
        "        rare_freq = rare_freq + value\n",
        "\n",
        "print('단어 집합(vocabulary)의 크기 :',total_cnt)\n",
        "print('등장 빈도가 %s번 이하인 희귀 단어의 수: %s'%(threshold - 1, rare_cnt))\n",
        "print(\"단어 집합에서 희귀 단어의 비율:\", (rare_cnt / total_cnt)*100)\n",
        "print(\"전체 등장 빈도에서 희귀 단어 등장 빈도 비율:\", (rare_freq / total_freq)*100)"
      ],
      "execution_count": 77,
      "outputs": [
        {
          "output_type": "stream",
          "name": "stdout",
          "text": [
            "단어 집합(vocabulary)의 크기 : 43734\n",
            "등장 빈도가 2번 이하인 희귀 단어의 수: 24340\n",
            "단어 집합에서 희귀 단어의 비율: 55.654639410984586\n",
            "전체 등장 빈도에서 희귀 단어 등장 빈도 비율: 1.9325311562722067\n"
          ]
        }
      ]
    },
    {
      "cell_type": "code",
      "metadata": {
        "colab": {
          "base_uri": "https://localhost:8080/"
        },
        "id": "93jYEQN1zI4B",
        "outputId": "81b1b30c-85dd-4b24-db61-6b14558b6ce8"
      },
      "source": [
        "vocab_size = total_cnt - rare_cnt + 1\n",
        "vocab_size"
      ],
      "execution_count": 78,
      "outputs": [
        {
          "output_type": "execute_result",
          "data": {
            "text/plain": [
              "19395"
            ]
          },
          "metadata": {},
          "execution_count": 78
        }
      ]
    },
    {
      "cell_type": "code",
      "metadata": {
        "id": "ucVXZzrOb7ty"
      },
      "source": [
        "tokenizer = Tokenizer(vocab_size)\n",
        "tokenizer.fit_on_texts(x_train)   # 0번 단어 ~ 19395번 단어까지만 사용"
      ],
      "execution_count": 79,
      "outputs": []
    },
    {
      "cell_type": "code",
      "metadata": {
        "id": "pVnAGLuqb8oq"
      },
      "source": [
        "# Referring to word_index, text --> numeric sequences  \n",
        "\n",
        "x_train = tokenizer.texts_to_sequences(x_train)\n",
        "x_test = tokenizer.texts_to_sequences(x_test)"
      ],
      "execution_count": 80,
      "outputs": []
    },
    {
      "cell_type": "code",
      "metadata": {
        "colab": {
          "base_uri": "https://localhost:8080/"
        },
        "id": "yNQE6pybb8wh",
        "outputId": "f5b094d1-0312-47b1-c21c-ea445e6b7f0f"
      },
      "source": [
        "print(x_train[:-10])\n",
        "print(x_test[:3])"
      ],
      "execution_count": 109,
      "outputs": [
        {
          "output_type": "stream",
          "name": "stdout",
          "text": [
            "[list([44, 441, 16, 250, 643])\n",
            " list([931, 442, 37, 587, 1, 203, 1432, 24, 945, 660, 19])\n",
            " list([373, 2426, 2296, 5649, 2, 209, 9]) ...\n",
            " list([1418, 326, 29, 5873, 1, 247, 77, 18])\n",
            " list([319, 40, 16, 93, 1392, 26, 40, 51])\n",
            " list([78, 38, 1, 125, 335, 3729, 22, 35, 92, 757])]\n",
            "[[754, 80], [54, 151, 25, 417, 19, 20, 283, 864, 41, 767, 18], [59, 19, 79, 324, 101, 94, 56, 138, 263]]\n"
          ]
        }
      ]
    },
    {
      "cell_type": "code",
      "metadata": {
        "colab": {
          "base_uri": "https://localhost:8080/"
        },
        "id": "rfUmTNcC5jU4",
        "outputId": "3fb9222b-f886-406c-ed15-bb45d6850750"
      },
      "source": [
        "len(x_train)\n",
        "# len(x_test)"
      ],
      "execution_count": 82,
      "outputs": [
        {
          "output_type": "execute_result",
          "data": {
            "text/plain": [
              "143620"
            ]
          },
          "metadata": {},
          "execution_count": 82
        }
      ]
    },
    {
      "cell_type": "code",
      "metadata": {
        "id": "fW-B8Zj6b8z2"
      },
      "source": [
        "y_train = np.array(train_data['label'])\n",
        "y_test = np.array(test_data['label'])"
      ],
      "execution_count": 84,
      "outputs": []
    },
    {
      "cell_type": "code",
      "metadata": {
        "colab": {
          "base_uri": "https://localhost:8080/"
        },
        "id": "z8pVIs44b82u",
        "outputId": "3edb572e-334e-492a-e979-08b2df8cf8be"
      },
      "source": [
        "# Remove empty sequence in x_train, which means those seq are composed of only the words that are under set threshold\n",
        "\n",
        "drop_target = [idx for idx, sentence in enumerate(x_train) if len(sentence) < 1]\n",
        "x_train = np.delete(x_train, drop_target, axis=0)       # np.delete(array, delete_target_idx, axis=0(row) or 1(col))\n",
        "y_train = np.delete(y_train, drop_target, axis=0)"
      ],
      "execution_count": 86,
      "outputs": [
        {
          "output_type": "stream",
          "name": "stderr",
          "text": [
            "/usr/local/lib/python3.7/dist-packages/numpy/core/_asarray.py:83: VisibleDeprecationWarning: Creating an ndarray from ragged nested sequences (which is a list-or-tuple of lists-or-tuples-or ndarrays with different lengths or shapes) is deprecated. If you meant to do this, you must specify 'dtype=object' when creating the ndarray\n",
            "  return array(a, dtype, copy=False, order=order)\n"
          ]
        }
      ]
    },
    {
      "cell_type": "code",
      "metadata": {
        "colab": {
          "base_uri": "https://localhost:8080/"
        },
        "id": "5h6Jy-Pzb88g",
        "outputId": "065cad05-eab9-41e5-971b-2f45a64855b6"
      },
      "source": [
        "print(len(x_train))\n",
        "print(len(y_train))       # 143620 --> 143376"
      ],
      "execution_count": 88,
      "outputs": [
        {
          "output_type": "stream",
          "name": "stdout",
          "text": [
            "143376\n",
            "143376\n"
          ]
        }
      ]
    },
    {
      "cell_type": "markdown",
      "metadata": {
        "id": "Bftru_93b9Bp"
      },
      "source": [
        "### **Padding**\n",
        "- 모델이 처리할 수 있도록 X_train과 X_test의 모든 샘플의 길이를 특정 길이로 동일하게 맞춤\n",
        "- padding_len "
      ]
    },
    {
      "cell_type": "code",
      "metadata": {
        "colab": {
          "base_uri": "https://localhost:8080/",
          "height": 312
        },
        "id": "hHkR0I11b9HN",
        "outputId": "06f2de77-701a-4a0a-a166-05d40f5f633f"
      },
      "source": [
        "print('리뷰의 최대 길이 :', max(map(len, x_train)))\n",
        "print('리뷰의 평균 길이 :',sum(map(len, x_train))/len(x_train))\n",
        "plt.hist([len(s) for s in x_train], bins=50)\n",
        "plt.xlabel('length of samples')\n",
        "plt.ylabel('number of samples')\n",
        "plt.show()"
      ],
      "execution_count": 104,
      "outputs": [
        {
          "output_type": "stream",
          "name": "stdout",
          "text": [
            "리뷰의 최대 길이 : 68\n",
            "리뷰의 평균 길이 : 10.597484934717107\n"
          ]
        },
        {
          "output_type": "display_data",
          "data": {
            "image/png": "[encoded data removed]",
            "text/plain": [
              "<Figure size 432x288 with 1 Axes>"
            ]
          },
          "metadata": {}
        }
      ]
    },
    {
      "cell_type": "code",
      "metadata": {
        "colab": {
          "base_uri": "https://localhost:8080/"
        },
        "id": "vNj6gwElb9Lf",
        "outputId": "43c3a12c-8cbd-4ec7-aa7b-cec24fcb29a4"
      },
      "source": [
        "def find_padding_len(set_len):\n",
        "    cnt = 0\n",
        "    for l in list(map(len, x_train_raw)):\n",
        "        if l <= set_len:\n",
        "            cnt += 1\n",
        "    return (cnt/len(x_train))*100\n",
        "\n",
        "for set_len in range(10, 50, 5):\n",
        "    tmp = find_padding_len(set_len)\n",
        "    print(\"길이 {0} : {1}%\".format(set_len, tmp))"
      ],
      "execution_count": 117,
      "outputs": [
        {
          "output_type": "stream",
          "name": "stdout",
          "text": [
            "길이 10 : 64.30364914630063%\n",
            "길이 15 : 82.205529516795%\n",
            "길이 20 : 88.46668898560428%\n",
            "길이 25 : 92.0656176765986%\n",
            "길이 30 : 94.62462336792768%\n",
            "길이 35 : 96.68145296283896%\n",
            "길이 40 : 98.75153442696127%\n",
            "길이 45 : 99.85353197187814%\n"
          ]
        }
      ]
    },
    {
      "cell_type": "code",
      "metadata": {
        "id": "LzezYHWZBvLt"
      },
      "source": [
        "padding_len = 35"
      ],
      "execution_count": 118,
      "outputs": []
    },
    {
      "cell_type": "code",
      "metadata": {
        "id": "t_rJURPHBq2w"
      },
      "source": [
        "x_train = pad_sequences(x_train, maxlen = padding_len, truncating='post', padding='post')\n",
        "x_test = pad_sequences(x_test, maxlen = padding_len, truncating='post', padding='post')"
      ],
      "execution_count": 119,
      "outputs": []
    },
    {
      "cell_type": "code",
      "metadata": {
        "colab": {
          "base_uri": "https://localhost:8080/"
        },
        "id": "bVx0olysFNil",
        "outputId": "999cc646-f510-4d0a-f2fc-b77bdc57d585"
      },
      "source": [
        "x_train"
      ],
      "execution_count": 120,
      "outputs": [
        {
          "output_type": "execute_result",
          "data": {
            "text/plain": [
              "array([[  44,  441,   16, ...,    0,    0,    0],\n",
              "       [ 931,  442,   37, ...,    0,    0,    0],\n",
              "       [ 373, 2426, 2296, ...,    0,    0,    0],\n",
              "       ...,\n",
              "       [  35,   54,   48, ...,    0,    0,    0],\n",
              "       [1023,    1, 2248, ...,    0,    0,    0],\n",
              "       [ 185,    1, 1801, ...,    0,    0,    0]], dtype=int32)"
            ]
          },
          "metadata": {},
          "execution_count": 120
        }
      ]
    },
    {
      "cell_type": "code",
      "metadata": {
        "colab": {
          "base_uri": "https://localhost:8080/"
        },
        "id": "XPJVpiI6FaKf",
        "outputId": "80917c32-d101-49c1-9341-6407b8e3f15e"
      },
      "source": [
        "x_train.shape       # padding 완료"
      ],
      "execution_count": 122,
      "outputs": [
        {
          "output_type": "execute_result",
          "data": {
            "text/plain": [
              "(143376, 35)"
            ]
          },
          "metadata": {},
          "execution_count": 122
        }
      ]
    },
    {
      "cell_type": "markdown",
      "metadata": {
        "id": "b4ImeF4fb9Zo"
      },
      "source": [
        "### **LSTM 모델로 Sentiment Analysis** \n",
        "- 데이터 : "
      ]
    },
    {
      "cell_type": "markdown",
      "metadata": {
        "id": "mz2K5wzZb9g9"
      },
      "source": [
        "#### **Import Modules**"
      ]
    },
    {
      "cell_type": "code",
      "metadata": {
        "id": "wn-Q7uOTb9km"
      },
      "source": [
        "from tensorflow.keras.layers import Embedding, Dense, LSTM, Bidirectional\n",
        "from tensorflow.keras.models import Sequential, load_model\n",
        "from tensorflow.keras.callbacks import EarlyStopping, ModelCheckpoint"
      ],
      "execution_count": 2,
      "outputs": []
    },
    {
      "cell_type": "markdown",
      "metadata": {
        "id": "6LzSml_JG1Nw"
      },
      "source": [
        "#### **Modeling**\n",
        "- [Embedding](https://wikidocs.net/32105)\n",
        "- One-Hot Encoding + Dense Dimension\n",
        "- padding_len x cur_dim ---> padding_len x emb_dim"
      ]
    },
    {
      "cell_type": "code",
      "metadata": {
        "id": "u4Csemq1Bkn1"
      },
      "source": [
        "emb_dim = 64\n",
        "cur_dim = 19000     # vocab size\n",
        "padding_len = 35"
      ],
      "execution_count": 4,
      "outputs": []
    },
    {
      "cell_type": "code",
      "metadata": {
        "id": "_cAMDR7Sb9uZ"
      },
      "source": [
        "model = Sequential([\n",
        "    Embedding(cur_dim, emb_dim, input_length=padding_len),      \n",
        "    Bidirectional(LSTM(128, return_sequences=True)),\n",
        "    Bidirectional(LSTM(64)),\n",
        "    Dense(32, activation='relu'),\n",
        "    Dense(16, activation='relu'),\n",
        "    Dense(1, activation='sigmoid')\n",
        "])"
      ],
      "execution_count": 5,
      "outputs": []
    },
    {
      "cell_type": "code",
      "metadata": {
        "colab": {
          "base_uri": "https://localhost:8080/"
        },
        "id": "zBB1kHqWa2ss",
        "outputId": "5aefb9c7-e8d7-4369-8442-30427ff28264"
      },
      "source": [
        "model.summary()"
      ],
      "execution_count": 9,
      "outputs": [
        {
          "output_type": "stream",
          "name": "stdout",
          "text": [
            "Model: \"sequential\"\n",
            "_________________________________________________________________\n",
            " Layer (type)                Output Shape              Param #   \n",
            "=================================================================\n",
            " embedding (Embedding)       (None, 35, 64)            1216000   \n",
            "                                                                 \n",
            " bidirectional (Bidirectiona  (None, 35, 256)          197632    \n",
            " l)                                                              \n",
            "                                                                 \n",
            " bidirectional_1 (Bidirectio  (None, 128)              164352    \n",
            " nal)                                                            \n",
            "                                                                 \n",
            " dense (Dense)               (None, 32)                4128      \n",
            "                                                                 \n",
            " dense_1 (Dense)             (None, 16)                528       \n",
            "                                                                 \n",
            " dense_2 (Dense)             (None, 1)                 17        \n",
            "                                                                 \n",
            "=================================================================\n",
            "Total params: 1,582,657\n",
            "Trainable params: 1,582,657\n",
            "Non-trainable params: 0\n",
            "_________________________________________________________________\n"
          ]
        }
      ]
    },
    {
      "cell_type": "code",
      "metadata": {
        "id": "A3X0tY67sCWq"
      },
      "source": [
        "model.compile(optimizer='adam', loss='binary_crossentropy', metrics=['acc'])"
      ],
      "execution_count": 127,
      "outputs": []
    },
    {
      "cell_type": "code",
      "metadata": {
        "id": "fxsO9uRNsQh2"
      },
      "source": [
        "checkpoint_path = 'my_checkpoint.ckpt'\n",
        "checkpoint = ModelCheckpoint(checkpoint_path, \n",
        "                             save_weights_only=True, \n",
        "                             save_best_only=True, \n",
        "                             monitor='val_loss',\n",
        "                             verbose=1)"
      ],
      "execution_count": 128,
      "outputs": []
    },
    {
      "cell_type": "code",
      "metadata": {
        "id": "UJgFPcGIsSkY",
        "colab": {
          "base_uri": "https://localhost:8080/"
        },
        "outputId": "232de269-77cd-4559-b7a9-800a7af6922b"
      },
      "source": [
        "epochs=10\n",
        "history = model.fit(x_train, y_train, \n",
        "                    validation_data=(x_test, y_test),\n",
        "                    callbacks=[checkpoint],\n",
        "                    epochs=epochs)"
      ],
      "execution_count": 129,
      "outputs": [
        {
          "output_type": "stream",
          "name": "stdout",
          "text": [
            "Epoch 1/10\n",
            "4480/4481 [============================>.] - ETA: 0s - loss: 0.3787 - acc: 0.8286\n",
            "Epoch 00001: val_loss improved from inf to 0.34699, saving model to my_checkpoint.ckpt\n",
            "4481/4481 [==============================] - 233s 48ms/step - loss: 0.3787 - acc: 0.8286 - val_loss: 0.3470 - val_acc: 0.8488\n",
            "Epoch 2/10\n",
            "4480/4481 [============================>.] - ETA: 0s - loss: 0.2936 - acc: 0.8751\n",
            "Epoch 00002: val_loss improved from 0.34699 to 0.33911, saving model to my_checkpoint.ckpt\n",
            "4481/4481 [==============================] - 212s 47ms/step - loss: 0.2935 - acc: 0.8751 - val_loss: 0.3391 - val_acc: 0.8518\n",
            "Epoch 3/10\n",
            "4480/4481 [============================>.] - ETA: 0s - loss: 0.2461 - acc: 0.8977\n",
            "Epoch 00003: val_loss did not improve from 0.33911\n",
            "4481/4481 [==============================] - 212s 47ms/step - loss: 0.2461 - acc: 0.8977 - val_loss: 0.3512 - val_acc: 0.8495\n",
            "Epoch 4/10\n",
            "4481/4481 [==============================] - ETA: 0s - loss: 0.2051 - acc: 0.9166\n",
            "Epoch 00004: val_loss did not improve from 0.33911\n",
            "4481/4481 [==============================] - 212s 47ms/step - loss: 0.2051 - acc: 0.9166 - val_loss: 0.3873 - val_acc: 0.8431\n",
            "Epoch 5/10\n",
            "4481/4481 [==============================] - ETA: 0s - loss: 0.1677 - acc: 0.9332\n",
            "Epoch 00005: val_loss did not improve from 0.33911\n",
            "4481/4481 [==============================] - 212s 47ms/step - loss: 0.1677 - acc: 0.9332 - val_loss: 0.4495 - val_acc: 0.8418\n",
            "Epoch 6/10\n",
            "4481/4481 [==============================] - ETA: 0s - loss: 0.1357 - acc: 0.9473\n",
            "Epoch 00006: val_loss did not improve from 0.33911\n",
            "4481/4481 [==============================] - 212s 47ms/step - loss: 0.1357 - acc: 0.9473 - val_loss: 0.4808 - val_acc: 0.8409\n",
            "Epoch 7/10\n",
            "4481/4481 [==============================] - ETA: 0s - loss: 0.1105 - acc: 0.9569\n",
            "Epoch 00007: val_loss did not improve from 0.33911\n",
            "4481/4481 [==============================] - 212s 47ms/step - loss: 0.1105 - acc: 0.9569 - val_loss: 0.5910 - val_acc: 0.8359\n",
            "Epoch 8/10\n",
            "4481/4481 [==============================] - ETA: 0s - loss: 0.0909 - acc: 0.9652\n",
            "Epoch 00008: val_loss did not improve from 0.33911\n",
            "4481/4481 [==============================] - 213s 47ms/step - loss: 0.0909 - acc: 0.9652 - val_loss: 0.6052 - val_acc: 0.8324\n",
            "Epoch 9/10\n",
            "4481/4481 [==============================] - ETA: 0s - loss: 0.0765 - acc: 0.9707\n",
            "Epoch 00009: val_loss did not improve from 0.33911\n",
            "4481/4481 [==============================] - 212s 47ms/step - loss: 0.0765 - acc: 0.9707 - val_loss: 0.6982 - val_acc: 0.8330\n",
            "Epoch 10/10\n",
            "4480/4481 [============================>.] - ETA: 0s - loss: 0.0630 - acc: 0.9758\n",
            "Epoch 00010: val_loss did not improve from 0.33911\n",
            "4481/4481 [==============================] - 212s 47ms/step - loss: 0.0630 - acc: 0.9758 - val_loss: 0.8079 - val_acc: 0.8333\n"
          ]
        }
      ]
    },
    {
      "cell_type": "code",
      "metadata": {
        "id": "4jO1ucZ9ninH",
        "colab": {
          "base_uri": "https://localhost:8080/"
        },
        "outputId": "56999347-c94e-4aac-b58e-3c98d65cdd28"
      },
      "source": [
        "model.load_weights(checkpoint_path)"
      ],
      "execution_count": 130,
      "outputs": [
        {
          "output_type": "execute_result",
          "data": {
            "text/plain": [
              "<tensorflow.python.training.tracking.util.CheckpointLoadStatus at 0x7f2cf1734790>"
            ]
          },
          "metadata": {},
          "execution_count": 130
        }
      ]
    },
    {
      "cell_type": "code",
      "metadata": {
        "id": "8SljT4rmb9zK"
      },
      "source": [
        "loss, acc = model.evaluate(x_test, y_test)"
      ],
      "execution_count": null,
      "outputs": []
    },
    {
      "cell_type": "code",
      "metadata": {
        "colab": {
          "base_uri": "https://localhost:8080/"
        },
        "id": "Nfww6TCdSJN-",
        "outputId": "4f9d8975-3956-44bb-e16d-3128bedcd06e"
      },
      "source": [
        "print(\"Model Loss : {0}\\nModel Accuracy : {1}\".format(np.round(loss, 4), np.round(acc, 4)))"
      ],
      "execution_count": 134,
      "outputs": [
        {
          "output_type": "stream",
          "name": "stdout",
          "text": [
            "Model Loss : 0.3391\n",
            "Model Accuracy : 0.8518\n"
          ]
        }
      ]
    },
    {
      "cell_type": "markdown",
      "metadata": {
        "id": "eN8TBXuNb93g"
      },
      "source": [
        "### **Fitting 결과 시각화**"
      ]
    },
    {
      "cell_type": "code",
      "metadata": {
        "id": "wwus5OLdFg2t"
      },
      "source": [
        "import matplotlib.pyplot as plt"
      ],
      "execution_count": 135,
      "outputs": []
    },
    {
      "cell_type": "markdown",
      "metadata": {
        "id": "BmhMg-fbRPOD"
      },
      "source": [
        "#### **Loss/ Val_Loss**"
      ]
    },
    {
      "cell_type": "code",
      "metadata": {
        "id": "luCcz7AUE5Z3",
        "colab": {
          "base_uri": "https://localhost:8080/",
          "height": 351
        },
        "outputId": "6a57aa48-4841-450c-d375-f5cc3820d450"
      },
      "source": [
        "plt.figure(figsize=(8, 5))\n",
        "plt.plot(np.arange(1, epochs+1), history.history['loss'])\n",
        "plt.plot(np.arange(1, epochs+1), history.history['val_loss'])\n",
        "plt.title('Loss / Val Loss', fontsize=20)\n",
        "plt.xlabel('Epochs')\n",
        "plt.ylabel('Loss')\n",
        "plt.legend(['loss', 'val_loss'], fontsize=15)\n",
        "plt.show()"
      ],
      "execution_count": 136,
      "outputs": [
        {
          "output_type": "display_data",
          "data": {
            "image/png": "[encoded data removed]",
            "text/plain": [
              "<Figure size 576x360 with 1 Axes>"
            ]
          },
          "metadata": {}
        }
      ]
    },
    {
      "cell_type": "markdown",
      "metadata": {
        "id": "HTxIg1vXRUvY"
      },
      "source": [
        "#### **Accuracy/ Val_Accuracy**"
      ]
    },
    {
      "cell_type": "code",
      "metadata": {
        "colab": {
          "base_uri": "https://localhost:8080/",
          "height": 351
        },
        "id": "8mIuq5CPb98C",
        "outputId": "8bbf1875-1c7e-4bee-8f43-efdde63c0d16"
      },
      "source": [
        "plt.figure(figsize=(8, 5))\n",
        "plt.plot(np.arange(1, epochs+1), history.history['acc'])\n",
        "plt.plot(np.arange(1, epochs+1), history.history['val_acc'])\n",
        "plt.title('Acc / Val Acc', fontsize=20)\n",
        "plt.xlabel('Epochs')\n",
        "plt.ylabel('Acc')\n",
        "plt.legend(['acc', 'val_acc'], fontsize=15)\n",
        "plt.show()"
      ],
      "execution_count": 137,
      "outputs": [
        {
          "output_type": "display_data",
          "data": {
            "image/png": "[encoded data removed]",
            "text/plain": [
              "<Figure size 576x360 with 1 Axes>"
            ]
          },
          "metadata": {}
        }
      ]
    },
    {
      "cell_type": "markdown",
      "metadata": {
        "id": "L1bNFEooKwNz"
      },
      "source": [
        "### **Naver 지식인 코로나19 & 감정 관련 게시글 감정분석**"
      ]
    },
    {
      "cell_type": "code",
      "metadata": {
        "id": "wGDku1nvLCkr"
      },
      "source": [
        "from bs4 import BeautifulSoup\n",
        "import urllib.request \n",
        "import urllib.parse\n",
        "\n",
        "from tqdm import tqdm_notebook\n",
        "import time"
      ],
      "execution_count": 139,
      "outputs": []
    },
    {
      "cell_type": "code",
      "metadata": {
        "colab": {
          "base_uri": "https://localhost:8080/",
          "height": 102,
          "referenced_widgets": [
            "a3a96d93a13d422c823fac1da77e40c0",
            "903814baced4430280a586b4d1054b31",
            "7197c41b2daa4e57890ffc401ad36cd0",
            "25e1f7b926d146b3b05959311e0ee067",
            "ee678fa012d84b248289014ea6469dad",
            "84869e60351a402695b2bc20f78cd4fa",
            "9832e69d6e6c4e288dc259fc939c0705",
            "82af1b1a705043f8921324339af0280c",
            "b1319825b2c1487886e220d1980e15c4",
            "02d7cc7e91b143df9848071b24c7ce08",
            "2ae6e9f64fe540c2a82e7e4c267fe23c"
          ]
        },
        "id": "VG398gTrK5m7",
        "outputId": "6530c074-4c62-419c-d541-40cbed7e786e"
      },
      "source": [
        "base_url = \"https://search.naver.com/search.naver?where=kin&kin_display=10&qt=&title=0&&answer=0&grade=0&choice=0&sec=0&nso=so%3Ar%2Ca%3Aall%2Cp%3Aall&query={input}&c_id=&c_name=&sm=tab_pge&kin_start={i}&kin_age=0\"\n",
        "contents = []\n",
        "for i in tqdm_notebook(range(1, 5000+1, 10)):\n",
        "    search_url = urllib.request.urlopen(base_url.format(input=urllib.parse.quote_plus(\"코로나 & 감정\"), i=i))\n",
        "    soup = BeautifulSoup(search_url, 'html.parser')\n",
        "    tmp = soup.find_all(class_=\"question_group\")\n",
        "\n",
        "    for line in tmp:\n",
        "        contents.append(line.text)\n",
        "    time.sleep(1)"
      ],
      "execution_count": 140,
      "outputs": [
        {
          "output_type": "stream",
          "name": "stderr",
          "text": [
            "/usr/local/lib/python3.7/dist-packages/ipykernel_launcher.py:3: TqdmDeprecationWarning: This function will be removed in tqdm==5.0.0\n",
            "Please use `tqdm.notebook.tqdm` instead of `tqdm.tqdm_notebook`\n",
            "  This is separate from the ipykernel package so we can avoid doing imports until\n"
          ]
        },
        {
          "output_type": "display_data",
          "data": {
            "application/vnd.jupyter.widget-view+json": {
              "model_id": "a3a96d93a13d422c823fac1da77e40c0",
              "version_minor": 0,
              "version_major": 2
            },
            "text/plain": [
              "  0%|          | 0/500 [00:00<?, ?it/s]"
            ]
          },
          "metadata": {}
        }
      ]
    },
    {
      "cell_type": "code",
      "metadata": {
        "colab": {
          "base_uri": "https://localhost:8080/"
        },
        "id": "o3cLbMdibVl2",
        "outputId": "791a4e88-048f-48bc-ec1d-ad8a1c187437"
      },
      "source": [
        "contents[:2]\n",
        "for sen in contents[:2]:\n",
        "    print(get_sentiment(sen))"
      ],
      "execution_count": 158,
      "outputs": [
        {
          "output_type": "stream",
          "name": "stdout",
          "text": [
            "[[ 654  420 1450   75   17 1122   15  788 1216   18   10  266 2033  210\n",
            "   128   48 4582    6  564  210  794 2318   88 1216   12  171    4 9844\n",
            "     5   48   18  788 1216  804   48]]\n",
            "0.9743212461471558\n",
            "[[  822   624 13412    72     7 10078   562   768   116  1569     4  1016\n",
            "     63   550  7292     2   200  3923    21  1576  1799    78   183    31\n",
            "    104 10078 12058     2   200  3923    21  1799  2402  2402     6]]\n",
            "0.22160619497299194\n"
          ]
        }
      ]
    },
    {
      "cell_type": "code",
      "metadata": {
        "id": "sQrXKgqAO3KO"
      },
      "source": [
        "stopwords = ['의','가','이','은','들','는','좀','잘','걍','과','도','를','으로','자','에','와','한','하다']\n",
        "stopwords += ['이', '있', '하', '것', '들', '그', '되', '수', '이', '보', '않', '없', '나', '사람', '주', '아니', '등', '같', '우리', '때', '년', '가', '한', '지', '대하', '오', '말', '일', '그렇', '위하']\n",
        "stopwords = list(set(stopwords))"
      ],
      "execution_count": 141,
      "outputs": []
    },
    {
      "cell_type": "code",
      "metadata": {
        "colab": {
          "base_uri": "https://localhost:8080/"
        },
        "id": "GuHZgfj1NK6j",
        "outputId": "2197937f-7faf-48ee-d896-0772ba64ee0c"
      },
      "source": [
        "positive = 0\n",
        "neutral = 0\n",
        "negative = 0\n",
        "\n",
        "for sen in tqdm(contents):\n",
        "    tmp_res = get_sentiment(sen)\n",
        "    if tmp_res == 1:\n",
        "        positive += 1\n",
        "    elif tmp_res == 0:\n",
        "        neutral += 1\n",
        "    else:\n",
        "        negative += 1\n",
        "\n",
        "print()\n",
        "print(\"Positive 게시글 : {0}, Neutral 게시글 : {1}, Negative 게시글 : {2}\".format(positive, neutral, negative))"
      ],
      "execution_count": 162,
      "outputs": [
        {
          "output_type": "stream",
          "name": "stderr",
          "text": [
            "100%|██████████| 5000/5000 [06:39<00:00, 12.51it/s]"
          ]
        },
        {
          "output_type": "stream",
          "name": "stdout",
          "text": [
            "\n",
            "Positive 게시글 : 1247, Neutral 게시글 : 11, Negative 게시글 : 3742\n"
          ]
        },
        {
          "output_type": "stream",
          "name": "stderr",
          "text": [
            "\n"
          ]
        }
      ]
    },
    {
      "cell_type": "code",
      "metadata": {
        "id": "HA4HrBeLLapv"
      },
      "source": [
        "def get_sentiment(sen):\n",
        "    sen = re.sub(r\"[^ㄱ-ㅎㅏ-ㅣ가-힣 ]\", \"\", sen)\n",
        "    sen = okt.morphs(sen, stem=True)\n",
        "    sen = [word for word in sen if word not in stopwords]\n",
        "    encoded = tokenizer.texts_to_sequences([sen])       # label encoding\n",
        "    padded = pad_sequences(encoded, maxlen=padding_len)       # padding\n",
        "    # print(padded)\n",
        "    score = float(model.predict(padded))\n",
        "    if score > 0.505:\n",
        "        return 1\n",
        "    elif 0.495 <= score <= 0.505 :\n",
        "        return 0\n",
        "    else:\n",
        "        return -1"
      ],
      "execution_count": 161,
      "outputs": []
    },
    {
      "cell_type": "markdown",
      "metadata": {
        "id": "QT61i3GrWSBT"
      },
      "source": [
        "#### **Pie Chart 로 시각화**"
      ]
    },
    {
      "cell_type": "code",
      "metadata": {
        "colab": {
          "base_uri": "https://localhost:8080/"
        },
        "id": "VoNOwUEnc73w",
        "outputId": "02b6612d-b588-410b-b6bf-2a3767f3de87"
      },
      "source": [
        "!apt -qq -y install fonts-nanum > /dev/null"
      ],
      "execution_count": 181,
      "outputs": [
        {
          "output_type": "stream",
          "name": "stdout",
          "text": [
            "\n",
            "WARNING: apt does not have a stable CLI interface. Use with caution in scripts.\n",
            "\n"
          ]
        }
      ]
    },
    {
      "cell_type": "code",
      "metadata": {
        "id": "0m-XBrT5eiEv"
      },
      "source": [
        "import matplotlib.font_manager as fm\n",
        "from matplotlib import rc\n",
        "\n",
        "fontpath=\"/usr/share/fonts/truetype/nanum/NanumBarunGothic.ttf\"\n",
        "font = fm.FontProperties(fname=fontpath).get_name()"
      ],
      "execution_count": 185,
      "outputs": []
    },
    {
      "cell_type": "code",
      "metadata": {
        "colab": {
          "base_uri": "https://localhost:8080/",
          "height": 633
        },
        "id": "ElhFoPc-M5q2",
        "outputId": "c60b8ef8-d0b1-4535-bc14-586cce5659b2"
      },
      "source": [
        "figure = plt.figure(figsize=(10, 11))\n",
        "wedgeprops={'width': 0.5, 'edgecolor': 'w', 'linewidth': 3}\n",
        "rc('font', family=font)\n",
        "\n",
        "plt.pie([positive, negative, neutral], labels=[\"Positive Posting\", \"Negative Posting\", \"Neutral Posting\"], \\\n",
        "        autopct='%.1f%%', startangle=80, explode=[0.02 for _ in range(3)], \\\n",
        "        wedgeprops=wedgeprops, counterclock=False)\n",
        "\n",
        "plt.legend(loc='upper right', shadow=True, fancybox=True, borderpad=0.1)\n",
        "plt.title(\"Sentiment Analysis for Covid19 Keywords Searched from Naver Kin\", fontsize=20)\n",
        "plt.tight_layout()\n",
        "\n",
        "plt.show()"
      ],
      "execution_count": 195,
      "outputs": [
        {
          "output_type": "display_data",
          "data": {
            "image/png": "[encoded data removed]",
            "text/plain": [
              "<Figure size 720x792 with 1 Axes>"
            ]
          },
          "metadata": {}
        }
      ]
    }
  ]
}
