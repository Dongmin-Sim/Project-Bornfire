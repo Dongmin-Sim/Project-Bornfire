{
  "nbformat": 4,
  "nbformat_minor": 0,
  "metadata": {
    "colab": {
      "name": "[Data-모델]LSTM_trained_with_Multiple_Datasets.ipynb",
      "provenance": [],
      "collapsed_sections": [],
      "toc_visible": true
    },
    "kernelspec": {
      "name": "python3",
      "display_name": "Python 3"
    },
    "language_info": {
      "name": "python"
    },
    "accelerator": "GPU"
  },
  "cells": [
    {
      "cell_type": "code",
      "metadata": {
        "id": "yrqdu1JSbAiW",
        "colab": {
          "base_uri": "https://localhost:8080/"
        },
        "outputId": "2acd95cd-aad1-498b-b225-15dd0cac8430"
      },
      "source": [
        "!pip install konlpy"
      ],
      "execution_count": null,
      "outputs": [
        {
          "output_type": "stream",
          "name": "stdout",
          "text": [
            "Collecting konlpy\n",
            "  Downloading konlpy-0.5.2-py2.py3-none-any.whl (19.4 MB)\n",
            "\u001b[K     |████████████████████████████████| 19.4 MB 1.4 MB/s \n",
            "\u001b[?25hRequirement already satisfied: tweepy>=3.7.0 in /usr/local/lib/python3.7/dist-packages (from konlpy) (3.10.0)\n",
            "Collecting JPype1>=0.7.0\n",
            "  Downloading JPype1-1.3.0-cp37-cp37m-manylinux_2_5_x86_64.manylinux1_x86_64.whl (448 kB)\n",
            "\u001b[K     |████████████████████████████████| 448 kB 42.7 MB/s \n",
            "\u001b[?25hRequirement already satisfied: lxml>=4.1.0 in /usr/local/lib/python3.7/dist-packages (from konlpy) (4.2.6)\n",
            "Collecting beautifulsoup4==4.6.0\n",
            "  Downloading beautifulsoup4-4.6.0-py3-none-any.whl (86 kB)\n",
            "\u001b[K     |████████████████████████████████| 86 kB 5.4 MB/s \n",
            "\u001b[?25hRequirement already satisfied: numpy>=1.6 in /usr/local/lib/python3.7/dist-packages (from konlpy) (1.19.5)\n",
            "Collecting colorama\n",
            "  Downloading colorama-0.4.4-py2.py3-none-any.whl (16 kB)\n",
            "Requirement already satisfied: typing-extensions in /usr/local/lib/python3.7/dist-packages (from JPype1>=0.7.0->konlpy) (3.10.0.2)\n",
            "Requirement already satisfied: six>=1.10.0 in /usr/local/lib/python3.7/dist-packages (from tweepy>=3.7.0->konlpy) (1.15.0)\n",
            "Requirement already satisfied: requests-oauthlib>=0.7.0 in /usr/local/lib/python3.7/dist-packages (from tweepy>=3.7.0->konlpy) (1.3.0)\n",
            "Requirement already satisfied: requests[socks]>=2.11.1 in /usr/local/lib/python3.7/dist-packages (from tweepy>=3.7.0->konlpy) (2.23.0)\n",
            "Requirement already satisfied: oauthlib>=3.0.0 in /usr/local/lib/python3.7/dist-packages (from requests-oauthlib>=0.7.0->tweepy>=3.7.0->konlpy) (3.1.1)\n",
            "Requirement already satisfied: idna<3,>=2.5 in /usr/local/lib/python3.7/dist-packages (from requests[socks]>=2.11.1->tweepy>=3.7.0->konlpy) (2.10)\n",
            "Requirement already satisfied: certifi>=2017.4.17 in /usr/local/lib/python3.7/dist-packages (from requests[socks]>=2.11.1->tweepy>=3.7.0->konlpy) (2021.10.8)\n",
            "Requirement already satisfied: chardet<4,>=3.0.2 in /usr/local/lib/python3.7/dist-packages (from requests[socks]>=2.11.1->tweepy>=3.7.0->konlpy) (3.0.4)\n",
            "Requirement already satisfied: urllib3!=1.25.0,!=1.25.1,<1.26,>=1.21.1 in /usr/local/lib/python3.7/dist-packages (from requests[socks]>=2.11.1->tweepy>=3.7.0->konlpy) (1.24.3)\n",
            "Requirement already satisfied: PySocks!=1.5.7,>=1.5.6 in /usr/local/lib/python3.7/dist-packages (from requests[socks]>=2.11.1->tweepy>=3.7.0->konlpy) (1.7.1)\n",
            "Installing collected packages: JPype1, colorama, beautifulsoup4, konlpy\n",
            "  Attempting uninstall: beautifulsoup4\n",
            "    Found existing installation: beautifulsoup4 4.6.3\n",
            "    Uninstalling beautifulsoup4-4.6.3:\n",
            "      Successfully uninstalled beautifulsoup4-4.6.3\n",
            "Successfully installed JPype1-1.3.0 beautifulsoup4-4.6.0 colorama-0.4.4 konlpy-0.5.2\n"
          ]
        }
      ]
    },
    {
      "cell_type": "code",
      "metadata": {
        "id": "4TnC3hNUW4kO"
      },
      "source": [
        "import re\n",
        "import urllib.request\n",
        "import numpy as np\n",
        "import warnings\n",
        "warnings.simplefilter(action='ignore', category=RuntimeWarning)\n",
        "import pandas as pd\n",
        "import matplotlib.pyplot as plt\n",
        "plt.style.use(\"seaborn-dark\")\n",
        "\n",
        "from konlpy.tag import Mecab\n",
        "from tensorflow.keras.preprocessing.text import Tokenizer\n",
        "from tensorflow.keras.preprocessing.sequence import pad_sequences"
      ],
      "execution_count": null,
      "outputs": []
    },
    {
      "cell_type": "markdown",
      "metadata": {
        "id": "HFNbgWNR5zyW"
      },
      "source": [
        "## **DATASET 정리**"
      ]
    },
    {
      "cell_type": "code",
      "metadata": {
        "id": "TD6TWjv4wwfh"
      },
      "source": [
        "def preprocess_df(train_data, test_data):\n",
        "\n",
        "    train_data.drop_duplicates(subset=['document'], inplace=True)\n",
        "    train_data.dropna(inplace=True)\n",
        "    train_data['document'] = train_data['document'].str.replace(\"[^ㄱ-ㅎㅏ-ㅣ가-힣 ]\",\"\")\n",
        "    train_data['document'] = train_data['document'].str.replace('^ +', \"\")   \n",
        "    train_data['document'].replace(\"\", np.nan, inplace=True)      \n",
        "    train_data.dropna(inplace=True)\n",
        "    train_data.drop_duplicates(subset=['document'], inplace=True)\n",
        "\n",
        "    test_data.drop_duplicates(subset=['document'], inplace=True)\n",
        "    test_data.dropna(inplace=True)\n",
        "    test_data['document'] = test_data['document'].str.replace(\"[^ㄱ-ㅎㅏ-ㅣ가-힣 ]\",\"\")\n",
        "    test_data['document'] = test_data['document'].str.replace('^ +', \"\")   \n",
        "    test_data['document'].replace(\"\", np.nan, inplace=True)      \n",
        "    test_data.dropna(inplace=True)\n",
        "    test_data.drop_duplicates(subset=['document'], inplace=True)\n",
        "\n",
        "    return train_data, test_data"
      ],
      "execution_count": null,
      "outputs": []
    },
    {
      "cell_type": "markdown",
      "metadata": {
        "id": "JhbB9fcl1-t_"
      },
      "source": [
        "### **Naver Movie Review Datset**"
      ]
    },
    {
      "cell_type": "code",
      "metadata": {
        "id": "4cEcX_LB1-6g",
        "colab": {
          "base_uri": "https://localhost:8080/"
        },
        "outputId": "64066244-41c7-4f8c-cd63-40d9b6fe02a0"
      },
      "source": [
        "urllib.request.urlretrieve(\"https://raw.githubusercontent.com/e9t/nsmc/master/ratings_train.txt\",\\\n",
        "                           filename=\"ratings_train.txt\")\n",
        "urllib.request.urlretrieve(\"https://raw.githubusercontent.com/e9t/nsmc/master/ratings_test.txt\",\\\n",
        "                           filename=\"ratings_test.txt\")"
      ],
      "execution_count": null,
      "outputs": [
        {
          "output_type": "execute_result",
          "data": {
            "text/plain": [
              "('ratings_test.txt', <http.client.HTTPMessage at 0x7f41000f26d0>)"
            ]
          },
          "metadata": {},
          "execution_count": 24
        }
      ]
    },
    {
      "cell_type": "code",
      "metadata": {
        "id": "10l0gcCYb6mz"
      },
      "source": [
        "movie_test_data = pd.read_table(\"/content/ratings_test.txt\")\n",
        "movie_train_data = pd.read_table(\"/content/ratings_train.txt\")"
      ],
      "execution_count": null,
      "outputs": []
    },
    {
      "cell_type": "code",
      "metadata": {
        "colab": {
          "base_uri": "https://localhost:8080/",
          "height": 418
        },
        "id": "lNvWHpbQz2QX",
        "outputId": "74112041-7409-4430-a7e3-2d323a93ac90"
      },
      "source": [
        "movie_train_data"
      ],
      "execution_count": null,
      "outputs": [
        {
          "output_type": "execute_result",
          "data": {
            "text/html": [
              "<div>\n",
              "<style scoped>\n",
              "    .dataframe tbody tr th:only-of-type {\n",
              "        vertical-align: middle;\n",
              "    }\n",
              "\n",
              "    .dataframe tbody tr th {\n",
              "        vertical-align: top;\n",
              "    }\n",
              "\n",
              "    .dataframe thead th {\n",
              "        text-align: right;\n",
              "    }\n",
              "</style>\n",
              "<table border=\"1\" class=\"dataframe\">\n",
              "  <thead>\n",
              "    <tr style=\"text-align: right;\">\n",
              "      <th></th>\n",
              "      <th>id</th>\n",
              "      <th>document</th>\n",
              "      <th>label</th>\n",
              "    </tr>\n",
              "  </thead>\n",
              "  <tbody>\n",
              "    <tr>\n",
              "      <th>0</th>\n",
              "      <td>9976970</td>\n",
              "      <td>아 더빙.. 진짜 짜증나네요 목소리</td>\n",
              "      <td>0</td>\n",
              "    </tr>\n",
              "    <tr>\n",
              "      <th>1</th>\n",
              "      <td>3819312</td>\n",
              "      <td>흠...포스터보고 초딩영화줄....오버연기조차 가볍지 않구나</td>\n",
              "      <td>1</td>\n",
              "    </tr>\n",
              "    <tr>\n",
              "      <th>2</th>\n",
              "      <td>10265843</td>\n",
              "      <td>너무재밓었다그래서보는것을추천한다</td>\n",
              "      <td>0</td>\n",
              "    </tr>\n",
              "    <tr>\n",
              "      <th>3</th>\n",
              "      <td>9045019</td>\n",
              "      <td>교도소 이야기구먼 ..솔직히 재미는 없다..평점 조정</td>\n",
              "      <td>0</td>\n",
              "    </tr>\n",
              "    <tr>\n",
              "      <th>4</th>\n",
              "      <td>6483659</td>\n",
              "      <td>사이몬페그의 익살스런 연기가 돋보였던 영화!스파이더맨에서 늙어보이기만 했던 커스틴 ...</td>\n",
              "      <td>1</td>\n",
              "    </tr>\n",
              "    <tr>\n",
              "      <th>...</th>\n",
              "      <td>...</td>\n",
              "      <td>...</td>\n",
              "      <td>...</td>\n",
              "    </tr>\n",
              "    <tr>\n",
              "      <th>149995</th>\n",
              "      <td>6222902</td>\n",
              "      <td>인간이 문제지.. 소는 뭔죄인가..</td>\n",
              "      <td>0</td>\n",
              "    </tr>\n",
              "    <tr>\n",
              "      <th>149996</th>\n",
              "      <td>8549745</td>\n",
              "      <td>평점이 너무 낮아서...</td>\n",
              "      <td>1</td>\n",
              "    </tr>\n",
              "    <tr>\n",
              "      <th>149997</th>\n",
              "      <td>9311800</td>\n",
              "      <td>이게 뭐요? 한국인은 거들먹거리고 필리핀 혼혈은 착하다?</td>\n",
              "      <td>0</td>\n",
              "    </tr>\n",
              "    <tr>\n",
              "      <th>149998</th>\n",
              "      <td>2376369</td>\n",
              "      <td>청춘 영화의 최고봉.방황과 우울했던 날들의 자화상</td>\n",
              "      <td>1</td>\n",
              "    </tr>\n",
              "    <tr>\n",
              "      <th>149999</th>\n",
              "      <td>9619869</td>\n",
              "      <td>한국 영화 최초로 수간하는 내용이 담긴 영화</td>\n",
              "      <td>0</td>\n",
              "    </tr>\n",
              "  </tbody>\n",
              "</table>\n",
              "<p>150000 rows × 3 columns</p>\n",
              "</div>"
            ],
            "text/plain": [
              "              id                                           document  label\n",
              "0        9976970                                아 더빙.. 진짜 짜증나네요 목소리      0\n",
              "1        3819312                  흠...포스터보고 초딩영화줄....오버연기조차 가볍지 않구나      1\n",
              "2       10265843                                  너무재밓었다그래서보는것을추천한다      0\n",
              "3        9045019                      교도소 이야기구먼 ..솔직히 재미는 없다..평점 조정      0\n",
              "4        6483659  사이몬페그의 익살스런 연기가 돋보였던 영화!스파이더맨에서 늙어보이기만 했던 커스틴 ...      1\n",
              "...          ...                                                ...    ...\n",
              "149995   6222902                                인간이 문제지.. 소는 뭔죄인가..      0\n",
              "149996   8549745                                      평점이 너무 낮아서...      1\n",
              "149997   9311800                    이게 뭐요? 한국인은 거들먹거리고 필리핀 혼혈은 착하다?      0\n",
              "149998   2376369                        청춘 영화의 최고봉.방황과 우울했던 날들의 자화상      1\n",
              "149999   9619869                           한국 영화 최초로 수간하는 내용이 담긴 영화      0\n",
              "\n",
              "[150000 rows x 3 columns]"
            ]
          },
          "metadata": {},
          "execution_count": 26
        }
      ]
    },
    {
      "cell_type": "markdown",
      "metadata": {
        "id": "wsI7vW7FxxMk"
      },
      "source": [
        "### **Naver ShoppingMall Review Dataset**\n"
      ]
    },
    {
      "cell_type": "code",
      "metadata": {
        "colab": {
          "base_uri": "https://localhost:8080/"
        },
        "id": "ohL2wL2Hyqh9",
        "outputId": "0241be04-6125-4ce3-af19-0b3b5b08ca93"
      },
      "source": [
        "urllib.request.urlretrieve(\"https://raw.githubusercontent.com/bab2min/corpus/master/sentiment/naver_shopping.txt\", \\\n",
        "                    filename=\"shop_ratings.txt\")"
      ],
      "execution_count": null,
      "outputs": [
        {
          "output_type": "execute_result",
          "data": {
            "text/plain": [
              "('shop_ratings.txt', <http.client.HTTPMessage at 0x7f410008d410>)"
            ]
          },
          "metadata": {},
          "execution_count": 27
        }
      ]
    },
    {
      "cell_type": "code",
      "metadata": {
        "id": "c2TaU-6Xy3WQ"
      },
      "source": [
        "shop_data = pd.read_table(\"/content/shop_ratings.txt\")"
      ],
      "execution_count": null,
      "outputs": []
    },
    {
      "cell_type": "code",
      "metadata": {
        "id": "iAdABxTsznBK"
      },
      "source": [
        "shop_data = shop_data.rename(columns={'5' : \"label\", \"배공빠르고 굿\" : \"document\"})\n",
        "shop_data['label'] = shop_data['label'].apply(lambda x : 1 if x > 3 else 0)"
      ],
      "execution_count": null,
      "outputs": []
    },
    {
      "cell_type": "code",
      "metadata": {
        "colab": {
          "base_uri": "https://localhost:8080/"
        },
        "id": "b8WB-h6S0DNn",
        "outputId": "6d6e398a-d85e-4ad0-e941-97b2003b685a"
      },
      "source": [
        "shop_data.shape"
      ],
      "execution_count": null,
      "outputs": [
        {
          "output_type": "execute_result",
          "data": {
            "text/plain": [
              "(199999, 2)"
            ]
          },
          "metadata": {},
          "execution_count": 30
        }
      ]
    },
    {
      "cell_type": "code",
      "metadata": {
        "id": "vljPiqK-0KVs"
      },
      "source": [
        "shop_train_data = shop_data.iloc[:150000, :]\n",
        "shop_test_data = shop_data.iloc[150000: :]"
      ],
      "execution_count": null,
      "outputs": []
    },
    {
      "cell_type": "code",
      "metadata": {
        "colab": {
          "base_uri": "https://localhost:8080/"
        },
        "id": "exM853ll0bd2",
        "outputId": "cc889ca0-b1b8-4bb4-d51c-dbf780d65335"
      },
      "source": [
        "shop_train_data.info()"
      ],
      "execution_count": null,
      "outputs": [
        {
          "output_type": "stream",
          "name": "stdout",
          "text": [
            "<class 'pandas.core.frame.DataFrame'>\n",
            "RangeIndex: 150000 entries, 0 to 149999\n",
            "Data columns (total 2 columns):\n",
            " #   Column    Non-Null Count   Dtype \n",
            "---  ------    --------------   ----- \n",
            " 0   label     150000 non-null  int64 \n",
            " 1   document  150000 non-null  object\n",
            "dtypes: int64(1), object(1)\n",
            "memory usage: 2.3+ MB\n"
          ]
        }
      ]
    },
    {
      "cell_type": "code",
      "metadata": {
        "colab": {
          "base_uri": "https://localhost:8080/"
        },
        "id": "5XIadVT80dw_",
        "outputId": "933dcf35-7920-4173-eb77-86ac8775dee1"
      },
      "source": [
        "shop_test_data.info()"
      ],
      "execution_count": null,
      "outputs": [
        {
          "output_type": "stream",
          "name": "stdout",
          "text": [
            "<class 'pandas.core.frame.DataFrame'>\n",
            "RangeIndex: 49999 entries, 150000 to 199998\n",
            "Data columns (total 2 columns):\n",
            " #   Column    Non-Null Count  Dtype \n",
            "---  ------    --------------  ----- \n",
            " 0   label     49999 non-null  int64 \n",
            " 1   document  49999 non-null  object\n",
            "dtypes: int64(1), object(1)\n",
            "memory usage: 781.4+ KB\n"
          ]
        }
      ]
    },
    {
      "cell_type": "code",
      "metadata": {
        "colab": {
          "base_uri": "https://localhost:8080/",
          "height": 358
        },
        "id": "s46snqLT0pGj",
        "outputId": "9b513eca-0737-4956-823c-e91e6d50be41"
      },
      "source": [
        "shop_train_data.head(10)"
      ],
      "execution_count": null,
      "outputs": [
        {
          "output_type": "execute_result",
          "data": {
            "text/html": [
              "<div>\n",
              "<style scoped>\n",
              "    .dataframe tbody tr th:only-of-type {\n",
              "        vertical-align: middle;\n",
              "    }\n",
              "\n",
              "    .dataframe tbody tr th {\n",
              "        vertical-align: top;\n",
              "    }\n",
              "\n",
              "    .dataframe thead th {\n",
              "        text-align: right;\n",
              "    }\n",
              "</style>\n",
              "<table border=\"1\" class=\"dataframe\">\n",
              "  <thead>\n",
              "    <tr style=\"text-align: right;\">\n",
              "      <th></th>\n",
              "      <th>label</th>\n",
              "      <th>document</th>\n",
              "    </tr>\n",
              "  </thead>\n",
              "  <tbody>\n",
              "    <tr>\n",
              "      <th>0</th>\n",
              "      <td>0</td>\n",
              "      <td>택배가 엉망이네용 저희집 밑에층에 말도없이 놔두고가고</td>\n",
              "    </tr>\n",
              "    <tr>\n",
              "      <th>1</th>\n",
              "      <td>1</td>\n",
              "      <td>아주좋아요 바지 정말 좋아서2개 더 구매했어요 이가격에 대박입니다. 바느질이 조금 ...</td>\n",
              "    </tr>\n",
              "    <tr>\n",
              "      <th>2</th>\n",
              "      <td>0</td>\n",
              "      <td>선물용으로 빨리 받아서 전달했어야 하는 상품이었는데 머그컵만 와서 당황했습니다. 전...</td>\n",
              "    </tr>\n",
              "    <tr>\n",
              "      <th>3</th>\n",
              "      <td>1</td>\n",
              "      <td>민트색상 예뻐요. 옆 손잡이는 거는 용도로도 사용되네요 ㅎㅎ</td>\n",
              "    </tr>\n",
              "    <tr>\n",
              "      <th>4</th>\n",
              "      <td>0</td>\n",
              "      <td>비추합니다 계란 뒤집을 때 완전 불편해요 ㅠㅠ 코팅도 묻어나고 보기엔 예쁘고 실용적...</td>\n",
              "    </tr>\n",
              "    <tr>\n",
              "      <th>5</th>\n",
              "      <td>0</td>\n",
              "      <td>주문을 11월6에 시켰는데 11월16일에 배송이 왔네요 ㅎㅎㅎ 여기 회사측과는 전화...</td>\n",
              "    </tr>\n",
              "    <tr>\n",
              "      <th>6</th>\n",
              "      <td>0</td>\n",
              "      <td>넉넉한 길이로 주문했는데도 안 맞네요 별로예요</td>\n",
              "    </tr>\n",
              "    <tr>\n",
              "      <th>7</th>\n",
              "      <td>0</td>\n",
              "      <td>보폴이 계속 때처럼 나오다가 지금은 안나네요~</td>\n",
              "    </tr>\n",
              "    <tr>\n",
              "      <th>8</th>\n",
              "      <td>0</td>\n",
              "      <td>110인데 전문속옷브랜드 위생팬티105보다 작은듯해요. 불편해요. 밴딩부분이 다 신...</td>\n",
              "    </tr>\n",
              "    <tr>\n",
              "      <th>9</th>\n",
              "      <td>1</td>\n",
              "      <td>사이즈도 딱이고 귀엽고 넘 좋아요 ㅎㅎ</td>\n",
              "    </tr>\n",
              "  </tbody>\n",
              "</table>\n",
              "</div>"
            ],
            "text/plain": [
              "   label                                           document\n",
              "0      0                      택배가 엉망이네용 저희집 밑에층에 말도없이 놔두고가고\n",
              "1      1  아주좋아요 바지 정말 좋아서2개 더 구매했어요 이가격에 대박입니다. 바느질이 조금 ...\n",
              "2      0  선물용으로 빨리 받아서 전달했어야 하는 상품이었는데 머그컵만 와서 당황했습니다. 전...\n",
              "3      1                  민트색상 예뻐요. 옆 손잡이는 거는 용도로도 사용되네요 ㅎㅎ\n",
              "4      0  비추합니다 계란 뒤집을 때 완전 불편해요 ㅠㅠ 코팅도 묻어나고 보기엔 예쁘고 실용적...\n",
              "5      0  주문을 11월6에 시켰는데 11월16일에 배송이 왔네요 ㅎㅎㅎ 여기 회사측과는 전화...\n",
              "6      0                          넉넉한 길이로 주문했는데도 안 맞네요 별로예요\n",
              "7      0                          보폴이 계속 때처럼 나오다가 지금은 안나네요~\n",
              "8      0  110인데 전문속옷브랜드 위생팬티105보다 작은듯해요. 불편해요. 밴딩부분이 다 신...\n",
              "9      1                              사이즈도 딱이고 귀엽고 넘 좋아요 ㅎㅎ"
            ]
          },
          "metadata": {},
          "execution_count": 34
        }
      ]
    },
    {
      "cell_type": "code",
      "metadata": {
        "colab": {
          "base_uri": "https://localhost:8080/"
        },
        "id": "GCZsS3vy0728",
        "outputId": "889aa2a2-fe5e-460c-f55d-f9173cc7b852"
      },
      "source": [
        "shop_train_data['label'].value_counts()"
      ],
      "execution_count": null,
      "outputs": [
        {
          "output_type": "execute_result",
          "data": {
            "text/plain": [
              "0    75109\n",
              "1    74891\n",
              "Name: label, dtype: int64"
            ]
          },
          "metadata": {},
          "execution_count": 35
        }
      ]
    },
    {
      "cell_type": "code",
      "metadata": {
        "colab": {
          "base_uri": "https://localhost:8080/"
        },
        "id": "rBorgKBw1OLX",
        "outputId": "d4228f87-ee61-41eb-8be4-3bb48548bb8a"
      },
      "source": [
        "shop_test_data['label'].value_counts()"
      ],
      "execution_count": null,
      "outputs": [
        {
          "output_type": "execute_result",
          "data": {
            "text/plain": [
              "1    25071\n",
              "0    24928\n",
              "Name: label, dtype: int64"
            ]
          },
          "metadata": {},
          "execution_count": 36
        }
      ]
    },
    {
      "cell_type": "markdown",
      "metadata": {
        "id": "zaUcf6xryerU"
      },
      "source": [
        "### **Game Review Dataset**"
      ]
    },
    {
      "cell_type": "code",
      "metadata": {
        "colab": {
          "base_uri": "https://localhost:8080/"
        },
        "id": "-XLsXaS9yhq3",
        "outputId": "61e08957-cd5e-435e-d579-cacad86c0e34"
      },
      "source": [
        "urllib.request.urlretrieve(\"https://raw.githubusercontent.com/bab2min/corpus/master/sentiment/steam.txt\", \\\n",
        "                           filename=\"game_ratings.txt\")"
      ],
      "execution_count": null,
      "outputs": [
        {
          "output_type": "execute_result",
          "data": {
            "text/plain": [
              "('game_ratings.txt', <http.client.HTTPMessage at 0x7f41000aa3d0>)"
            ]
          },
          "metadata": {},
          "execution_count": 37
        }
      ]
    },
    {
      "cell_type": "code",
      "metadata": {
        "id": "OHYIXuK1y6Zk"
      },
      "source": [
        "game_data = pd.read_table(\"/content/game_ratings.txt\")"
      ],
      "execution_count": null,
      "outputs": []
    },
    {
      "cell_type": "code",
      "metadata": {
        "colab": {
          "base_uri": "https://localhost:8080/",
          "height": 418
        },
        "id": "oU3C3cIm0jtS",
        "outputId": "9a99b743-531c-4e2f-b3b2-7ae1c07e14a2"
      },
      "source": [
        "game_data"
      ],
      "execution_count": null,
      "outputs": [
        {
          "output_type": "execute_result",
          "data": {
            "text/html": [
              "<div>\n",
              "<style scoped>\n",
              "    .dataframe tbody tr th:only-of-type {\n",
              "        vertical-align: middle;\n",
              "    }\n",
              "\n",
              "    .dataframe tbody tr th {\n",
              "        vertical-align: top;\n",
              "    }\n",
              "\n",
              "    .dataframe thead th {\n",
              "        text-align: right;\n",
              "    }\n",
              "</style>\n",
              "<table border=\"1\" class=\"dataframe\">\n",
              "  <thead>\n",
              "    <tr style=\"text-align: right;\">\n",
              "      <th></th>\n",
              "      <th>0</th>\n",
              "      <th>노래가 너무 적음</th>\n",
              "    </tr>\n",
              "  </thead>\n",
              "  <tbody>\n",
              "    <tr>\n",
              "      <th>0</th>\n",
              "      <td>0</td>\n",
              "      <td>돌겠네 진짜. 황숙아, 어크 공장 그만 돌려라. 죽는다.</td>\n",
              "    </tr>\n",
              "    <tr>\n",
              "      <th>1</th>\n",
              "      <td>1</td>\n",
              "      <td>막노동 체험판 막노동 하는사람인데 장비를 내가 사야돼 뭐지</td>\n",
              "    </tr>\n",
              "    <tr>\n",
              "      <th>2</th>\n",
              "      <td>1</td>\n",
              "      <td>차악!차악!!차악!!! 정말 이래서 왕국을 되찾을 수 있는거야??</td>\n",
              "    </tr>\n",
              "    <tr>\n",
              "      <th>3</th>\n",
              "      <td>1</td>\n",
              "      <td>시간 때우기에 좋음.. 도전과제는 50시간이면 다 깰 수 있어요</td>\n",
              "    </tr>\n",
              "    <tr>\n",
              "      <th>4</th>\n",
              "      <td>1</td>\n",
              "      <td>역시 재미있네요 전작에서 할수 없었던 자유로운 덱 빌딩도 좋네요^^</td>\n",
              "    </tr>\n",
              "    <tr>\n",
              "      <th>...</th>\n",
              "      <td>...</td>\n",
              "      <td>...</td>\n",
              "    </tr>\n",
              "    <tr>\n",
              "      <th>99994</th>\n",
              "      <td>0</td>\n",
              "      <td>한글화해주면 10개산다</td>\n",
              "    </tr>\n",
              "    <tr>\n",
              "      <th>99995</th>\n",
              "      <td>0</td>\n",
              "      <td>개쌉노잼 ㅋㅋ</td>\n",
              "    </tr>\n",
              "    <tr>\n",
              "      <th>99996</th>\n",
              "      <td>0</td>\n",
              "      <td>노잼이네요... 30분하고 지웠어요...</td>\n",
              "    </tr>\n",
              "    <tr>\n",
              "      <th>99997</th>\n",
              "      <td>1</td>\n",
              "      <td>야생을 사랑하는 사람들을 위한 짧지만 여운이 남는 이야기. 영어는 그리 어렵지 않습니다.</td>\n",
              "    </tr>\n",
              "    <tr>\n",
              "      <th>99998</th>\n",
              "      <td>1</td>\n",
              "      <td>한국의 메탈레이지를 떠오르게한다 진짜 손맛으로 하는게임</td>\n",
              "    </tr>\n",
              "  </tbody>\n",
              "</table>\n",
              "<p>99999 rows × 2 columns</p>\n",
              "</div>"
            ],
            "text/plain": [
              "       0                                          노래가 너무 적음\n",
              "0      0                    돌겠네 진짜. 황숙아, 어크 공장 그만 돌려라. 죽는다.\n",
              "1      1                   막노동 체험판 막노동 하는사람인데 장비를 내가 사야돼 뭐지\n",
              "2      1               차악!차악!!차악!!! 정말 이래서 왕국을 되찾을 수 있는거야??\n",
              "3      1                시간 때우기에 좋음.. 도전과제는 50시간이면 다 깰 수 있어요\n",
              "4      1              역시 재미있네요 전작에서 할수 없었던 자유로운 덱 빌딩도 좋네요^^\n",
              "...   ..                                                ...\n",
              "99994  0                                       한글화해주면 10개산다\n",
              "99995  0                                            개쌉노잼 ㅋㅋ\n",
              "99996  0                             노잼이네요... 30분하고 지웠어요...\n",
              "99997  1  야생을 사랑하는 사람들을 위한 짧지만 여운이 남는 이야기. 영어는 그리 어렵지 않습니다.\n",
              "99998  1                     한국의 메탈레이지를 떠오르게한다 진짜 손맛으로 하는게임\n",
              "\n",
              "[99999 rows x 2 columns]"
            ]
          },
          "metadata": {},
          "execution_count": 39
        }
      ]
    },
    {
      "cell_type": "code",
      "metadata": {
        "id": "f_usZZsx13Aa"
      },
      "source": [
        "game_data = game_data.rename(columns={'0' : \"label\", '노래가 너무 적음' : \"document\"})"
      ],
      "execution_count": null,
      "outputs": []
    },
    {
      "cell_type": "code",
      "metadata": {
        "id": "3AhtdPzv19nr"
      },
      "source": [
        "game_train_data = game_data.iloc[:80000, :]\n",
        "game_test_data = game_data.iloc[80000: :]"
      ],
      "execution_count": null,
      "outputs": []
    },
    {
      "cell_type": "code",
      "metadata": {
        "colab": {
          "base_uri": "https://localhost:8080/"
        },
        "id": "zRSWYyPA2Kcs",
        "outputId": "7c029b05-db6c-455b-ce22-1ef20aab461d"
      },
      "source": [
        "game_train_data.info()"
      ],
      "execution_count": null,
      "outputs": [
        {
          "output_type": "stream",
          "name": "stdout",
          "text": [
            "<class 'pandas.core.frame.DataFrame'>\n",
            "RangeIndex: 80000 entries, 0 to 79999\n",
            "Data columns (total 2 columns):\n",
            " #   Column    Non-Null Count  Dtype \n",
            "---  ------    --------------  ----- \n",
            " 0   label     80000 non-null  int64 \n",
            " 1   document  80000 non-null  object\n",
            "dtypes: int64(1), object(1)\n",
            "memory usage: 1.2+ MB\n"
          ]
        }
      ]
    },
    {
      "cell_type": "code",
      "metadata": {
        "colab": {
          "base_uri": "https://localhost:8080/"
        },
        "id": "shwQ0JqV2M4L",
        "outputId": "1e2dd86d-ef59-43b2-894a-b8ec1a64df16"
      },
      "source": [
        "game_test_data.info()"
      ],
      "execution_count": null,
      "outputs": [
        {
          "output_type": "stream",
          "name": "stdout",
          "text": [
            "<class 'pandas.core.frame.DataFrame'>\n",
            "RangeIndex: 19999 entries, 80000 to 99998\n",
            "Data columns (total 2 columns):\n",
            " #   Column    Non-Null Count  Dtype \n",
            "---  ------    --------------  ----- \n",
            " 0   label     19999 non-null  int64 \n",
            " 1   document  19999 non-null  object\n",
            "dtypes: int64(1), object(1)\n",
            "memory usage: 312.6+ KB\n"
          ]
        }
      ]
    },
    {
      "cell_type": "code",
      "metadata": {
        "colab": {
          "base_uri": "https://localhost:8080/"
        },
        "id": "C5gy4asq2SkD",
        "outputId": "2c19d083-b1e9-4d66-ef61-1f9538804473"
      },
      "source": [
        "game_train_data['label'].value_counts()\n",
        "game_test_data['label'].value_counts()"
      ],
      "execution_count": null,
      "outputs": [
        {
          "output_type": "execute_result",
          "data": {
            "text/plain": [
              "1    10003\n",
              "0     9996\n",
              "Name: label, dtype: int64"
            ]
          },
          "metadata": {},
          "execution_count": 44
        }
      ]
    },
    {
      "cell_type": "markdown",
      "metadata": {
        "id": "v7eAJ2tK2dua"
      },
      "source": [
        "### **모든 데이터셋 preprocess 및 merge**"
      ]
    },
    {
      "cell_type": "code",
      "metadata": {
        "id": "45EUKfpB2d08"
      },
      "source": [
        "movie_train_data, movie_test_data = preprocess_df(movie_train_data, movie_test_data)\n",
        "shop_train_data, shop_test_data = preprocess_df(shop_train_data, shop_test_data)\n",
        "game_train_data, game_test_data = preprocess_df(game_train_data, game_test_data)"
      ],
      "execution_count": null,
      "outputs": []
    },
    {
      "cell_type": "code",
      "metadata": {
        "colab": {
          "base_uri": "https://localhost:8080/"
        },
        "id": "wVacKi--2d79",
        "outputId": "a0929fa7-4c76-4ff6-8800-91126c7ccce6"
      },
      "source": [
        "df_list = [movie_train_data, movie_test_data, shop_train_data, shop_test_data, game_train_data, game_test_data]\n",
        "\n",
        "for df in df_list:\n",
        "    print(df.shape)"
      ],
      "execution_count": null,
      "outputs": [
        {
          "output_type": "stream",
          "name": "stdout",
          "text": [
            "(143620, 3)\n",
            "(48389, 3)\n",
            "(149638, 2)\n",
            "(49936, 2)\n",
            "(79517, 2)\n",
            "(19970, 2)\n"
          ]
        }
      ]
    },
    {
      "cell_type": "code",
      "metadata": {
        "id": "6QAWkC_73enJ"
      },
      "source": [
        "# column 순서 바꾸고 id column 삭제\n",
        "\n",
        "movie_train_data.drop('id', axis=1, inplace=True)\n",
        "movie_train_data = movie_train_data[['label', 'document']]\n",
        "movie_test_data.drop('id', axis=1, inplace=True)\n",
        "movie_test_data = movie_test_data[['label', 'document']]"
      ],
      "execution_count": null,
      "outputs": []
    },
    {
      "cell_type": "code",
      "metadata": {
        "id": "GyymgAmE36Kg",
        "colab": {
          "base_uri": "https://localhost:8080/",
          "height": 418
        },
        "outputId": "f990e31b-c477-47c6-e4b4-0375013b0ba6"
      },
      "source": [
        "movie_train_data\n",
        "movie_test_data"
      ],
      "execution_count": null,
      "outputs": [
        {
          "output_type": "execute_result",
          "data": {
            "text/html": [
              "<div>\n",
              "<style scoped>\n",
              "    .dataframe tbody tr th:only-of-type {\n",
              "        vertical-align: middle;\n",
              "    }\n",
              "\n",
              "    .dataframe tbody tr th {\n",
              "        vertical-align: top;\n",
              "    }\n",
              "\n",
              "    .dataframe thead th {\n",
              "        text-align: right;\n",
              "    }\n",
              "</style>\n",
              "<table border=\"1\" class=\"dataframe\">\n",
              "  <thead>\n",
              "    <tr style=\"text-align: right;\">\n",
              "      <th></th>\n",
              "      <th>label</th>\n",
              "      <th>document</th>\n",
              "    </tr>\n",
              "  </thead>\n",
              "  <tbody>\n",
              "    <tr>\n",
              "      <th>0</th>\n",
              "      <td>1</td>\n",
              "      <td>굳 ㅋ</td>\n",
              "    </tr>\n",
              "    <tr>\n",
              "      <th>2</th>\n",
              "      <td>0</td>\n",
              "      <td>뭐야 이 평점들은 나쁘진 않지만 점 짜리는 더더욱 아니잖아</td>\n",
              "    </tr>\n",
              "    <tr>\n",
              "      <th>3</th>\n",
              "      <td>0</td>\n",
              "      <td>지루하지는 않은데 완전 막장임 돈주고 보기에는</td>\n",
              "    </tr>\n",
              "    <tr>\n",
              "      <th>4</th>\n",
              "      <td>0</td>\n",
              "      <td>만 아니었어도 별 다섯 개 줬을텐데 왜 로 나와서 제 심기를 불편하게 하죠</td>\n",
              "    </tr>\n",
              "    <tr>\n",
              "      <th>5</th>\n",
              "      <td>1</td>\n",
              "      <td>음악이 주가 된 최고의 음악영화</td>\n",
              "    </tr>\n",
              "    <tr>\n",
              "      <th>...</th>\n",
              "      <td>...</td>\n",
              "      <td>...</td>\n",
              "    </tr>\n",
              "    <tr>\n",
              "      <th>49995</th>\n",
              "      <td>1</td>\n",
              "      <td>오랜만에 평점 로긴했네ㅋㅋ 킹왕짱 쌈뽕한 영화를 만났습니다 강렬하게 육쾌함</td>\n",
              "    </tr>\n",
              "    <tr>\n",
              "      <th>49996</th>\n",
              "      <td>0</td>\n",
              "      <td>의지 박약들이나 하는거다 탈영은 일단 주인공 김대희 닮았고 이등병 찐따</td>\n",
              "    </tr>\n",
              "    <tr>\n",
              "      <th>49997</th>\n",
              "      <td>0</td>\n",
              "      <td>그림도 좋고 완성도도 높았지만 보는 내내 불안하게 만든다</td>\n",
              "    </tr>\n",
              "    <tr>\n",
              "      <th>49998</th>\n",
              "      <td>0</td>\n",
              "      <td>절대 봐서는 안 될 영화 재미도 없고 기분만 잡치고 한 세트장에서 다 해먹네</td>\n",
              "    </tr>\n",
              "    <tr>\n",
              "      <th>49999</th>\n",
              "      <td>0</td>\n",
              "      <td>마무리는 또 왜이래</td>\n",
              "    </tr>\n",
              "  </tbody>\n",
              "</table>\n",
              "<p>48389 rows × 2 columns</p>\n",
              "</div>"
            ],
            "text/plain": [
              "       label                                    document\n",
              "0          1                                         굳 ㅋ\n",
              "2          0            뭐야 이 평점들은 나쁘진 않지만 점 짜리는 더더욱 아니잖아\n",
              "3          0                   지루하지는 않은데 완전 막장임 돈주고 보기에는\n",
              "4          0   만 아니었어도 별 다섯 개 줬을텐데 왜 로 나와서 제 심기를 불편하게 하죠\n",
              "5          1                           음악이 주가 된 최고의 음악영화\n",
              "...      ...                                         ...\n",
              "49995      1   오랜만에 평점 로긴했네ㅋㅋ 킹왕짱 쌈뽕한 영화를 만났습니다 강렬하게 육쾌함\n",
              "49996      0    의지 박약들이나 하는거다 탈영은 일단 주인공 김대희 닮았고 이등병 찐따 \n",
              "49997      0             그림도 좋고 완성도도 높았지만 보는 내내 불안하게 만든다\n",
              "49998      0  절대 봐서는 안 될 영화 재미도 없고 기분만 잡치고 한 세트장에서 다 해먹네\n",
              "49999      0                                  마무리는 또 왜이래\n",
              "\n",
              "[48389 rows x 2 columns]"
            ]
          },
          "metadata": {},
          "execution_count": 48
        }
      ]
    },
    {
      "cell_type": "code",
      "metadata": {
        "id": "lMCEwpaE4FuL",
        "colab": {
          "base_uri": "https://localhost:8080/",
          "height": 418
        },
        "outputId": "25cd4256-7b8b-47af-eeaa-e3395f3c8cca"
      },
      "source": [
        "# movie_train_data\n",
        "# shop_train_data\n",
        "game_train_data"
      ],
      "execution_count": null,
      "outputs": [
        {
          "output_type": "execute_result",
          "data": {
            "text/html": [
              "<div>\n",
              "<style scoped>\n",
              "    .dataframe tbody tr th:only-of-type {\n",
              "        vertical-align: middle;\n",
              "    }\n",
              "\n",
              "    .dataframe tbody tr th {\n",
              "        vertical-align: top;\n",
              "    }\n",
              "\n",
              "    .dataframe thead th {\n",
              "        text-align: right;\n",
              "    }\n",
              "</style>\n",
              "<table border=\"1\" class=\"dataframe\">\n",
              "  <thead>\n",
              "    <tr style=\"text-align: right;\">\n",
              "      <th></th>\n",
              "      <th>label</th>\n",
              "      <th>document</th>\n",
              "    </tr>\n",
              "  </thead>\n",
              "  <tbody>\n",
              "    <tr>\n",
              "      <th>0</th>\n",
              "      <td>0</td>\n",
              "      <td>돌겠네 진짜 황숙아 어크 공장 그만 돌려라 죽는다</td>\n",
              "    </tr>\n",
              "    <tr>\n",
              "      <th>1</th>\n",
              "      <td>1</td>\n",
              "      <td>막노동 체험판 막노동 하는사람인데 장비를 내가 사야돼 뭐지</td>\n",
              "    </tr>\n",
              "    <tr>\n",
              "      <th>2</th>\n",
              "      <td>1</td>\n",
              "      <td>차악차악차악 정말 이래서 왕국을 되찾을 수 있는거야</td>\n",
              "    </tr>\n",
              "    <tr>\n",
              "      <th>3</th>\n",
              "      <td>1</td>\n",
              "      <td>시간 때우기에 좋음 도전과제는 시간이면 다 깰 수 있어요</td>\n",
              "    </tr>\n",
              "    <tr>\n",
              "      <th>4</th>\n",
              "      <td>1</td>\n",
              "      <td>역시 재미있네요 전작에서 할수 없었던 자유로운 덱 빌딩도 좋네요</td>\n",
              "    </tr>\n",
              "    <tr>\n",
              "      <th>...</th>\n",
              "      <td>...</td>\n",
              "      <td>...</td>\n",
              "    </tr>\n",
              "    <tr>\n",
              "      <th>79995</th>\n",
              "      <td>0</td>\n",
              "      <td>어느정도 재미가 있긴 하지만 지금 하기엔 너무 짜증나는 점이 많은 게임 돈모아서 다...</td>\n",
              "    </tr>\n",
              "    <tr>\n",
              "      <th>79996</th>\n",
              "      <td>1</td>\n",
              "      <td>평가 읽을 시간에 듀얼하셈 듀얼근 손실 옴 반박시 듀얼</td>\n",
              "    </tr>\n",
              "    <tr>\n",
              "      <th>79997</th>\n",
              "      <td>1</td>\n",
              "      <td>이후로는 게임이 상당히 변화했고 십자군 시스템과 혈통 시스템은 상당히 맘에 듭니다 ...</td>\n",
              "    </tr>\n",
              "    <tr>\n",
              "      <th>79998</th>\n",
              "      <td>1</td>\n",
              "      <td>냥겜</td>\n",
              "    </tr>\n",
              "    <tr>\n",
              "      <th>79999</th>\n",
              "      <td>1</td>\n",
              "      <td>달껄룩의 찬란한 모험기</td>\n",
              "    </tr>\n",
              "  </tbody>\n",
              "</table>\n",
              "<p>79517 rows × 2 columns</p>\n",
              "</div>"
            ],
            "text/plain": [
              "       label                                           document\n",
              "0          0                        돌겠네 진짜 황숙아 어크 공장 그만 돌려라 죽는다\n",
              "1          1                   막노동 체험판 막노동 하는사람인데 장비를 내가 사야돼 뭐지\n",
              "2          1                       차악차악차악 정말 이래서 왕국을 되찾을 수 있는거야\n",
              "3          1                    시간 때우기에 좋음 도전과제는 시간이면 다 깰 수 있어요\n",
              "4          1                역시 재미있네요 전작에서 할수 없었던 자유로운 덱 빌딩도 좋네요\n",
              "...      ...                                                ...\n",
              "79995      0  어느정도 재미가 있긴 하지만 지금 하기엔 너무 짜증나는 점이 많은 게임 돈모아서 다...\n",
              "79996      1                     평가 읽을 시간에 듀얼하셈 듀얼근 손실 옴 반박시 듀얼\n",
              "79997      1  이후로는 게임이 상당히 변화했고 십자군 시스템과 혈통 시스템은 상당히 맘에 듭니다 ...\n",
              "79998      1                                                 냥겜\n",
              "79999      1                                       달껄룩의 찬란한 모험기\n",
              "\n",
              "[79517 rows x 2 columns]"
            ]
          },
          "metadata": {},
          "execution_count": 49
        }
      ]
    },
    {
      "cell_type": "code",
      "metadata": {
        "id": "775ZFpaC4OYc"
      },
      "source": [
        "# concat all three datasets\n",
        "\n",
        "train_data = pd.concat([movie_train_data, shop_train_data, game_train_data], join='outer')\n",
        "test_data = pd.concat([movie_test_data, shop_test_data, game_test_data], join='outer')"
      ],
      "execution_count": null,
      "outputs": []
    },
    {
      "cell_type": "code",
      "metadata": {
        "colab": {
          "base_uri": "https://localhost:8080/"
        },
        "id": "2miRg9nP5c2-",
        "outputId": "5d4f0a0a-8b13-4384-ea55-f6df4136aab4"
      },
      "source": [
        "train_data.shape\n",
        "# test_data.shape"
      ],
      "execution_count": null,
      "outputs": [
        {
          "output_type": "execute_result",
          "data": {
            "text/plain": [
              "(372775, 2)"
            ]
          },
          "metadata": {},
          "execution_count": 51
        }
      ]
    },
    {
      "cell_type": "code",
      "metadata": {
        "colab": {
          "base_uri": "https://localhost:8080/",
          "height": 358
        },
        "id": "9A1fuldl5_R4",
        "outputId": "7c61a060-745b-45f8-b545-9e7f33957aa1"
      },
      "source": [
        "train_data.head(10)"
      ],
      "execution_count": null,
      "outputs": [
        {
          "output_type": "execute_result",
          "data": {
            "text/html": [
              "<div>\n",
              "<style scoped>\n",
              "    .dataframe tbody tr th:only-of-type {\n",
              "        vertical-align: middle;\n",
              "    }\n",
              "\n",
              "    .dataframe tbody tr th {\n",
              "        vertical-align: top;\n",
              "    }\n",
              "\n",
              "    .dataframe thead th {\n",
              "        text-align: right;\n",
              "    }\n",
              "</style>\n",
              "<table border=\"1\" class=\"dataframe\">\n",
              "  <thead>\n",
              "    <tr style=\"text-align: right;\">\n",
              "      <th></th>\n",
              "      <th>label</th>\n",
              "      <th>document</th>\n",
              "    </tr>\n",
              "  </thead>\n",
              "  <tbody>\n",
              "    <tr>\n",
              "      <th>0</th>\n",
              "      <td>0</td>\n",
              "      <td>아 더빙 진짜 짜증나네요 목소리</td>\n",
              "    </tr>\n",
              "    <tr>\n",
              "      <th>1</th>\n",
              "      <td>1</td>\n",
              "      <td>흠포스터보고 초딩영화줄오버연기조차 가볍지 않구나</td>\n",
              "    </tr>\n",
              "    <tr>\n",
              "      <th>2</th>\n",
              "      <td>0</td>\n",
              "      <td>너무재밓었다그래서보는것을추천한다</td>\n",
              "    </tr>\n",
              "    <tr>\n",
              "      <th>3</th>\n",
              "      <td>0</td>\n",
              "      <td>교도소 이야기구먼 솔직히 재미는 없다평점 조정</td>\n",
              "    </tr>\n",
              "    <tr>\n",
              "      <th>4</th>\n",
              "      <td>1</td>\n",
              "      <td>사이몬페그의 익살스런 연기가 돋보였던 영화스파이더맨에서 늙어보이기만 했던 커스틴 던...</td>\n",
              "    </tr>\n",
              "    <tr>\n",
              "      <th>5</th>\n",
              "      <td>0</td>\n",
              "      <td>막 걸음마 뗀 세부터 초등학교 학년생인 살용영화ㅋㅋㅋ별반개도 아까움</td>\n",
              "    </tr>\n",
              "    <tr>\n",
              "      <th>6</th>\n",
              "      <td>0</td>\n",
              "      <td>원작의 긴장감을 제대로 살려내지못했다</td>\n",
              "    </tr>\n",
              "    <tr>\n",
              "      <th>7</th>\n",
              "      <td>0</td>\n",
              "      <td>별 반개도 아깝다 욕나온다 이응경 길용우 연기생활이몇년인지정말 발로해도 그것보단 낫...</td>\n",
              "    </tr>\n",
              "    <tr>\n",
              "      <th>8</th>\n",
              "      <td>1</td>\n",
              "      <td>액션이 없는데도 재미 있는 몇안되는 영화</td>\n",
              "    </tr>\n",
              "    <tr>\n",
              "      <th>9</th>\n",
              "      <td>1</td>\n",
              "      <td>왜케 평점이 낮은건데 꽤 볼만한데 헐리우드식 화려함에만 너무 길들여져 있나</td>\n",
              "    </tr>\n",
              "  </tbody>\n",
              "</table>\n",
              "</div>"
            ],
            "text/plain": [
              "   label                                           document\n",
              "0      0                                  아 더빙 진짜 짜증나네요 목소리\n",
              "1      1                         흠포스터보고 초딩영화줄오버연기조차 가볍지 않구나\n",
              "2      0                                  너무재밓었다그래서보는것을추천한다\n",
              "3      0                          교도소 이야기구먼 솔직히 재미는 없다평점 조정\n",
              "4      1  사이몬페그의 익살스런 연기가 돋보였던 영화스파이더맨에서 늙어보이기만 했던 커스틴 던...\n",
              "5      0              막 걸음마 뗀 세부터 초등학교 학년생인 살용영화ㅋㅋㅋ별반개도 아까움\n",
              "6      0                               원작의 긴장감을 제대로 살려내지못했다\n",
              "7      0  별 반개도 아깝다 욕나온다 이응경 길용우 연기생활이몇년인지정말 발로해도 그것보단 낫...\n",
              "8      1                             액션이 없는데도 재미 있는 몇안되는 영화\n",
              "9      1          왜케 평점이 낮은건데 꽤 볼만한데 헐리우드식 화려함에만 너무 길들여져 있나"
            ]
          },
          "metadata": {},
          "execution_count": 52
        }
      ]
    },
    {
      "cell_type": "markdown",
      "metadata": {
        "id": "zstBDjIcAikg"
      },
      "source": [
        "---"
      ]
    },
    {
      "cell_type": "markdown",
      "metadata": {
        "id": "bLZcUQKDsF80"
      },
      "source": [
        "## **Tokenization & Padding**"
      ]
    },
    {
      "cell_type": "code",
      "metadata": {
        "id": "SRH0n1nIsLcd"
      },
      "source": [
        "stopwords = ['의','가','이','은','들','는','좀','잘','걍','과','도','를','으로','자','에','와','한','하다']\n",
        "stopwords += ['이', '있', '하', '것', '들', '그', '되', '수', '이', '보', '않', '없', '나', '사람', '주', '아니', '등', '같', '우리', '때', '년', '가', '한', '지', '대하', '오', '말', '일', '그렇', '위하']\n",
        "stopwords = list(set(stopwords))\n",
        "# stopwords"
      ],
      "execution_count": null,
      "outputs": []
    },
    {
      "cell_type": "code",
      "metadata": {
        "id": "_r1LFlyVtgWC"
      },
      "source": [
        "from konlpy.tag import Okt      \n",
        "from tqdm import tqdm\n",
        "from tensorflow.keras.preprocessing.text import Tokenizer\n",
        "from tensorflow.keras.preprocessing.sequence import pad_sequences\n",
        "\n",
        "okt = Okt()"
      ],
      "execution_count": null,
      "outputs": []
    },
    {
      "cell_type": "code",
      "metadata": {
        "colab": {
          "base_uri": "https://localhost:8080/"
        },
        "id": "cfhqHtjps4Q7",
        "outputId": "c6403d5a-a58c-4dbd-a811-127452862324"
      },
      "source": [
        "x_train = []\n",
        "for sentence in tqdm(train_data['document']):\n",
        "    tokenized_sent = okt.morphs(sentence, stem=True)      # 형태소 별로 문장 분할\n",
        "    tokenized_sent = [word for word in tokenized_sent if word not in stopwords]   # 불용어 제거\n",
        "    x_train.append(tokenized_sent)"
      ],
      "execution_count": null,
      "outputs": [
        {
          "output_type": "stream",
          "name": "stderr",
          "text": [
            "100%|██████████| 372775/372775 [24:49<00:00, 250.33it/s]\n"
          ]
        }
      ]
    },
    {
      "cell_type": "code",
      "metadata": {
        "colab": {
          "base_uri": "https://localhost:8080/"
        },
        "id": "8Ao6TfZ8zbk4",
        "outputId": "fc7a1754-456b-47f0-a0ff-30c877fb3953"
      },
      "source": [
        "x_train[:2]"
      ],
      "execution_count": null,
      "outputs": [
        {
          "output_type": "execute_result",
          "data": {
            "text/plain": [
              "[['아', '더빙', '진짜', '짜증나다', '목소리'],\n",
              " ['흠', '포스터', '보고', '초딩', '영화', '줄', '오버', '연기', '조차', '가볍다', '않다']]"
            ]
          },
          "metadata": {},
          "execution_count": 56
        }
      ]
    },
    {
      "cell_type": "code",
      "metadata": {
        "colab": {
          "base_uri": "https://localhost:8080/"
        },
        "id": "UjCOOQ40zSvy",
        "outputId": "3ced924a-3e9d-4d6f-a8a5-5dd95a495030"
      },
      "source": [
        "x_test = []\n",
        "for sentence in tqdm(test_data['document']):\n",
        "    tokenized_sent = okt.morphs(sentence, stem=True)      # 형태소 별로 문장 분할\n",
        "    tokenized_sent = [word for word in tokenized_sent if word not in stopwords]   # 불용어 제거\n",
        "    x_test.append(tokenized_sent)"
      ],
      "execution_count": null,
      "outputs": [
        {
          "output_type": "stream",
          "name": "stderr",
          "text": [
            "100%|██████████| 118295/118295 [09:59<00:00, 197.30it/s]\n"
          ]
        }
      ]
    },
    {
      "cell_type": "code",
      "metadata": {
        "colab": {
          "base_uri": "https://localhost:8080/"
        },
        "id": "FfQMNTXKzeSY",
        "outputId": "d9a82599-8326-4b99-a9ec-d401b3702b38"
      },
      "source": [
        "test_data['document'][:2]\n",
        "x_test[:2]"
      ],
      "execution_count": null,
      "outputs": [
        {
          "output_type": "execute_result",
          "data": {
            "text/plain": [
              "[['굳다', 'ㅋ'], ['뭐', '야', '평점', '나쁘다', '않다', '점', '짜다', '리', '더', '더욱', '아니다']]"
            ]
          },
          "metadata": {},
          "execution_count": 59
        }
      ]
    },
    {
      "cell_type": "code",
      "metadata": {
        "id": "vpxECRt19aXQ"
      },
      "source": [
        "x_train_raw = x_train\n",
        "x_test_raw = x_test"
      ],
      "execution_count": null,
      "outputs": []
    },
    {
      "cell_type": "markdown",
      "metadata": {
        "id": "kMo7Ai1VyF5_"
      },
      "source": [
        "#### **Tokenizer 로 단어사전 만들기 & 정수 Encoding**\n",
        "- 단어사전은 train_data 로 만들어야 함"
      ]
    },
    {
      "cell_type": "code",
      "metadata": {
        "colab": {
          "base_uri": "https://localhost:8080/"
        },
        "id": "APpMijNO1NTh",
        "outputId": "4f623834-1371-4acf-995f-36dc870762be"
      },
      "source": [
        "tokenizer = Tokenizer()\n",
        "tokenizer.fit_on_texts(x_train)  \n",
        "\n",
        "tokenizer.word_index      # 빈도수가 높은 단어별로 작은 수의 양의 정수를 부여함\n",
        "len(tokenizer.word_index)"
      ],
      "execution_count": null,
      "outputs": [
        {
          "output_type": "execute_result",
          "data": {
            "text/plain": [
              "75147"
            ]
          },
          "metadata": {},
          "execution_count": 61
        }
      ]
    },
    {
      "cell_type": "code",
      "metadata": {
        "colab": {
          "base_uri": "https://localhost:8080/"
        },
        "id": "x7KRKW-NzJDf",
        "outputId": "9e57bf4e-83aa-43b6-e9e8-5de3820eda02"
      },
      "source": [
        "threshold = 4\n",
        "total_cnt = len(tokenizer.word_index) # 단어의 수\n",
        "rare_cnt = 0      \n",
        "total_freq = 0     \n",
        "rare_freq = 0       \n",
        "\n",
        "for key, value in tokenizer.word_counts.items():\n",
        "    total_freq += value\n",
        "\n",
        "    if(value < threshold):\n",
        "        rare_cnt = rare_cnt + 1\n",
        "        rare_freq = rare_freq + value\n",
        "\n",
        "print('단어 집합(vocabulary)의 크기 :',total_cnt)\n",
        "print('등장 빈도가 %s번 이하인 희귀 단어의 수: %s'%(threshold - 1, rare_cnt))\n",
        "print(\"단어 집합에서 희귀 단어의 비율:\", (rare_cnt / total_cnt)*100)\n",
        "print(\"전체 등장 빈도에서 희귀 단어 등장 빈도 비율:\", (rare_freq / total_freq)*100)"
      ],
      "execution_count": null,
      "outputs": [
        {
          "output_type": "stream",
          "name": "stdout",
          "text": [
            "단어 집합(vocabulary)의 크기 : 75147\n",
            "등장 빈도가 3번 이하인 희귀 단어의 수: 48485\n",
            "단어 집합에서 희귀 단어의 비율: 64.52020706082745\n",
            "전체 등장 빈도에서 희귀 단어 등장 빈도 비율: 1.5172733686959021\n"
          ]
        }
      ]
    },
    {
      "cell_type": "code",
      "metadata": {
        "colab": {
          "base_uri": "https://localhost:8080/"
        },
        "id": "93jYEQN1zI4B",
        "outputId": "17cebaa3-0f6d-42ee-fc55-84ddf8f36ee5"
      },
      "source": [
        "vocab_size = total_cnt - rare_cnt + 1\n",
        "vocab_size"
      ],
      "execution_count": null,
      "outputs": [
        {
          "output_type": "execute_result",
          "data": {
            "text/plain": [
              "26663"
            ]
          },
          "metadata": {},
          "execution_count": 63
        }
      ]
    },
    {
      "cell_type": "code",
      "metadata": {
        "id": "ucVXZzrOb7ty"
      },
      "source": [
        "tokenizer = Tokenizer(vocab_size)\n",
        "tokenizer.fit_on_texts(x_train)   # 0번 단어 ~ 19395번 단어까지만 사용"
      ],
      "execution_count": null,
      "outputs": []
    },
    {
      "cell_type": "code",
      "metadata": {
        "id": "pVnAGLuqb8oq"
      },
      "source": [
        "# Referring to word_index, text --> numeric sequences  \n",
        "\n",
        "x_train = tokenizer.texts_to_sequences(x_train)\n",
        "x_test = tokenizer.texts_to_sequences(x_test)"
      ],
      "execution_count": null,
      "outputs": []
    },
    {
      "cell_type": "code",
      "metadata": {
        "colab": {
          "base_uri": "https://localhost:8080/"
        },
        "id": "yNQE6pybb8wh",
        "outputId": "c608e53d-9e77-4b73-f5df-9ad2dc4c0e40"
      },
      "source": [
        "print(x_train[:3])\n",
        "print(x_test[:3])"
      ],
      "execution_count": null,
      "outputs": [
        {
          "output_type": "stream",
          "name": "stdout",
          "text": [
            "[[64, 1007, 30, 364, 1329], [897, 1127, 69, 1146, 4, 236, 1843, 99, 1259, 328, 15], [354, 4758, 3973, 4417, 1, 83, 12]]\n",
            "[[668, 160], [86, 246, 101, 375, 15, 53, 254, 770, 34, 1074, 20], [151, 15, 117, 861, 140, 102, 68, 315, 176]]\n"
          ]
        }
      ]
    },
    {
      "cell_type": "code",
      "metadata": {
        "colab": {
          "base_uri": "https://localhost:8080/"
        },
        "id": "rfUmTNcC5jU4",
        "outputId": "3f0d788f-f314-4723-e68c-e6e37ed31eb5"
      },
      "source": [
        "len(x_test)\n",
        "# len(x_test)"
      ],
      "execution_count": null,
      "outputs": [
        {
          "output_type": "execute_result",
          "data": {
            "text/plain": [
              "118295"
            ]
          },
          "metadata": {},
          "execution_count": 50
        }
      ]
    },
    {
      "cell_type": "code",
      "metadata": {
        "id": "fW-B8Zj6b8z2"
      },
      "source": [
        "y_train = np.array(train_data['label'])\n",
        "y_test = np.array(test_data['label'])"
      ],
      "execution_count": null,
      "outputs": []
    },
    {
      "cell_type": "code",
      "metadata": {
        "id": "z8pVIs44b82u"
      },
      "source": [
        "# Remove empty sequence in x_train, which means those seq are composed of only the words that are under set threshold\n",
        "\n",
        "drop_target = [idx for idx, sentence in enumerate(x_train) if len(sentence) < 1]\n",
        "x_train = np.delete(x_train, drop_target, axis=0)       # np.delete(array, delete_target_idx, axis=0(row) or 1(col))\n",
        "y_train = np.delete(y_train, drop_target, axis=0)"
      ],
      "execution_count": null,
      "outputs": []
    },
    {
      "cell_type": "code",
      "metadata": {
        "colab": {
          "base_uri": "https://localhost:8080/"
        },
        "id": "5h6Jy-Pzb88g",
        "outputId": "ef259258-1c9d-41d2-e8fc-66b84769a992"
      },
      "source": [
        "print(len(x_train))\n",
        "print(len(y_train))       # 143620 --> 143376"
      ],
      "execution_count": null,
      "outputs": [
        {
          "output_type": "stream",
          "name": "stdout",
          "text": [
            "372193\n",
            "372193\n"
          ]
        }
      ]
    },
    {
      "cell_type": "markdown",
      "metadata": {
        "id": "Bftru_93b9Bp"
      },
      "source": [
        "### **Padding**\n",
        "- 모델이 처리할 수 있도록 X_train과 X_test의 모든 샘플의 길이를 특정 길이로 동일하게 맞춤\n",
        "- padding_len "
      ]
    },
    {
      "cell_type": "code",
      "metadata": {
        "colab": {
          "base_uri": "https://localhost:8080/",
          "height": 312
        },
        "id": "hHkR0I11b9HN",
        "outputId": "2916f94c-17c4-4bee-ba2e-5a7494656662"
      },
      "source": [
        "print('리뷰의 최대 길이 :', max(map(len, x_train)))\n",
        "print('리뷰의 평균 길이 :',sum(map(len, x_train))/len(x_train))\n",
        "plt.hist([len(s) for s in x_train], bins=50)\n",
        "plt.xlabel('length of samples')\n",
        "plt.ylabel('number of samples')\n",
        "plt.show()"
      ],
      "execution_count": null,
      "outputs": [
        {
          "output_type": "stream",
          "name": "stdout",
          "text": [
            "리뷰의 최대 길이 : 68\n",
            "리뷰의 평균 길이 : 11.614372113392783\n"
          ]
        },
        {
          "output_type": "display_data",
          "data": {
            "image/png": "[encoded data removed]",
            "text/plain": [
              "<Figure size 432x288 with 1 Axes>"
            ]
          },
          "metadata": {
            "needs_background": "light"
          }
        }
      ]
    },
    {
      "cell_type": "code",
      "metadata": {
        "colab": {
          "base_uri": "https://localhost:8080/"
        },
        "id": "vNj6gwElb9Lf",
        "outputId": "e2e70493-fae7-41b0-b3f5-316b7afc9372"
      },
      "source": [
        "def find_padding_len(set_len):\n",
        "    cnt = 0\n",
        "    for l in list(map(len, x_train)):\n",
        "        if l <= set_len:\n",
        "            cnt += 1\n",
        "    return (cnt/len(x_train))*100\n",
        "\n",
        "for set_len in range(10, 50, 5):\n",
        "    tmp = find_padding_len(set_len)\n",
        "    print(\"길이 {0} : {1}%\".format(set_len, tmp))"
      ],
      "execution_count": null,
      "outputs": [
        {
          "output_type": "stream",
          "name": "stdout",
          "text": [
            "길이 10 : 59.378870639694995%\n",
            "길이 15 : 75.60620430798%\n",
            "길이 20 : 84.42609076473765%\n",
            "길이 25 : 90.24833889944196%\n",
            "길이 30 : 94.36824443232409%\n",
            "길이 35 : 97.26539725357543%\n",
            "길이 40 : 99.18187606967352%\n",
            "길이 45 : 99.86969126232896%\n"
          ]
        }
      ]
    },
    {
      "cell_type": "code",
      "metadata": {
        "id": "LzezYHWZBvLt"
      },
      "source": [
        "padding_len = 35"
      ],
      "execution_count": null,
      "outputs": []
    },
    {
      "cell_type": "code",
      "metadata": {
        "id": "t_rJURPHBq2w"
      },
      "source": [
        "x_train = pad_sequences(x_train, maxlen = padding_len, truncating='post', padding='post')\n",
        "x_test = pad_sequences(x_test, maxlen = padding_len, truncating='post', padding='post')"
      ],
      "execution_count": null,
      "outputs": []
    },
    {
      "cell_type": "code",
      "metadata": {
        "colab": {
          "base_uri": "https://localhost:8080/"
        },
        "id": "bVx0olysFNil",
        "outputId": "6282ee90-2ab1-4d82-efd1-930ce3658cdb"
      },
      "source": [
        "x_train"
      ],
      "execution_count": null,
      "outputs": [
        {
          "output_type": "execute_result",
          "data": {
            "text/plain": [
              "array([[   64,  1007,    30, ...,     0,     0,     0],\n",
              "       [  897,  1127,    69, ...,     0,     0,     0],\n",
              "       [  354,  4758,  3973, ...,     0,     0,     0],\n",
              "       ...,\n",
              "       [  470,   824,    51, ...,     0,     0,     0],\n",
              "       [  688,  1106,     8, ...,     0,     0,     0],\n",
              "       [19611,  5647,  2779, ...,     0,     0,     0]], dtype=int32)"
            ]
          },
          "metadata": {},
          "execution_count": 59
        }
      ]
    },
    {
      "cell_type": "code",
      "metadata": {
        "colab": {
          "base_uri": "https://localhost:8080/"
        },
        "id": "XPJVpiI6FaKf",
        "outputId": "28b3927a-b2fb-4177-a580-e6724dc333bd"
      },
      "source": [
        "x_train.shape       # padding 완료"
      ],
      "execution_count": null,
      "outputs": [
        {
          "output_type": "execute_result",
          "data": {
            "text/plain": [
              "(372193, 35)"
            ]
          },
          "metadata": {},
          "execution_count": 60
        }
      ]
    },
    {
      "cell_type": "markdown",
      "metadata": {
        "id": "nAmsUP4aAfwW"
      },
      "source": [
        "---"
      ]
    },
    {
      "cell_type": "markdown",
      "metadata": {
        "id": "b4ImeF4fb9Zo"
      },
      "source": [
        "## **LSTM Training with DATASET** "
      ]
    },
    {
      "cell_type": "markdown",
      "metadata": {
        "id": "mz2K5wzZb9g9"
      },
      "source": [
        "#### **Import Modules**"
      ]
    },
    {
      "cell_type": "code",
      "metadata": {
        "id": "wn-Q7uOTb9km"
      },
      "source": [
        "from tensorflow.keras.layers import Embedding, Dense, LSTM, Bidirectional\n",
        "from tensorflow.keras.models import Sequential, load_model\n",
        "from tensorflow.keras.callbacks import EarlyStopping, ModelCheckpoint"
      ],
      "execution_count": null,
      "outputs": []
    },
    {
      "cell_type": "code",
      "metadata": {
        "id": "u4Csemq1Bkn1"
      },
      "source": [
        "emb_dim = 100\n",
        "cur_dim = 26663     # vocab size\n",
        "padding_len = 35"
      ],
      "execution_count": null,
      "outputs": []
    },
    {
      "cell_type": "code",
      "metadata": {
        "id": "_cAMDR7Sb9uZ"
      },
      "source": [
        "model = Sequential([\n",
        "    Embedding(cur_dim, emb_dim, input_length=padding_len),      \n",
        "    Bidirectional(LSTM(128, return_sequences=True)),\n",
        "    LSTM(32),\n",
        "    Dense(1, activation='sigmoid')\n",
        "])"
      ],
      "execution_count": null,
      "outputs": []
    },
    {
      "cell_type": "code",
      "metadata": {
        "colab": {
          "base_uri": "https://localhost:8080/"
        },
        "id": "zBB1kHqWa2ss",
        "outputId": "59d0fcae-634b-4ab9-8d95-fd240fd28b15"
      },
      "source": [
        "model.summary()"
      ],
      "execution_count": null,
      "outputs": [
        {
          "output_type": "stream",
          "name": "stdout",
          "text": [
            "Model: \"sequential_1\"\n",
            "_________________________________________________________________\n",
            " Layer (type)                Output Shape              Param #   \n",
            "=================================================================\n",
            " embedding_1 (Embedding)     (None, 35, 100)           2666300   \n",
            "                                                                 \n",
            " bidirectional_1 (Bidirectio  (None, 35, 256)          234496    \n",
            " nal)                                                            \n",
            "                                                                 \n",
            " lstm_3 (LSTM)               (None, 32)                36992     \n",
            "                                                                 \n",
            " dense_1 (Dense)             (None, 1)                 33        \n",
            "                                                                 \n",
            "=================================================================\n",
            "Total params: 2,937,821\n",
            "Trainable params: 2,937,821\n",
            "Non-trainable params: 0\n",
            "_________________________________________________________________\n"
          ]
        }
      ]
    },
    {
      "cell_type": "code",
      "metadata": {
        "id": "A3X0tY67sCWq"
      },
      "source": [
        "model.compile(optimizer='adam', loss='binary_crossentropy', metrics=['acc'])"
      ],
      "execution_count": null,
      "outputs": []
    },
    {
      "cell_type": "code",
      "metadata": {
        "id": "fxsO9uRNsQh2"
      },
      "source": [
        "checkpoint_path = 'my_checkpoint.ckpt'\n",
        "checkpoint = ModelCheckpoint(checkpoint_path, \n",
        "                             save_weights_only=True, \n",
        "                             save_best_only=True, \n",
        "                             monitor='val_loss',\n",
        "                             verbose=1)"
      ],
      "execution_count": null,
      "outputs": []
    },
    {
      "cell_type": "code",
      "metadata": {
        "id": "G0eisYDz7cG0"
      },
      "source": [
        "earlystop = EarlyStopping(monitor=\"val_loss\", \n",
        "                          min_delta=0.001,        \n",
        "                          patience=2)"
      ],
      "execution_count": null,
      "outputs": []
    },
    {
      "cell_type": "code",
      "metadata": {
        "id": "UJgFPcGIsSkY",
        "colab": {
          "base_uri": "https://localhost:8080/"
        },
        "outputId": "1166c1e1-a1e6-4969-a001-3f28e00fcca2"
      },
      "source": [
        "epochs=10\n",
        "history = model.fit(x_train, y_train, \n",
        "                    validation_data=(x_test, y_test),\n",
        "                    callbacks=[checkpoint, earlystop],\n",
        "                    epochs=epochs)"
      ],
      "execution_count": null,
      "outputs": [
        {
          "output_type": "stream",
          "name": "stdout",
          "text": [
            "Epoch 1/10\n",
            "11631/11632 [============================>.] - ETA: 0s - loss: 0.3492 - acc: 0.8493\n",
            "Epoch 00001: val_loss improved from inf to 0.33655, saving model to my_checkpoint.ckpt\n",
            "11632/11632 [==============================] - 428s 37ms/step - loss: 0.3492 - acc: 0.8493 - val_loss: 0.3366 - val_acc: 0.8570\n",
            "Epoch 2/10\n",
            "11632/11632 [==============================] - ETA: 0s - loss: 0.2986 - acc: 0.8740\n",
            "Epoch 00002: val_loss improved from 0.33655 to 0.32506, saving model to my_checkpoint.ckpt\n",
            "11632/11632 [==============================] - 429s 37ms/step - loss: 0.2986 - acc: 0.8740 - val_loss: 0.3251 - val_acc: 0.8614\n",
            "Epoch 3/10\n",
            "11632/11632 [==============================] - ETA: 0s - loss: 0.2634 - acc: 0.8908\n",
            "Epoch 00003: val_loss did not improve from 0.32506\n",
            "11632/11632 [==============================] - 429s 37ms/step - loss: 0.2634 - acc: 0.8908 - val_loss: 0.3457 - val_acc: 0.8606\n"
          ]
        }
      ]
    },
    {
      "cell_type": "code",
      "metadata": {
        "id": "4jO1ucZ9ninH",
        "colab": {
          "base_uri": "https://localhost:8080/"
        },
        "outputId": "fa0411ca-eb00-45ac-c51b-256d9ba03910"
      },
      "source": [
        "model.load_weights(checkpoint_path)"
      ],
      "execution_count": null,
      "outputs": [
        {
          "output_type": "execute_result",
          "data": {
            "text/plain": [
              "<tensorflow.python.training.tracking.util.CheckpointLoadStatus at 0x7fe9f7682b10>"
            ]
          },
          "metadata": {},
          "execution_count": 74
        }
      ]
    },
    {
      "cell_type": "code",
      "metadata": {
        "id": "8SljT4rmb9zK",
        "colab": {
          "base_uri": "https://localhost:8080/"
        },
        "outputId": "99864df5-8124-4df1-ecff-2c4e1f75a2b8"
      },
      "source": [
        "loss, acc = model.evaluate(x_test, y_test)"
      ],
      "execution_count": null,
      "outputs": [
        {
          "output_type": "stream",
          "name": "stdout",
          "text": [
            "3697/3697 [==============================] - 57s 13ms/step - loss: 0.3251 - acc: 0.8614\n"
          ]
        }
      ]
    },
    {
      "cell_type": "code",
      "metadata": {
        "id": "2ykVAd5g7_L-"
      },
      "source": [
        "model.save_weights('lstm_model.h5')"
      ],
      "execution_count": null,
      "outputs": []
    },
    {
      "cell_type": "code",
      "metadata": {
        "colab": {
          "base_uri": "https://localhost:8080/"
        },
        "id": "OIw31KxOjmhE",
        "outputId": "376df790-6ea0-4582-b26a-1f9cb6491984"
      },
      "source": [
        "model.save(\"model\")"
      ],
      "execution_count": null,
      "outputs": [
        {
          "output_type": "stream",
          "name": "stderr",
          "text": [
            "WARNING:absl:Found untraced functions such as lstm_cell_3_layer_call_fn, lstm_cell_3_layer_call_and_return_conditional_losses, lstm_cell_1_layer_call_fn, lstm_cell_1_layer_call_and_return_conditional_losses, lstm_cell_2_layer_call_fn while saving (showing 5 of 15). These functions will not be directly callable after loading.\n"
          ]
        },
        {
          "output_type": "stream",
          "name": "stdout",
          "text": [
            "INFO:tensorflow:Assets written to: model/assets\n"
          ]
        },
        {
          "output_type": "stream",
          "name": "stderr",
          "text": [
            "INFO:tensorflow:Assets written to: model/assets\n",
            "WARNING:absl:<keras.layers.recurrent.LSTMCell object at 0x7f4102637a50> has the same name 'LSTMCell' as a built-in Keras object. Consider renaming <class 'keras.layers.recurrent.LSTMCell'> to avoid naming conflicts when loading with `tf.keras.models.load_model`. If renaming is not possible, pass the object in the `custom_objects` parameter of the load function.\n",
            "WARNING:absl:<keras.layers.recurrent.LSTMCell object at 0x7f4102700d90> has the same name 'LSTMCell' as a built-in Keras object. Consider renaming <class 'keras.layers.recurrent.LSTMCell'> to avoid naming conflicts when loading with `tf.keras.models.load_model`. If renaming is not possible, pass the object in the `custom_objects` parameter of the load function.\n",
            "WARNING:absl:<keras.layers.recurrent.LSTMCell object at 0x7f41027710d0> has the same name 'LSTMCell' as a built-in Keras object. Consider renaming <class 'keras.layers.recurrent.LSTMCell'> to avoid naming conflicts when loading with `tf.keras.models.load_model`. If renaming is not possible, pass the object in the `custom_objects` parameter of the load function.\n"
          ]
        }
      ]
    },
    {
      "cell_type": "code",
      "metadata": {
        "colab": {
          "base_uri": "https://localhost:8080/",
          "height": 708
        },
        "id": "XMsCV6BfLHky",
        "outputId": "2dfcd259-6e8f-48d6-b135-1ebf7ffded57"
      },
      "source": [
        "import pydot\n",
        "import graphviz\n",
        "from IPython.display import SVG\n",
        "from keras.utils.vis_utils import model_to_dot\n",
        "\n",
        "SVG(model_to_dot(model, show_shapes=True).create(prog='dot', format='svg'))"
      ],
      "execution_count": null,
      "outputs": [
        {
          "output_type": "execute_result",
          "data": {
            "text/plain": [
              "<IPython.core.display.SVG object>"
            ],
            "image/svg+xml": "<svg height=\"516pt\" viewBox=\"0.00 0.00 465.00 387.00\" width=\"620pt\" xmlns=\"http://www.w3.org/2000/svg\" xmlns:xlink=\"http://www.w3.org/1999/xlink\">\n<g class=\"graph\" id=\"graph0\" transform=\"scale(1.3333 1.3333) rotate(0) translate(4 383)\">\n<title>G</title>\n<polygon fill=\"#ffffff\" points=\"-4,4 -4,-383 461,-383 461,4 -4,4\" stroke=\"transparent\"/>\n<!-- 140642844146768 -->\n<g class=\"node\" id=\"node1\">\n<title>140642844146768</title>\n<polygon fill=\"none\" points=\"48,-332.5 48,-378.5 409,-378.5 409,-332.5 48,-332.5\" stroke=\"#000000\"/>\n<text fill=\"#000000\" font-family=\"Times,serif\" font-size=\"14.00\" text-anchor=\"middle\" x=\"115\" y=\"-351.8\">embedding_1_input</text>\n<polyline fill=\"none\" points=\"182,-332.5 182,-378.5 \" stroke=\"#000000\"/>\n<text fill=\"#000000\" font-family=\"Times,serif\" font-size=\"14.00\" text-anchor=\"middle\" x=\"222\" y=\"-351.8\">InputLayer</text>\n<polyline fill=\"none\" points=\"262,-332.5 262,-378.5 \" stroke=\"#000000\"/>\n<text fill=\"#000000\" font-family=\"Times,serif\" font-size=\"14.00\" text-anchor=\"middle\" x=\"291\" y=\"-363.3\">input:</text>\n<polyline fill=\"none\" points=\"262,-355.5 320,-355.5 \" stroke=\"#000000\"/>\n<text fill=\"#000000\" font-family=\"Times,serif\" font-size=\"14.00\" text-anchor=\"middle\" x=\"291\" y=\"-340.3\">output:</text>\n<polyline fill=\"none\" points=\"320,-332.5 320,-378.5 \" stroke=\"#000000\"/>\n<text fill=\"#000000\" font-family=\"Times,serif\" font-size=\"14.00\" text-anchor=\"middle\" x=\"364.5\" y=\"-363.3\">[(None, 35)]</text>\n<polyline fill=\"none\" points=\"320,-355.5 409,-355.5 \" stroke=\"#000000\"/>\n<text fill=\"#000000\" font-family=\"Times,serif\" font-size=\"14.00\" text-anchor=\"middle\" x=\"364.5\" y=\"-340.3\">[(None, 35)]</text>\n</g>\n<!-- 140642844092048 -->\n<g class=\"node\" id=\"node2\">\n<title>140642844092048</title>\n<polygon fill=\"none\" points=\"54.5,-249.5 54.5,-295.5 402.5,-295.5 402.5,-249.5 54.5,-249.5\" stroke=\"#000000\"/>\n<text fill=\"#000000\" font-family=\"Times,serif\" font-size=\"14.00\" text-anchor=\"middle\" x=\"102.5\" y=\"-268.8\">embedding_1</text>\n<polyline fill=\"none\" points=\"150.5,-249.5 150.5,-295.5 \" stroke=\"#000000\"/>\n<text fill=\"#000000\" font-family=\"Times,serif\" font-size=\"14.00\" text-anchor=\"middle\" x=\"192.5\" y=\"-268.8\">Embedding</text>\n<polyline fill=\"none\" points=\"234.5,-249.5 234.5,-295.5 \" stroke=\"#000000\"/>\n<text fill=\"#000000\" font-family=\"Times,serif\" font-size=\"14.00\" text-anchor=\"middle\" x=\"263.5\" y=\"-280.3\">input:</text>\n<polyline fill=\"none\" points=\"234.5,-272.5 292.5,-272.5 \" stroke=\"#000000\"/>\n<text fill=\"#000000\" font-family=\"Times,serif\" font-size=\"14.00\" text-anchor=\"middle\" x=\"263.5\" y=\"-257.3\">output:</text>\n<polyline fill=\"none\" points=\"292.5,-249.5 292.5,-295.5 \" stroke=\"#000000\"/>\n<text fill=\"#000000\" font-family=\"Times,serif\" font-size=\"14.00\" text-anchor=\"middle\" x=\"347.5\" y=\"-280.3\">(None, 35)</text>\n<polyline fill=\"none\" points=\"292.5,-272.5 402.5,-272.5 \" stroke=\"#000000\"/>\n<text fill=\"#000000\" font-family=\"Times,serif\" font-size=\"14.00\" text-anchor=\"middle\" x=\"347.5\" y=\"-257.3\">(None, 35, 100)</text>\n</g>\n<!-- 140642844146768&#45;&gt;140642844092048 -->\n<g class=\"edge\" id=\"edge1\">\n<title>140642844146768-&gt;140642844092048</title>\n<path d=\"M228.5,-332.3799C228.5,-324.1745 228.5,-314.7679 228.5,-305.8786\" fill=\"none\" stroke=\"#000000\"/>\n<polygon fill=\"#000000\" points=\"232.0001,-305.784 228.5,-295.784 225.0001,-305.784 232.0001,-305.784\" stroke=\"#000000\"/>\n</g>\n<!-- 140642844147344 -->\n<g class=\"node\" id=\"node3\">\n<title>140642844147344</title>\n<polygon fill=\"none\" points=\"0,-166.5 0,-212.5 457,-212.5 457,-166.5 0,-166.5\" stroke=\"#000000\"/>\n<text fill=\"#000000\" font-family=\"Times,serif\" font-size=\"14.00\" text-anchor=\"middle\" x=\"75.5\" y=\"-185.8\">bidirectional_1(lstm_2)</text>\n<polyline fill=\"none\" points=\"151,-166.5 151,-212.5 \" stroke=\"#000000\"/>\n<text fill=\"#000000\" font-family=\"Times,serif\" font-size=\"14.00\" text-anchor=\"middle\" x=\"220\" y=\"-185.8\">Bidirectional(LSTM)</text>\n<polyline fill=\"none\" points=\"289,-166.5 289,-212.5 \" stroke=\"#000000\"/>\n<text fill=\"#000000\" font-family=\"Times,serif\" font-size=\"14.00\" text-anchor=\"middle\" x=\"318\" y=\"-197.3\">input:</text>\n<polyline fill=\"none\" points=\"289,-189.5 347,-189.5 \" stroke=\"#000000\"/>\n<text fill=\"#000000\" font-family=\"Times,serif\" font-size=\"14.00\" text-anchor=\"middle\" x=\"318\" y=\"-174.3\">output:</text>\n<polyline fill=\"none\" points=\"347,-166.5 347,-212.5 \" stroke=\"#000000\"/>\n<text fill=\"#000000\" font-family=\"Times,serif\" font-size=\"14.00\" text-anchor=\"middle\" x=\"402\" y=\"-197.3\">(None, 35, 100)</text>\n<polyline fill=\"none\" points=\"347,-189.5 457,-189.5 \" stroke=\"#000000\"/>\n<text fill=\"#000000\" font-family=\"Times,serif\" font-size=\"14.00\" text-anchor=\"middle\" x=\"402\" y=\"-174.3\">(None, 35, 256)</text>\n</g>\n<!-- 140642844092048&#45;&gt;140642844147344 -->\n<g class=\"edge\" id=\"edge2\">\n<title>140642844092048-&gt;140642844147344</title>\n<path d=\"M228.5,-249.3799C228.5,-241.1745 228.5,-231.7679 228.5,-222.8786\" fill=\"none\" stroke=\"#000000\"/>\n<polygon fill=\"#000000\" points=\"232.0001,-222.784 228.5,-212.784 225.0001,-222.784 232.0001,-222.784\" stroke=\"#000000\"/>\n</g>\n<!-- 140642735544208 -->\n<g class=\"node\" id=\"node4\">\n<title>140642735544208</title>\n<polygon fill=\"none\" points=\"88.5,-83.5 88.5,-129.5 368.5,-129.5 368.5,-83.5 88.5,-83.5\" stroke=\"#000000\"/>\n<text fill=\"#000000\" font-family=\"Times,serif\" font-size=\"14.00\" text-anchor=\"middle\" x=\"116.5\" y=\"-102.8\">lstm_3</text>\n<polyline fill=\"none\" points=\"144.5,-83.5 144.5,-129.5 \" stroke=\"#000000\"/>\n<text fill=\"#000000\" font-family=\"Times,serif\" font-size=\"14.00\" text-anchor=\"middle\" x=\"172.5\" y=\"-102.8\">LSTM</text>\n<polyline fill=\"none\" points=\"200.5,-83.5 200.5,-129.5 \" stroke=\"#000000\"/>\n<text fill=\"#000000\" font-family=\"Times,serif\" font-size=\"14.00\" text-anchor=\"middle\" x=\"229.5\" y=\"-114.3\">input:</text>\n<polyline fill=\"none\" points=\"200.5,-106.5 258.5,-106.5 \" stroke=\"#000000\"/>\n<text fill=\"#000000\" font-family=\"Times,serif\" font-size=\"14.00\" text-anchor=\"middle\" x=\"229.5\" y=\"-91.3\">output:</text>\n<polyline fill=\"none\" points=\"258.5,-83.5 258.5,-129.5 \" stroke=\"#000000\"/>\n<text fill=\"#000000\" font-family=\"Times,serif\" font-size=\"14.00\" text-anchor=\"middle\" x=\"313.5\" y=\"-114.3\">(None, 35, 256)</text>\n<polyline fill=\"none\" points=\"258.5,-106.5 368.5,-106.5 \" stroke=\"#000000\"/>\n<text fill=\"#000000\" font-family=\"Times,serif\" font-size=\"14.00\" text-anchor=\"middle\" x=\"313.5\" y=\"-91.3\">(None, 32)</text>\n</g>\n<!-- 140642844147344&#45;&gt;140642735544208 -->\n<g class=\"edge\" id=\"edge3\">\n<title>140642844147344-&gt;140642735544208</title>\n<path d=\"M228.5,-166.3799C228.5,-158.1745 228.5,-148.7679 228.5,-139.8786\" fill=\"none\" stroke=\"#000000\"/>\n<polygon fill=\"#000000\" points=\"232.0001,-139.784 228.5,-129.784 225.0001,-139.784 232.0001,-139.784\" stroke=\"#000000\"/>\n</g>\n<!-- 140642844186704 -->\n<g class=\"node\" id=\"node5\">\n<title>140642844186704</title>\n<polygon fill=\"none\" points=\"101.5,-.5 101.5,-46.5 355.5,-46.5 355.5,-.5 101.5,-.5\" stroke=\"#000000\"/>\n<text fill=\"#000000\" font-family=\"Times,serif\" font-size=\"14.00\" text-anchor=\"middle\" x=\"133.5\" y=\"-19.8\">dense_1</text>\n<polyline fill=\"none\" points=\"165.5,-.5 165.5,-46.5 \" stroke=\"#000000\"/>\n<text fill=\"#000000\" font-family=\"Times,serif\" font-size=\"14.00\" text-anchor=\"middle\" x=\"191.5\" y=\"-19.8\">Dense</text>\n<polyline fill=\"none\" points=\"217.5,-.5 217.5,-46.5 \" stroke=\"#000000\"/>\n<text fill=\"#000000\" font-family=\"Times,serif\" font-size=\"14.00\" text-anchor=\"middle\" x=\"246.5\" y=\"-31.3\">input:</text>\n<polyline fill=\"none\" points=\"217.5,-23.5 275.5,-23.5 \" stroke=\"#000000\"/>\n<text fill=\"#000000\" font-family=\"Times,serif\" font-size=\"14.00\" text-anchor=\"middle\" x=\"246.5\" y=\"-8.3\">output:</text>\n<polyline fill=\"none\" points=\"275.5,-.5 275.5,-46.5 \" stroke=\"#000000\"/>\n<text fill=\"#000000\" font-family=\"Times,serif\" font-size=\"14.00\" text-anchor=\"middle\" x=\"315.5\" y=\"-31.3\">(None, 32)</text>\n<polyline fill=\"none\" points=\"275.5,-23.5 355.5,-23.5 \" stroke=\"#000000\"/>\n<text fill=\"#000000\" font-family=\"Times,serif\" font-size=\"14.00\" text-anchor=\"middle\" x=\"315.5\" y=\"-8.3\">(None, 1)</text>\n</g>\n<!-- 140642735544208&#45;&gt;140642844186704 -->\n<g class=\"edge\" id=\"edge4\">\n<title>140642735544208-&gt;140642844186704</title>\n<path d=\"M228.5,-83.3799C228.5,-75.1745 228.5,-65.7679 228.5,-56.8786\" fill=\"none\" stroke=\"#000000\"/>\n<polygon fill=\"#000000\" points=\"232.0001,-56.784 228.5,-46.784 225.0001,-56.784 232.0001,-56.784\" stroke=\"#000000\"/>\n</g>\n</g>\n</svg>"
          },
          "metadata": {},
          "execution_count": 84
        }
      ]
    },
    {
      "cell_type": "code",
      "metadata": {
        "colab": {
          "base_uri": "https://localhost:8080/"
        },
        "id": "Nfww6TCdSJN-",
        "outputId": "1395001a-658c-44e9-f179-ae0843f11f4f"
      },
      "source": [
        "print(\"Model Loss : {0}\\nModel Accuracy : {1}\".format(np.round(loss, 4), np.round(acc, 4)))"
      ],
      "execution_count": null,
      "outputs": [
        {
          "output_type": "stream",
          "name": "stdout",
          "text": [
            "Model Loss : 0.3251\n",
            "Model Accuracy : 0.8614\n"
          ]
        }
      ]
    },
    {
      "cell_type": "markdown",
      "metadata": {
        "id": "uGOBqUqfAbI3"
      },
      "source": [
        "---"
      ]
    },
    {
      "cell_type": "markdown",
      "metadata": {
        "id": "iNR7HGtCAWVK"
      },
      "source": [
        "## **Sentiment Analysis of Covid19 Related SNS Postings from NAVER, Twitter**"
      ]
    },
    {
      "cell_type": "code",
      "metadata": {
        "id": "huUL2vXVHo_t"
      },
      "source": [
        "import pandas as pd\n",
        "import numpy as np\n",
        "from tqdm import tqdm"
      ],
      "execution_count": null,
      "outputs": []
    },
    {
      "cell_type": "code",
      "metadata": {
        "id": "QPrp3mekIoMZ"
      },
      "source": [
        "naver_emo = pd.read_excel(\"/content/NAVER_코로나, 감정.xlsx\")\n",
        "naver_mood = pd.read_excel(\"/content/NAVER_코로나, 기분.xlsx\")\n",
        "naver_daily = pd.read_excel(\"/content/NAVER_코로나, 일상.xlsx\")\n",
        "\n",
        "twitter_emo = pd.read_excel(\"/content/Tweets_코로나, 감정.xlsx\")\n",
        "twitter_mood = pd.read_excel(\"/content/Tweets_코로나, 기분.xlsx\")\n",
        "twitter_daily = pd.read_excel(\"/content/Tweets_코로나, 일상.xlsx\")"
      ],
      "execution_count": null,
      "outputs": []
    },
    {
      "cell_type": "code",
      "metadata": {
        "id": "yLP-Fz88IyTH"
      },
      "source": [
        "naver_emo.rename(columns={'Tweets' : 'Contents'}, inplace=True)\n",
        "naver_mood.rename(columns={'Tweets' : 'Contents'}, inplace=True)\n",
        "naver_daily.rename(columns={'Tweets' : 'Contents'}, inplace=True)\n",
        "twitter_emo.rename(columns={'Tweets' : 'Contents'}, inplace=True)\n",
        "twitter_mood.rename(columns={'Tweets' : 'Contents'}, inplace=True)\n",
        "twitter_daily.rename(columns={'Tweets' : 'Contents'}, inplace=True)"
      ],
      "execution_count": null,
      "outputs": []
    },
    {
      "cell_type": "code",
      "metadata": {
        "id": "QCesFPzbJDJT",
        "colab": {
          "base_uri": "https://localhost:8080/",
          "height": 241
        },
        "outputId": "1390ffda-8136-4cc0-edf1-42c7299b135d"
      },
      "source": [
        "naver_emo['Positive'] = 0\n",
        "naver_emo['Negative'] = 0\n",
        "\n",
        "naver_mood['Positive'] = 0\n",
        "naver_mood['Negative'] = 0\n",
        "\n",
        "naver_daily['Positive'] = 0\n",
        "naver_daily['Negative'] = 0\n",
        "\n",
        "twitter_emo['Positive'] = 0\n",
        "twitter_emo['Negative'] = 0\n",
        "\n",
        "twitter_mood['Positive'] = 0\n",
        "twitter_mood['Negative'] = 0\n",
        "\n",
        "twitter_daily['Positive'] = 0\n",
        "twitter_daily['Negative'] = 0"
      ],
      "execution_count": null,
      "outputs": [
        {
          "output_type": "error",
          "ename": "NameError",
          "evalue": "ignored",
          "traceback": [
            "\u001b[0;31m---------------------------------------------------------------------------\u001b[0m",
            "\u001b[0;31mNameError\u001b[0m                                 Traceback (most recent call last)",
            "\u001b[0;32m<ipython-input-1-494b46219ba9>\u001b[0m in \u001b[0;36m<module>\u001b[0;34m()\u001b[0m\n\u001b[0;32m----> 1\u001b[0;31m \u001b[0mnaver_emo\u001b[0m\u001b[0;34m[\u001b[0m\u001b[0;34m'Positive'\u001b[0m\u001b[0;34m]\u001b[0m \u001b[0;34m=\u001b[0m \u001b[0;36m0\u001b[0m\u001b[0;34m\u001b[0m\u001b[0;34m\u001b[0m\u001b[0m\n\u001b[0m\u001b[1;32m      2\u001b[0m \u001b[0mnaver_emo\u001b[0m\u001b[0;34m[\u001b[0m\u001b[0;34m'Negative'\u001b[0m\u001b[0;34m]\u001b[0m \u001b[0;34m=\u001b[0m \u001b[0;36m0\u001b[0m\u001b[0;34m\u001b[0m\u001b[0;34m\u001b[0m\u001b[0m\n\u001b[1;32m      3\u001b[0m \u001b[0;34m\u001b[0m\u001b[0m\n\u001b[1;32m      4\u001b[0m \u001b[0mnaver_mood\u001b[0m\u001b[0;34m[\u001b[0m\u001b[0;34m'Positive'\u001b[0m\u001b[0;34m]\u001b[0m \u001b[0;34m=\u001b[0m \u001b[0;36m0\u001b[0m\u001b[0;34m\u001b[0m\u001b[0;34m\u001b[0m\u001b[0m\n\u001b[1;32m      5\u001b[0m \u001b[0mnaver_mood\u001b[0m\u001b[0;34m[\u001b[0m\u001b[0;34m'Negative'\u001b[0m\u001b[0;34m]\u001b[0m \u001b[0;34m=\u001b[0m \u001b[0;36m0\u001b[0m\u001b[0;34m\u001b[0m\u001b[0;34m\u001b[0m\u001b[0m\n",
            "\u001b[0;31mNameError\u001b[0m: name 'naver_emo' is not defined"
          ]
        }
      ]
    },
    {
      "cell_type": "code",
      "metadata": {
        "colab": {
          "base_uri": "https://localhost:8080/",
          "height": 553
        },
        "id": "aNNv5xS4NcCx",
        "outputId": "2b3d32ca-0ad0-477f-f555-86497917b45a"
      },
      "source": [
        "naver_emo"
      ],
      "execution_count": null,
      "outputs": [
        {
          "output_type": "execute_result",
          "data": {
            "text/html": [
              "<div>\n",
              "<style scoped>\n",
              "    .dataframe tbody tr th:only-of-type {\n",
              "        vertical-align: middle;\n",
              "    }\n",
              "\n",
              "    .dataframe tbody tr th {\n",
              "        vertical-align: top;\n",
              "    }\n",
              "\n",
              "    .dataframe thead th {\n",
              "        text-align: right;\n",
              "    }\n",
              "</style>\n",
              "<table border=\"1\" class=\"dataframe\">\n",
              "  <thead>\n",
              "    <tr style=\"text-align: right;\">\n",
              "      <th></th>\n",
              "      <th>Date</th>\n",
              "      <th>Weekly Frequency</th>\n",
              "      <th>Contents</th>\n",
              "      <th>Positive</th>\n",
              "      <th>Negative</th>\n",
              "    </tr>\n",
              "  </thead>\n",
              "  <tbody>\n",
              "    <tr>\n",
              "      <th>0</th>\n",
              "      <td>20200101</td>\n",
              "      <td>146</td>\n",
              "      <td>['년 월 일 비대면온라인개강성경적감정코칭총신대학교평생교육원 전문교육아카데미', '...</td>\n",
              "      <td>0</td>\n",
              "      <td>0</td>\n",
              "    </tr>\n",
              "    <tr>\n",
              "      <th>1</th>\n",
              "      <td>20200107</td>\n",
              "      <td>166</td>\n",
              "      <td>['스스로 변화를 이끌어내는 셀프코칭 일 감정일기 프로젝트 기 모집 일정 연기', ...</td>\n",
              "      <td>0</td>\n",
              "      <td>0</td>\n",
              "    </tr>\n",
              "    <tr>\n",
              "      <th>2</th>\n",
              "      <td>20200114</td>\n",
              "      <td>164</td>\n",
              "      <td>['왜 나는 항상 먹고나서 후회할까 원데이클래쓰 차 오픈 코로나 사태로 잠정 보류'...</td>\n",
              "      <td>0</td>\n",
              "      <td>0</td>\n",
              "    </tr>\n",
              "    <tr>\n",
              "      <th>3</th>\n",
              "      <td>20200121</td>\n",
              "      <td>890</td>\n",
              "      <td>[' 우한 발생 신종 코로나 바이러스 폐렴 질환 확산과 주식 시장', '신종코로나바...</td>\n",
              "      <td>0</td>\n",
              "      <td>0</td>\n",
              "    </tr>\n",
              "    <tr>\n",
              "      <th>4</th>\n",
              "      <td>20200201</td>\n",
              "      <td>896</td>\n",
              "      <td>[' 감정일기  코로나 바이러스', ' 미국 증시의 이격 조정 그리고 신종 코로나 ...</td>\n",
              "      <td>0</td>\n",
              "      <td>0</td>\n",
              "    </tr>\n",
              "    <tr>\n",
              "      <th>...</th>\n",
              "      <td>...</td>\n",
              "      <td>...</td>\n",
              "      <td>...</td>\n",
              "      <td>...</td>\n",
              "      <td>...</td>\n",
              "    </tr>\n",
              "    <tr>\n",
              "      <th>83</th>\n",
              "      <td>20210921</td>\n",
              "      <td>896</td>\n",
              "      <td>[' 위드코로나 길어질수록 내 감정을 해치는 영향들', '생장일지 감정을 기록하는 ...</td>\n",
              "      <td>0</td>\n",
              "      <td>0</td>\n",
              "    </tr>\n",
              "    <tr>\n",
              "      <th>84</th>\n",
              "      <td>20211001</td>\n",
              "      <td>880</td>\n",
              "      <td>['앵콜전시 화무십일홍 전시  코로나 블루시대 인 작가의 감정과 사유 아트포스터 전...</td>\n",
              "      <td>0</td>\n",
              "      <td>0</td>\n",
              "    </tr>\n",
              "    <tr>\n",
              "      <th>85</th>\n",
              "      <td>20211007</td>\n",
              "      <td>898</td>\n",
              "      <td>['앵콜전시 화무십일홍 전시  코로나 블루시대 인 작가의 감정과 사유 아트포스터 전...</td>\n",
              "      <td>0</td>\n",
              "      <td>0</td>\n",
              "    </tr>\n",
              "    <tr>\n",
              "      <th>86</th>\n",
              "      <td>20211014</td>\n",
              "      <td>894</td>\n",
              "      <td>['일본인  중국 싫다코로나 속  국민감정 역대 최악', '일본인  중국 싫다코로나...</td>\n",
              "      <td>0</td>\n",
              "      <td>0</td>\n",
              "    </tr>\n",
              "    <tr>\n",
              "      <th>87</th>\n",
              "      <td>20211021</td>\n",
              "      <td>894</td>\n",
              "      <td>['일본인  중국 싫다코로나 속  국민감정 역대 최악', '일본인  중국 싫다코로나...</td>\n",
              "      <td>0</td>\n",
              "      <td>0</td>\n",
              "    </tr>\n",
              "  </tbody>\n",
              "</table>\n",
              "<p>88 rows × 5 columns</p>\n",
              "</div>"
            ],
            "text/plain": [
              "        Date  Weekly Frequency  ... Positive  Negative\n",
              "0   20200101               146  ...        0         0\n",
              "1   20200107               166  ...        0         0\n",
              "2   20200114               164  ...        0         0\n",
              "3   20200121               890  ...        0         0\n",
              "4   20200201               896  ...        0         0\n",
              "..       ...               ...  ...      ...       ...\n",
              "83  20210921               896  ...        0         0\n",
              "84  20211001               880  ...        0         0\n",
              "85  20211007               898  ...        0         0\n",
              "86  20211014               894  ...        0         0\n",
              "87  20211021               894  ...        0         0\n",
              "\n",
              "[88 rows x 5 columns]"
            ]
          },
          "metadata": {},
          "execution_count": 76
        }
      ]
    },
    {
      "cell_type": "code",
      "metadata": {
        "id": "--AiDKlfBMqs"
      },
      "source": [
        "def get_sentiment(sen):\n",
        "    sen = okt.morphs(sen, stem=True)\n",
        "    sen = [word for word in sen if word not in stopwords]\n",
        "    encoded = tokenizer.texts_to_sequences([sen])       # label encoding\n",
        "    padded = pad_sequences(encoded, maxlen=padding_len)       # padding\n",
        "    # print(padded)\n",
        "    score = float(model.predict(padded))\n",
        "    if score >= 0.65:\n",
        "        return 1\n",
        "    else:\n",
        "        return -1"
      ],
      "execution_count": null,
      "outputs": []
    },
    {
      "cell_type": "code",
      "metadata": {
        "id": "-gmBWyA-dqW4"
      },
      "source": [
        "pos_sen = []\n",
        "neg_sen = []"
      ],
      "execution_count": null,
      "outputs": []
    },
    {
      "cell_type": "code",
      "metadata": {
        "id": "00QyTQ6tBl4G"
      },
      "source": [
        "def measure_sentiment_for_each_df(df):\n",
        "    for i, contents in tqdm(enumerate(df['Contents'])):\n",
        "        content_list = contents.split(',')\n",
        "\n",
        "        for sen in content_list:\n",
        "            sen = re.sub(r\"[^ㄱ-ㅎㅏ-ㅣ가-힣 ]\", \"\", sen)\n",
        "            tmp_res = get_sentiment(sen)\n",
        "            if tmp_res == 1:\n",
        "                df['Positive'][i] += 1\n",
        "                pos_sen.append(sen)\n",
        "            else:\n",
        "                df['Negative'][i] += 1\n",
        "                neg_sen.append(sen)"
      ],
      "execution_count": null,
      "outputs": []
    },
    {
      "cell_type": "code",
      "metadata": {
        "id": "oRj7a7-ONrP0"
      },
      "source": [
        "pd.options.mode.chained_assignment = None"
      ],
      "execution_count": null,
      "outputs": []
    },
    {
      "cell_type": "code",
      "metadata": {
        "id": "rDVy-0sDqAes"
      },
      "source": [
        "df_list = [twitter_mood, twitter_daily]\n",
        "df_name_list = [\"twitter_mood\", \"twitter_daily\"]\n",
        "# f\"{df_name_list[3]}\""
      ],
      "execution_count": null,
      "outputs": []
    },
    {
      "cell_type": "code",
      "metadata": {
        "colab": {
          "base_uri": "https://localhost:8080/"
        },
        "id": "rs6Mxv_VCWbo",
        "outputId": "e5213b51-46f0-40f1-dafc-7a48cff6609e"
      },
      "source": [
        "i = 0\n",
        "for df in tqdm(df_list):\n",
        "    measure_sentiment_for_each_df(df)\n",
        "    df.to_excel(f\"{df_name_list[i]}.xlsx\")\n",
        "    keywords = {'pos' : [pos_sen], 'neg': [neg_sen]}\n",
        "    keywords_df = pd.DataFrame(keywords)\n",
        "    keywords_df.to_excel(\"categorized_keywords.xlsx\")\n",
        "    i += 1"
      ],
      "execution_count": null,
      "outputs": [
        {
          "output_type": "stream",
          "name": "stderr",
          "text": [
            "  0%|          | 0/2 [00:00<?, ?it/s]\n",
            "0it [00:00, ?it/s]\u001b[A\n",
            "1it [00:01,  1.30s/it]\u001b[A\n",
            "3it [00:01,  2.60it/s]\u001b[A\n",
            "4it [00:03,  1.16it/s]\u001b[A\n",
            "5it [00:12,  3.78s/it]\u001b[A\n",
            "6it [00:21,  5.31s/it]\u001b[A\n",
            "7it [00:33,  7.36s/it]\u001b[A\n",
            "8it [01:01, 13.89s/it]\u001b[A\n",
            "9it [01:31, 18.66s/it]\u001b[A\n",
            "10it [01:59, 21.54s/it]\u001b[A\n",
            "11it [02:26, 23.26s/it]\u001b[A\n",
            "12it [02:53, 24.31s/it]\u001b[A\n",
            "13it [03:14, 23.56s/it]\u001b[A\n",
            "14it [03:36, 23.08s/it]\u001b[A\n",
            "15it [03:54, 21.41s/it]\u001b[A\n",
            "16it [04:11, 20.03s/it]\u001b[A\n",
            "17it [04:21, 17.03s/it]\u001b[A\n",
            "18it [04:39, 17.24s/it]\u001b[A\n",
            "19it [04:52, 16.00s/it]\u001b[A\n",
            "20it [05:08, 16.17s/it]\u001b[A\n",
            "21it [05:17, 14.08s/it]\u001b[A\n",
            "22it [05:29, 13.37s/it]\u001b[A\n",
            "23it [05:38, 12.14s/it]\u001b[A\n",
            "24it [05:47, 11.10s/it]\u001b[A\n",
            "25it [05:55, 10.01s/it]\u001b[A\n",
            "26it [06:02,  9.13s/it]\u001b[A\n",
            "27it [06:08,  8.37s/it]\u001b[A\n",
            "28it [06:14,  7.62s/it]\u001b[A\n",
            "29it [06:19,  6.78s/it]\u001b[A\n",
            "30it [06:25,  6.57s/it]\u001b[A\n",
            "31it [06:48, 11.43s/it]\u001b[A\n",
            "32it [07:15, 16.07s/it]\u001b[A\n",
            "33it [07:31, 16.04s/it]\u001b[A\n",
            "34it [07:46, 15.73s/it]\u001b[A\n",
            "35it [07:57, 14.47s/it]\u001b[A\n",
            "36it [08:08, 13.33s/it]\u001b[A\n",
            "37it [08:15, 11.53s/it]\u001b[A\n",
            "38it [08:24, 10.64s/it]\u001b[A\n",
            "39it [08:30,  9.43s/it]\u001b[A\n",
            "40it [08:37,  8.52s/it]\u001b[A\n",
            "41it [08:42,  7.54s/it]\u001b[A\n",
            "42it [08:46,  6.46s/it]\u001b[A\n",
            "43it [08:53,  6.65s/it]\u001b[A\n",
            "44it [09:04,  7.94s/it]\u001b[A\n",
            "45it [09:17,  9.46s/it]\u001b[A\n",
            "46it [09:32, 11.26s/it]\u001b[A\n",
            "47it [09:47, 12.12s/it]\u001b[A\n",
            "48it [10:01, 12.81s/it]\u001b[A\n",
            "49it [10:10, 11.70s/it]\u001b[A\n",
            "50it [10:18, 10.69s/it]\u001b[A\n",
            "51it [10:26,  9.88s/it]\u001b[A\n",
            "52it [10:35,  9.49s/it]\u001b[A\n",
            "53it [10:42,  8.60s/it]\u001b[A\n",
            "54it [10:47,  7.74s/it]\u001b[A\n",
            "55it [10:53,  7.07s/it]\u001b[A\n",
            "56it [10:59,  6.78s/it]\u001b[A\n",
            "57it [11:04,  6.32s/it]\u001b[A\n",
            "58it [11:08,  5.72s/it]\u001b[A\n",
            "59it [11:15,  5.83s/it]\u001b[A\n",
            "60it [11:20,  5.75s/it]\u001b[A\n",
            "61it [11:24,  5.31s/it]\u001b[A\n",
            "62it [11:31,  5.56s/it]\u001b[A\n",
            "63it [11:37,  5.78s/it]\u001b[A\n",
            "64it [11:43,  6.01s/it]\u001b[A\n",
            "65it [11:48,  5.49s/it]\u001b[A\n",
            "66it [11:54,  5.69s/it]\u001b[A\n",
            "67it [12:00,  5.79s/it]\u001b[A\n",
            "68it [12:05,  5.56s/it]\u001b[A\n",
            "69it [12:10,  5.55s/it]\u001b[A\n",
            "70it [12:15,  5.19s/it]\u001b[A\n",
            "71it [12:21,  5.40s/it]\u001b[A\n",
            "72it [12:24,  4.67s/it]\u001b[A\n",
            "73it [12:28,  4.73s/it]\u001b[A\n",
            "74it [12:45,  8.27s/it]\u001b[A\n",
            "75it [12:57,  9.24s/it]\u001b[A\n",
            "76it [13:06,  9.34s/it]\u001b[A\n",
            "77it [13:13,  8.73s/it]\u001b[A\n",
            "78it [13:24,  9.43s/it]\u001b[A\n",
            "79it [13:33,  9.05s/it]\u001b[A\n",
            "80it [13:43,  9.37s/it]\u001b[A\n",
            "81it [13:49,  8.32s/it]\u001b[A\n",
            "82it [13:57,  8.32s/it]\u001b[A\n",
            "83it [14:06,  8.68s/it]\u001b[A\n",
            "84it [14:15,  8.63s/it]\u001b[A\n",
            "85it [14:22,  8.04s/it]\u001b[A\n",
            "86it [14:29,  7.95s/it]\u001b[A\n",
            "87it [14:36,  7.61s/it]\u001b[A\n",
            "88it [14:44, 10.05s/it]\n",
            " 50%|█████     | 1/2 [14:45<14:45, 885.01s/it]\n",
            "0it [00:00, ?it/s]\u001b[A\n",
            "2it [00:00, 17.78it/s]\u001b[A\n",
            "4it [00:00,  5.88it/s]\u001b[A\n",
            "5it [00:04,  1.17s/it]\u001b[A\n",
            "6it [00:08,  2.15s/it]\u001b[A\n",
            "7it [00:14,  3.20s/it]\u001b[A\n",
            "8it [00:40,  9.99s/it]\u001b[A\n",
            "9it [01:08, 15.57s/it]\u001b[A\n",
            "10it [01:34, 18.69s/it]\u001b[A\n",
            "11it [02:02, 21.36s/it]\u001b[A\n",
            "12it [02:30, 23.27s/it]\u001b[A\n",
            "13it [02:59, 24.97s/it]\u001b[A\n",
            "14it [03:25, 25.44s/it]\u001b[A\n",
            "15it [03:45, 23.84s/it]\u001b[A\n",
            "16it [04:01, 21.49s/it]\u001b[A\n",
            "17it [04:17, 19.61s/it]\u001b[A\n",
            "18it [04:46, 22.59s/it]\u001b[A\n",
            "19it [05:02, 20.61s/it]\u001b[A\n",
            "20it [05:34, 24.01s/it]\u001b[A\n",
            "21it [05:43, 19.65s/it]\u001b[A\n",
            "22it [05:54, 16.91s/it]\u001b[A\n",
            "23it [06:04, 14.80s/it]\u001b[A\n",
            "24it [06:13, 13.21s/it]\u001b[A\n",
            "25it [06:22, 11.82s/it]\u001b[A\n",
            "26it [06:32, 11.15s/it]\u001b[A\n",
            "27it [06:40, 10.44s/it]\u001b[A\n",
            "28it [07:07, 15.23s/it]\u001b[A\n",
            "29it [07:14, 12.80s/it]\u001b[A\n",
            "30it [07:21, 11.17s/it]\u001b[A\n",
            "31it [07:51, 16.76s/it]\u001b[A\n",
            "32it [08:17, 19.48s/it]\u001b[A\n",
            "33it [08:35, 19.11s/it]\u001b[A\n",
            "34it [08:52, 18.49s/it]\u001b[A\n",
            "35it [09:05, 16.70s/it]\u001b[A\n",
            "36it [09:21, 16.48s/it]\u001b[A\n",
            "37it [09:28, 13.87s/it]\u001b[A\n",
            "38it [09:29,  9.93s/it]\u001b[A\n",
            "39it [09:38,  9.58s/it]\u001b[A\n",
            "40it [10:03, 14.35s/it]\u001b[A\n",
            "41it [10:30, 18.05s/it]\u001b[A\n",
            "42it [10:58, 20.92s/it]\u001b[A\n",
            "43it [11:11, 18.55s/it]\u001b[A\n",
            "44it [11:29, 18.62s/it]\u001b[A\n",
            "45it [11:45, 17.69s/it]\u001b[A\n",
            "46it [12:01, 17.25s/it]\u001b[A\n",
            "47it [12:18, 17.02s/it]\u001b[A\n",
            "48it [12:31, 15.91s/it]\u001b[A\n",
            "49it [12:46, 15.74s/it]\u001b[A\n",
            "50it [13:00, 15.08s/it]\u001b[A\n",
            "51it [13:11, 13.93s/it]\u001b[A\n",
            "52it [13:21, 12.81s/it]\u001b[A\n",
            "53it [13:30, 11.41s/it]\u001b[A\n",
            "54it [13:40, 11.00s/it]\u001b[A\n",
            "55it [13:50, 10.74s/it]\u001b[A\n",
            "56it [14:05, 12.17s/it]\u001b[A\n",
            "57it [14:13, 10.75s/it]\u001b[A\n",
            "58it [14:24, 10.85s/it]\u001b[A\n",
            "59it [14:35, 10.88s/it]\u001b[A\n",
            "60it [14:47, 11.18s/it]\u001b[A\n",
            "61it [15:00, 11.95s/it]\u001b[A\n",
            "62it [15:11, 11.65s/it]\u001b[A\n",
            "63it [15:22, 11.40s/it]\u001b[A\n",
            "64it [15:25,  8.81s/it]\u001b[A\n",
            "65it [15:34,  8.80s/it]\u001b[A\n",
            "66it [15:47, 10.18s/it]\u001b[A\n",
            "67it [15:55,  9.53s/it]\u001b[A\n",
            "68it [16:03,  8.98s/it]\u001b[A\n",
            "69it [16:10,  8.34s/it]\u001b[A\n",
            "70it [16:17,  7.99s/it]\u001b[A\n",
            "71it [16:24,  7.72s/it]\u001b[A\n",
            "72it [16:31,  7.54s/it]\u001b[A\n",
            "73it [16:36,  6.79s/it]\u001b[A\n",
            "74it [16:42,  6.55s/it]\u001b[A\n",
            "75it [16:52,  7.58s/it]\u001b[A\n",
            "76it [17:04,  8.93s/it]\u001b[A\n",
            "77it [17:12,  8.71s/it]\u001b[A\n",
            "78it [17:21,  8.64s/it]\u001b[A\n",
            "79it [17:36, 10.58s/it]\u001b[A\n",
            "80it [17:51, 12.05s/it]\u001b[A\n",
            "81it [18:11, 14.23s/it]\u001b[A\n",
            "82it [18:33, 16.66s/it]\u001b[A\n",
            "83it [18:45, 15.29s/it]\u001b[A\n",
            "84it [19:15, 19.84s/it]\u001b[A\n",
            "85it [19:41, 21.51s/it]\u001b[A\n",
            "86it [20:13, 14.11s/it]\n",
            "100%|██████████| 2/2 [34:59<00:00, 1049.80s/it]\n"
          ]
        }
      ]
    },
    {
      "cell_type": "code",
      "metadata": {
        "id": "DXfadmJmbONk"
      },
      "source": [
        "naver_emo\n",
        "# naver_mood\n",
        "# naver_daily\n",
        "\n",
        "# twitter_emo\n",
        "# twitter_mood\n",
        "twitter_daily.to_excel(\"twitter_daily_2.xlsx\")"
      ],
      "execution_count": null,
      "outputs": []
    },
    {
      "cell_type": "code",
      "metadata": {
        "id": "52phowZuqaEA"
      },
      "source": [
        "from tensorflow.python.keras.models import load_model\n",
        "\n",
        "model.load_weights('/content/lstm_model.h5')"
      ],
      "execution_count": null,
      "outputs": []
    },
    {
      "cell_type": "code",
      "metadata": {
        "id": "Vp6RWSzXU6E2"
      },
      "source": [
        ""
      ],
      "execution_count": null,
      "outputs": []
    }
  ]
}